{
  "cells": [
    {
      "cell_type": "markdown",
      "id": "8234ef01",
      "metadata": {
        "id": "8234ef01"
      },
      "source": [
        "# CNN Example in Pytorch\n",
        "## STAT 940\n",
        "\n",
        "### Introduction"
      ]
    },
    {
      "cell_type": "markdown",
      "id": "6ff35406",
      "metadata": {
        "id": "6ff35406"
      },
      "source": [
        "In this tutorial we will train a simple Convolutional Neural Network in following five steps:\n",
        "- Step 1)  Import libraries and set parameters\n",
        "- Step 2) Load and prepare data\n",
        "- Step 3) Model Definition\n",
        "- Step 4) Set up optimizers and loss functions\n",
        "- Step 5) Learning model and fit it on training data\n",
        "\n",
        "Also we will see how to:\n",
        "- Save and load learned models\n",
        "- Predit labels of test data\n",
        "- Check accuracy of model"
      ]
    },
    {
      "cell_type": "markdown",
      "id": "7b7037b7",
      "metadata": {
        "id": "7b7037b7"
      },
      "source": [
        "### STEP 1 - Import libraries and set parameters\n",
        "\n",
        "First, we will import the necessary libraries and packages that are needed for Convolutional Neural Network.\n",
        "- 1) Numpy: NumPy is the fundamental package for scientific computing with Python\n",
        "- 2) torch, torch.nn, torch.nn.functional, torch.optim: Pytorch imports for building custom neural networks containing\n",
        "    - Sequential model type: This provides linear stack of neural network layers and it is usefull in MLP and CNN nets.\n",
        "    - Core layers (Linear, Dropout, ReLU): these layers are used in most neural networks\n",
        "    - Convolutional and maxpooling layers\n",
        "    - data tools: DataSet for custom data sets, DataLoader for loading in data\n",
        "    - optim: optimizers\n",
        "- 3) torchvision: Vision specific Pytorch. Provides useful augmentations, datasets, pretrained models\n",
        "- 4) matplotlib.pyplot: for plotting figures and images"
      ]
    },
    {
      "cell_type": "code",
      "execution_count": 1,
      "id": "746d1fa2",
      "metadata": {
        "id": "746d1fa2"
      },
      "outputs": [],
      "source": [
        "# 1)\n",
        "import numpy as np\n",
        "# 2)\n",
        "import torch     \n",
        "import torch.nn as nn\n",
        "import torch.nn.functional as F\n",
        "import torch.optim as optim\n",
        "from torch.utils.data import DataLoader\n",
        "# 3)\n",
        "import torchvision\n",
        "# 4)\n",
        "import matplotlib.pyplot as plt"
      ]
    },
    {
      "cell_type": "code",
      "execution_count": 2,
      "id": "6656a023",
      "metadata": {
        "colab": {
          "base_uri": "https://localhost:8080/"
        },
        "id": "6656a023",
        "outputId": "d3c1e044-b3fa-40a9-a136-11d4b4a4075e"
      },
      "outputs": [
        {
          "output_type": "execute_result",
          "data": {
            "text/plain": [
              "<torch._C.Generator at 0x7f4c405f5a90>"
            ]
          },
          "metadata": {},
          "execution_count": 2
        }
      ],
      "source": [
        "np.random.seed(940) # set seed for reproducibility (within numpy)\n",
        "torch.manual_seed(940) # set seed for reproducibility (within pytorch)"
      ]
    },
    {
      "cell_type": "markdown",
      "id": "c08eb2bb",
      "metadata": {
        "id": "c08eb2bb"
      },
      "source": [
        "#### Parameters"
      ]
    },
    {
      "cell_type": "code",
      "execution_count": 3,
      "id": "e38e2cc2",
      "metadata": {
        "id": "e38e2cc2"
      },
      "outputs": [],
      "source": [
        "batch_size = 256      #batch size\n",
        "num_classes = 10      #number of classes\n",
        "epochs = 100          #epoch size"
      ]
    },
    {
      "cell_type": "markdown",
      "source": [
        "#### Set-up GPU (optional)\n",
        "\n",
        "Leverage GPUs for faster training of neural networks. This section will help you set up GPUs on Pytorch"
      ],
      "metadata": {
        "id": "DOlDTl5v4l9I"
      },
      "id": "DOlDTl5v4l9I"
    },
    {
      "cell_type": "code",
      "source": [
        "device = torch.device(\"cuda:0\" if torch.cuda.is_available() else \"cpu\") # check is GPU is available\n",
        "print(device)"
      ],
      "metadata": {
        "colab": {
          "base_uri": "https://localhost:8080/"
        },
        "id": "JNqaV2xP4iab",
        "outputId": "682c763d-8980-44f9-dac6-c84fe4c78036"
      },
      "id": "JNqaV2xP4iab",
      "execution_count": 4,
      "outputs": [
        {
          "output_type": "stream",
          "name": "stdout",
          "text": [
            "cuda:0\n"
          ]
        }
      ]
    },
    {
      "cell_type": "markdown",
      "id": "3c66de27",
      "metadata": {
        "id": "3c66de27"
      },
      "source": [
        "### STEP 2 - Load and prepare data"
      ]
    },
    {
      "cell_type": "code",
      "execution_count": 5,
      "id": "f0bbcddf",
      "metadata": {
        "colab": {
          "base_uri": "https://localhost:8080/",
          "height": 136,
          "referenced_widgets": [
            "a6f0d49bac4043f0a63db455d1b5c646",
            "bf42f20c2fb241fb9e3183f12182cf41",
            "e8550cfc08e242698ef47a678516c9e7",
            "8ef63529b3e041f3aaa2cb021eb3964f",
            "9e62ece35fcd4d589b6149cf05d8f7e6",
            "62f611d277e44531a8e69bfbe6acd105",
            "3a1d45eed1cb4e7cbee9f2ce22395da9",
            "687464d828f94239aa54f680deb71688",
            "6ee513a7d37c4fd1905970ff1f771d4f",
            "1503b46304cf4ae88086ff4374242317",
            "a0b65b0a7e4f43719978c80feafe63b8"
          ]
        },
        "id": "f0bbcddf",
        "outputId": "c8f10923-dbab-485a-dd51-faa42bcd43b1"
      },
      "outputs": [
        {
          "output_type": "stream",
          "name": "stdout",
          "text": [
            "Downloading https://www.cs.toronto.edu/~kriz/cifar-10-python.tar.gz to ./cifar-10-python.tar.gz\n"
          ]
        },
        {
          "output_type": "display_data",
          "data": {
            "application/vnd.jupyter.widget-view+json": {
              "model_id": "a6f0d49bac4043f0a63db455d1b5c646",
              "version_minor": 0,
              "version_major": 2
            },
            "text/plain": [
              "  0%|          | 0/170498071 [00:00<?, ?it/s]"
            ]
          },
          "metadata": {}
        },
        {
          "output_type": "stream",
          "name": "stdout",
          "text": [
            "Extracting ./cifar-10-python.tar.gz to ./\n",
            "Files already downloaded and verified\n",
            "# train: 50000\n",
            "# test: 10000\n"
          ]
        }
      ],
      "source": [
        "train = torchvision.datasets.CIFAR10(\"./\", train=True, download=True)\n",
        "test = torchvision.datasets.CIFAR10(\"./\", train=False, download=True)\n",
        "\n",
        "print('# train:', len(train))\n",
        "print(\"# test:\", len(test))"
      ]
    },
    {
      "cell_type": "code",
      "execution_count": 6,
      "id": "56bc29cd",
      "metadata": {
        "colab": {
          "base_uri": "https://localhost:8080/",
          "height": 252
        },
        "id": "56bc29cd",
        "outputId": "be29bc30-f395-427d-ea61-530bc6957992"
      },
      "outputs": [
        {
          "output_type": "display_data",
          "data": {
            "image/png": "[encoded data removed]",
            "text/plain": [
              "<Figure size 432x288 with 100 Axes>"
            ]
          },
          "metadata": {
            "needs_background": "light"
          }
        }
      ],
      "source": [
        "# show some images\n",
        "plt.figure()                                      # create new figure\n",
        "fig_size = [20, 20]                               # specify figure size\n",
        "plt.rcParams[\"figure.figsize\"] = fig_size         # set figure size\n",
        "\n",
        "#Plot firs 100 train image of dataset\n",
        "for i in range(1,101):                          \n",
        "    ax = plt.subplot(10, 10, i)                   # Specify the i'th subplot of a 10*10 grid\n",
        "    img = train[i][0]                             # train[i][0] is the image, train[i][1] is the label\n",
        "    ax.get_xaxis().set_visible(False)             # Disable plot axis.\n",
        "    ax.get_yaxis().set_visible(False)\n",
        "    plt.imshow(img)\n",
        "    \n",
        "plt.show()"
      ]
    },
    {
      "cell_type": "markdown",
      "id": "6b32f8b2",
      "metadata": {
        "id": "6b32f8b2"
      },
      "source": [
        "#### Prepare Data"
      ]
    },
    {
      "cell_type": "code",
      "execution_count": 7,
      "id": "af1fd65a",
      "metadata": {
        "colab": {
          "base_uri": "https://localhost:8080/"
        },
        "id": "af1fd65a",
        "outputId": "92224221-e507-45d4-85bb-7f206c5fdc30"
      },
      "outputs": [
        {
          "output_type": "stream",
          "name": "stdout",
          "text": [
            "Files already downloaded and verified\n",
            "Files already downloaded and verified\n"
          ]
        }
      ],
      "source": [
        "# transforms\n",
        "# first convert image to tensor with values in [0, 1]\n",
        "# normalize image over all channels to be between [-1, 1]\n",
        "\n",
        "transform = torchvision.transforms.Compose([\n",
        "    torchvision.transforms.ToTensor(),\n",
        "    torchvision.transforms.Normalize((0.5, 0.5, 0.5), (0.5, 0.5, 0.5))\n",
        "])\n",
        "\n",
        "# attach transforms to dataset\n",
        "train = torchvision.datasets.CIFAR10(\"./\", train=True, transform=transform, download=True)\n",
        "test = torchvision.datasets.CIFAR10(\"./\", train=False, transform=transform, download=True)\n",
        "\n",
        "train_loader = DataLoader(train, batch_size=batch_size, shuffle=True) # shuffle training examples\n",
        "test_loader = DataLoader(test, batch_size=batch_size, shuffle=False) # don't shuffle test set"
      ]
    },
    {
      "cell_type": "markdown",
      "id": "8154d3e1",
      "metadata": {
        "id": "8154d3e1"
      },
      "source": [
        "### STEP 3 - Model Definition\n",
        "Here, we will define a very simple Convolutional Neural Network, consist of three convolutional, MaxPooling and Dropout layers. Also, it ends up with two dense layers. ReLU activation function is used in all layers. A softmax layer is used in the last layer of the network.\n",
        "\n",
        "Kernel size of each convolutional layer is:\n",
        "\n",
        "Conv1 ===> 3 &#10005; 3 &#10005; 3 (we have 20 kernels in this size for the first convolutional layer)\n",
        "\n",
        "Conv2 ===> 3 &#10005; 3 &#10005; 20 (we have 50 kernels in this size for the second convolutional layer)\n",
        "\n",
        "Conv3 ===> 3 &#10005; 3 &#10005; 50 (we have 100 kernels in this size for the third convolutional layer)"
      ]
    },
    {
      "cell_type": "code",
      "execution_count": 8,
      "id": "ef29fdc3",
      "metadata": {
        "id": "ef29fdc3"
      },
      "outputs": [],
      "source": [
        "# with logging\n",
        "class Net_verbose(nn.Module):\n",
        "    def __init__(self):\n",
        "        super().__init__()\n",
        "        # convolutional layers\n",
        "        self.conv1 = nn.Conv2d(in_channels=3, out_channels=20, kernel_size=(3, 3))\n",
        "        self.conv2 = nn.Conv2d(in_channels=20, out_channels=50, kernel_size=(3, 3))\n",
        "        self.conv3 = nn.Conv2d(in_channels=50, out_channels=100, kernel_size=(3, 3))\n",
        "        \n",
        "        # max pool layer\n",
        "        self.pool = nn.MaxPool2d(2, 2)\n",
        "        \n",
        "        # dropout layer\n",
        "        self.dropout = nn.Dropout(p=0.25)\n",
        "        \n",
        "        # ReLU activation\n",
        "        self.relu = nn.ReLU()\n",
        "        \n",
        "        # dense layers\n",
        "        self.fc1 = nn.Linear(400, 512)\n",
        "        self.fc2 = nn.Linear(512, num_classes)\n",
        "\n",
        "    def forward(self, x):\n",
        "        print(\"Input Shape:\", x.shape)\n",
        "        x = self.pool(self.relu(self.conv1(x)))\n",
        "        print(\"Shape after conv layer 1:\", x.shape)\n",
        "        x = self.pool(self.relu(self.conv2(x)))\n",
        "        print(\"Shape after conv layer 2:\", x.shape)\n",
        "        x = self.pool(self.relu(self.conv3(x)))\n",
        "        print(\"Shape after conv layer 3:\", x.shape)\n",
        "        x = torch.flatten(x, 1) # flatten all dimensions except batch\n",
        "        print(\"Shape after flatten:\", x.shape)\n",
        "        x = self.relu(self.fc1(x))\n",
        "        print(\"Shape after dense layer 1:\", x.shape)\n",
        "        x = self.relu(self.fc2(x))\n",
        "        print(\"Shape after dense layer 2:\", x.shape)\n",
        "        return x\n",
        "    \n",
        "# without logging\n",
        "class Net(nn.Module):\n",
        "    def __init__(self):\n",
        "        super().__init__()\n",
        "        # convolutional layers\n",
        "        self.conv1 = nn.Conv2d(in_channels=3, out_channels=20, kernel_size=(3, 3))\n",
        "        self.conv2 = nn.Conv2d(in_channels=20, out_channels=50, kernel_size=(3, 3))\n",
        "        self.conv3 = nn.Conv2d(in_channels=50, out_channels=100, kernel_size=(3, 3))\n",
        "        \n",
        "        # max pool layer\n",
        "        self.pool = nn.MaxPool2d(2, 2)\n",
        "        \n",
        "        # dropout layer\n",
        "        self.dropout = nn.Dropout(p=0.25)\n",
        "        \n",
        "        # ReLU activation\n",
        "        self.relu = nn.ReLU()\n",
        "        \n",
        "        # dense layers\n",
        "        self.fc1 = nn.Linear(400, 512)\n",
        "        self.fc2 = nn.Linear(512, num_classes)\n",
        "\n",
        "    def forward(self, x):\n",
        "        \n",
        "        x = self.pool(self.relu(self.conv1(x)))\n",
        "        \n",
        "        x = self.pool(self.relu(self.conv2(x)))\n",
        "        \n",
        "        x = self.pool(self.relu(self.conv3(x)))\n",
        "        \n",
        "        x = torch.flatten(x, 1) # flatten all dimensions except batch\n",
        "        \n",
        "        x = self.relu(self.fc1(x))\n",
        "        \n",
        "        x = self.relu(self.fc2(x))\n",
        "        \n",
        "        return x\n",
        "\n"
      ]
    },
    {
      "cell_type": "code",
      "execution_count": 9,
      "id": "6a436aaf",
      "metadata": {
        "colab": {
          "base_uri": "https://localhost:8080/"
        },
        "id": "6a436aaf",
        "outputId": "1e3e75a2-9f63-4d65-d636-ea0a1eed9800"
      },
      "outputs": [
        {
          "output_type": "stream",
          "name": "stdout",
          "text": [
            "Batch shape (image):  torch.Size([256, 3, 32, 32])\n",
            "Batch shape (label):  torch.Size([256])\n",
            "Input Shape: torch.Size([256, 3, 32, 32])\n",
            "Shape after conv layer 1: torch.Size([256, 20, 15, 15])\n",
            "Shape after conv layer 2: torch.Size([256, 50, 6, 6])\n",
            "Shape after conv layer 3: torch.Size([256, 100, 2, 2])\n",
            "Shape after flatten: torch.Size([256, 400])\n",
            "Shape after dense layer 1: torch.Size([256, 512])\n",
            "Shape after dense layer 2: torch.Size([256, 10])\n",
            "Output shape: torch.Size([256, 10])\n"
          ]
        }
      ],
      "source": [
        "net = Net_verbose()\n",
        "\n",
        "# test out on one batch of images - each batch is given as a list of [Images, Labels]\n",
        "batch = next(iter(train_loader))\n",
        "images = batch[0]\n",
        "labels = batch[1]\n",
        "\n",
        "print(\"Batch shape (image): \", images.shape)\n",
        "print(\"Batch shape (label): \", labels.shape)\n",
        "\n",
        "# feed batch to model\n",
        "output = net(images)\n",
        "print(\"Output shape:\", output.shape)"
      ]
    },
    {
      "cell_type": "code",
      "execution_count": 13,
      "id": "b4e89092",
      "metadata": {
        "colab": {
          "base_uri": "https://localhost:8080/"
        },
        "id": "b4e89092",
        "outputId": "762795a9-b6f2-4fd0-c73d-6d094992d303"
      },
      "outputs": [
        {
          "output_type": "stream",
          "name": "stdout",
          "text": [
            "Net(\n",
            "  (conv1): Conv2d(3, 20, kernel_size=(3, 3), stride=(1, 1))\n",
            "  (conv2): Conv2d(20, 50, kernel_size=(3, 3), stride=(1, 1))\n",
            "  (conv3): Conv2d(50, 100, kernel_size=(3, 3), stride=(1, 1))\n",
            "  (pool): MaxPool2d(kernel_size=2, stride=2, padding=0, dilation=1, ceil_mode=False)\n",
            "  (dropout): Dropout(p=0.25, inplace=False)\n",
            "  (relu): ReLU()\n",
            "  (fc1): Linear(in_features=400, out_features=512, bias=True)\n",
            "  (fc2): Linear(in_features=512, out_features=10, bias=True)\n",
            ")\n"
          ]
        }
      ],
      "source": [
        "# model summary (without logging)\n",
        "net = Net()\n",
        "net = net.to(device) # move model to GPU\n",
        "print(net)"
      ]
    },
    {
      "cell_type": "markdown",
      "id": "4f1c4e75",
      "metadata": {
        "id": "4f1c4e75"
      },
      "source": [
        "### STEP 4 - Set up optimizers and loss functions"
      ]
    },
    {
      "cell_type": "code",
      "execution_count": 14,
      "id": "8a2d7f09",
      "metadata": {
        "id": "8a2d7f09"
      },
      "outputs": [],
      "source": [
        "criterion = nn.CrossEntropyLoss() # cross entropy loss for loss function\n",
        "optimizer = optim.SGD(net.parameters(), lr=0.001, momentum=0.9) # stochastic gradient descent as optimizer"
      ]
    },
    {
      "cell_type": "markdown",
      "id": "1aa085c9",
      "metadata": {
        "id": "1aa085c9"
      },
      "source": [
        "#### Training Loop"
      ]
    },
    {
      "cell_type": "code",
      "execution_count": 25,
      "id": "7bca6a88",
      "metadata": {
        "colab": {
          "base_uri": "https://localhost:8080/"
        },
        "id": "7bca6a88",
        "outputId": "ac20a87b-696c-4817-f287-1195081afb44"
      },
      "outputs": [
        {
          "output_type": "stream",
          "name": "stdout",
          "text": [
            "[1,     1] loss: 0.029\n",
            "[1,    51] loss: 1.361\n",
            "[1,   101] loss: 1.357\n",
            "[1,   151] loss: 1.356\n",
            "[2,     1] loss: 0.027\n",
            "[2,    51] loss: 1.348\n",
            "[2,   101] loss: 1.343\n",
            "[2,   151] loss: 1.337\n",
            "[3,     1] loss: 0.027\n",
            "[3,    51] loss: 1.322\n",
            "[3,   101] loss: 1.323\n",
            "[3,   151] loss: 1.315\n",
            "[4,     1] loss: 0.025\n",
            "[4,    51] loss: 1.298\n",
            "[4,   101] loss: 1.308\n",
            "[4,   151] loss: 1.294\n",
            "[5,     1] loss: 0.026\n",
            "[5,    51] loss: 1.304\n",
            "[5,   101] loss: 1.286\n",
            "[5,   151] loss: 1.287\n",
            "[6,     1] loss: 0.026\n",
            "[6,    51] loss: 1.277\n",
            "[6,   101] loss: 1.263\n",
            "[6,   151] loss: 1.255\n",
            "[7,     1] loss: 0.025\n",
            "[7,    51] loss: 1.269\n",
            "[7,   101] loss: 1.250\n",
            "[7,   151] loss: 1.256\n",
            "[8,     1] loss: 0.024\n",
            "[8,    51] loss: 1.211\n",
            "[8,   101] loss: 1.264\n",
            "[8,   151] loss: 1.243\n",
            "[9,     1] loss: 0.022\n",
            "[9,    51] loss: 1.226\n",
            "[9,   101] loss: 1.222\n",
            "[9,   151] loss: 1.218\n",
            "[10,     1] loss: 0.023\n",
            "[10,    51] loss: 1.205\n",
            "[10,   101] loss: 1.207\n",
            "[10,   151] loss: 1.216\n",
            "[11,     1] loss: 0.026\n",
            "[11,    51] loss: 1.183\n",
            "[11,   101] loss: 1.205\n",
            "[11,   151] loss: 1.208\n",
            "[12,     1] loss: 0.024\n",
            "[12,    51] loss: 1.196\n",
            "[12,   101] loss: 1.181\n",
            "[12,   151] loss: 1.166\n",
            "[13,     1] loss: 0.022\n",
            "[13,    51] loss: 1.175\n",
            "[13,   101] loss: 1.156\n",
            "[13,   151] loss: 1.166\n",
            "[14,     1] loss: 0.024\n",
            "[14,    51] loss: 1.170\n",
            "[14,   101] loss: 1.147\n",
            "[14,   151] loss: 1.154\n",
            "[15,     1] loss: 0.021\n",
            "[15,    51] loss: 1.149\n",
            "[15,   101] loss: 1.132\n",
            "[15,   151] loss: 1.130\n",
            "[16,     1] loss: 0.022\n",
            "[16,    51] loss: 1.126\n",
            "[16,   101] loss: 1.129\n",
            "[16,   151] loss: 1.124\n",
            "[17,     1] loss: 0.021\n",
            "[17,    51] loss: 1.116\n",
            "[17,   101] loss: 1.122\n",
            "[17,   151] loss: 1.124\n",
            "[18,     1] loss: 0.024\n",
            "[18,    51] loss: 1.114\n",
            "[18,   101] loss: 1.113\n",
            "[18,   151] loss: 1.105\n",
            "[19,     1] loss: 0.021\n",
            "[19,    51] loss: 1.100\n",
            "[19,   101] loss: 1.101\n",
            "[19,   151] loss: 1.099\n",
            "[20,     1] loss: 0.024\n",
            "[20,    51] loss: 1.073\n",
            "[20,   101] loss: 1.100\n",
            "[20,   151] loss: 1.090\n",
            "[21,     1] loss: 0.021\n",
            "[21,    51] loss: 1.068\n",
            "[21,   101] loss: 1.071\n",
            "[21,   151] loss: 1.082\n",
            "[22,     1] loss: 0.022\n",
            "[22,    51] loss: 1.055\n",
            "[22,   101] loss: 1.073\n",
            "[22,   151] loss: 1.066\n",
            "[23,     1] loss: 0.022\n",
            "[23,    51] loss: 1.053\n",
            "[23,   101] loss: 1.056\n",
            "[23,   151] loss: 1.040\n",
            "[24,     1] loss: 0.022\n",
            "[24,    51] loss: 1.054\n",
            "[24,   101] loss: 1.048\n",
            "[24,   151] loss: 1.036\n",
            "[25,     1] loss: 0.021\n",
            "[25,    51] loss: 1.018\n",
            "[25,   101] loss: 1.041\n",
            "[25,   151] loss: 1.035\n",
            "[26,     1] loss: 0.022\n",
            "[26,    51] loss: 1.023\n",
            "[26,   101] loss: 1.013\n",
            "[26,   151] loss: 1.026\n",
            "[27,     1] loss: 0.019\n",
            "[27,    51] loss: 1.017\n",
            "[27,   101] loss: 1.032\n",
            "[27,   151] loss: 1.001\n",
            "[28,     1] loss: 0.021\n",
            "[28,    51] loss: 0.995\n",
            "[28,   101] loss: 1.016\n",
            "[28,   151] loss: 0.997\n",
            "[29,     1] loss: 0.022\n",
            "[29,    51] loss: 1.004\n",
            "[29,   101] loss: 0.990\n",
            "[29,   151] loss: 0.982\n",
            "[30,     1] loss: 0.021\n",
            "[30,    51] loss: 0.989\n",
            "[30,   101] loss: 0.983\n",
            "[30,   151] loss: 0.985\n",
            "[31,     1] loss: 0.021\n",
            "[31,    51] loss: 0.957\n",
            "[31,   101] loss: 0.987\n",
            "[31,   151] loss: 0.980\n",
            "[32,     1] loss: 0.018\n",
            "[32,    51] loss: 0.960\n",
            "[32,   101] loss: 0.960\n",
            "[32,   151] loss: 0.979\n",
            "[33,     1] loss: 0.019\n",
            "[33,    51] loss: 0.954\n",
            "[33,   101] loss: 0.959\n",
            "[33,   151] loss: 0.960\n",
            "[34,     1] loss: 0.020\n",
            "[34,    51] loss: 0.942\n",
            "[34,   101] loss: 0.955\n",
            "[34,   151] loss: 0.954\n",
            "[35,     1] loss: 0.018\n",
            "[35,    51] loss: 0.948\n",
            "[35,   101] loss: 0.943\n",
            "[35,   151] loss: 0.928\n",
            "[36,     1] loss: 0.016\n",
            "[36,    51] loss: 0.926\n",
            "[36,   101] loss: 0.955\n",
            "[36,   151] loss: 0.950\n",
            "[37,     1] loss: 0.017\n",
            "[37,    51] loss: 0.919\n",
            "[37,   101] loss: 0.934\n",
            "[37,   151] loss: 0.932\n",
            "[38,     1] loss: 0.020\n",
            "[38,    51] loss: 0.933\n",
            "[38,   101] loss: 0.913\n",
            "[38,   151] loss: 0.936\n",
            "[39,     1] loss: 0.019\n",
            "[39,    51] loss: 0.909\n",
            "[39,   101] loss: 0.912\n",
            "[39,   151] loss: 0.926\n",
            "[40,     1] loss: 0.019\n",
            "[40,    51] loss: 0.912\n",
            "[40,   101] loss: 0.906\n",
            "[40,   151] loss: 0.899\n",
            "[41,     1] loss: 0.017\n",
            "[41,    51] loss: 0.899\n",
            "[41,   101] loss: 0.900\n",
            "[41,   151] loss: 0.874\n",
            "[42,     1] loss: 0.018\n",
            "[42,    51] loss: 0.907\n",
            "[42,   101] loss: 0.890\n",
            "[42,   151] loss: 0.899\n",
            "[43,     1] loss: 0.017\n",
            "[43,    51] loss: 0.882\n",
            "[43,   101] loss: 0.893\n",
            "[43,   151] loss: 0.885\n",
            "[44,     1] loss: 0.017\n",
            "[44,    51] loss: 0.873\n",
            "[44,   101] loss: 0.887\n",
            "[44,   151] loss: 0.892\n",
            "[45,     1] loss: 0.017\n",
            "[45,    51] loss: 0.881\n",
            "[45,   101] loss: 0.879\n",
            "[45,   151] loss: 0.861\n",
            "[46,     1] loss: 0.017\n",
            "[46,    51] loss: 0.860\n",
            "[46,   101] loss: 0.862\n",
            "[46,   151] loss: 0.872\n",
            "[47,     1] loss: 0.017\n",
            "[47,    51] loss: 0.864\n",
            "[47,   101] loss: 0.863\n",
            "[47,   151] loss: 0.844\n",
            "[48,     1] loss: 0.017\n",
            "[48,    51] loss: 0.848\n",
            "[48,   101] loss: 0.870\n",
            "[48,   151] loss: 0.839\n",
            "[49,     1] loss: 0.018\n",
            "[49,    51] loss: 0.856\n",
            "[49,   101] loss: 0.849\n",
            "[49,   151] loss: 0.836\n",
            "[50,     1] loss: 0.018\n",
            "[50,    51] loss: 0.836\n",
            "[50,   101] loss: 0.841\n",
            "[50,   151] loss: 0.846\n",
            "[51,     1] loss: 0.018\n",
            "[51,    51] loss: 0.837\n",
            "[51,   101] loss: 0.827\n",
            "[51,   151] loss: 0.832\n",
            "[52,     1] loss: 0.015\n",
            "[52,    51] loss: 0.821\n",
            "[52,   101] loss: 0.829\n",
            "[52,   151] loss: 0.838\n",
            "[53,     1] loss: 0.015\n",
            "[53,    51] loss: 0.827\n",
            "[53,   101] loss: 0.818\n",
            "[53,   151] loss: 0.817\n",
            "[54,     1] loss: 0.018\n",
            "[54,    51] loss: 0.821\n",
            "[54,   101] loss: 0.800\n",
            "[54,   151] loss: 0.819\n",
            "[55,     1] loss: 0.016\n",
            "[55,    51] loss: 0.814\n",
            "[55,   101] loss: 0.797\n",
            "[55,   151] loss: 0.814\n",
            "[56,     1] loss: 0.017\n",
            "[56,    51] loss: 0.797\n",
            "[56,   101] loss: 0.803\n",
            "[56,   151] loss: 0.803\n",
            "[57,     1] loss: 0.016\n",
            "[57,    51] loss: 0.787\n",
            "[57,   101] loss: 0.789\n",
            "[57,   151] loss: 0.799\n",
            "[58,     1] loss: 0.015\n",
            "[58,    51] loss: 0.771\n",
            "[58,   101] loss: 0.786\n",
            "[58,   151] loss: 0.802\n",
            "[59,     1] loss: 0.014\n",
            "[59,    51] loss: 0.791\n",
            "[59,   101] loss: 0.776\n",
            "[59,   151] loss: 0.793\n",
            "[60,     1] loss: 0.014\n",
            "[60,    51] loss: 0.764\n",
            "[60,   101] loss: 0.776\n",
            "[60,   151] loss: 0.777\n",
            "[61,     1] loss: 0.014\n",
            "[61,    51] loss: 0.760\n",
            "[61,   101] loss: 0.785\n",
            "[61,   151] loss: 0.781\n",
            "[62,     1] loss: 0.014\n",
            "[62,    51] loss: 0.745\n",
            "[62,   101] loss: 0.773\n",
            "[62,   151] loss: 0.766\n",
            "[63,     1] loss: 0.014\n",
            "[63,    51] loss: 0.739\n",
            "[63,   101] loss: 0.778\n",
            "[63,   151] loss: 0.771\n",
            "[64,     1] loss: 0.015\n",
            "[64,    51] loss: 0.759\n",
            "[64,   101] loss: 0.754\n",
            "[64,   151] loss: 0.751\n",
            "[65,     1] loss: 0.016\n",
            "[65,    51] loss: 0.741\n",
            "[65,   101] loss: 0.755\n",
            "[65,   151] loss: 0.754\n",
            "[66,     1] loss: 0.012\n",
            "[66,    51] loss: 0.743\n",
            "[66,   101] loss: 0.741\n",
            "[66,   151] loss: 0.752\n",
            "[67,     1] loss: 0.014\n",
            "[67,    51] loss: 0.742\n",
            "[67,   101] loss: 0.728\n",
            "[67,   151] loss: 0.723\n",
            "[68,     1] loss: 0.013\n",
            "[68,    51] loss: 0.736\n",
            "[68,   101] loss: 0.727\n",
            "[68,   151] loss: 0.728\n",
            "[69,     1] loss: 0.015\n",
            "[69,    51] loss: 0.716\n",
            "[69,   101] loss: 0.726\n",
            "[69,   151] loss: 0.716\n",
            "[70,     1] loss: 0.013\n",
            "[70,    51] loss: 0.727\n",
            "[70,   101] loss: 0.712\n",
            "[70,   151] loss: 0.718\n",
            "[71,     1] loss: 0.015\n",
            "[71,    51] loss: 0.702\n",
            "[71,   101] loss: 0.711\n",
            "[71,   151] loss: 0.726\n",
            "[72,     1] loss: 0.013\n",
            "[72,    51] loss: 0.712\n",
            "[72,   101] loss: 0.700\n",
            "[72,   151] loss: 0.709\n",
            "[73,     1] loss: 0.013\n",
            "[73,    51] loss: 0.702\n",
            "[73,   101] loss: 0.692\n",
            "[73,   151] loss: 0.714\n",
            "[74,     1] loss: 0.014\n",
            "[74,    51] loss: 0.694\n",
            "[74,   101] loss: 0.696\n",
            "[74,   151] loss: 0.721\n",
            "[75,     1] loss: 0.013\n",
            "[75,    51] loss: 0.697\n",
            "[75,   101] loss: 0.680\n",
            "[75,   151] loss: 0.697\n",
            "[76,     1] loss: 0.013\n",
            "[76,    51] loss: 0.676\n",
            "[76,   101] loss: 0.693\n",
            "[76,   151] loss: 0.680\n",
            "[77,     1] loss: 0.012\n",
            "[77,    51] loss: 0.666\n",
            "[77,   101] loss: 0.675\n",
            "[77,   151] loss: 0.693\n",
            "[78,     1] loss: 0.014\n",
            "[78,    51] loss: 0.691\n",
            "[78,   101] loss: 0.656\n",
            "[78,   151] loss: 0.663\n",
            "[79,     1] loss: 0.011\n",
            "[79,    51] loss: 0.659\n",
            "[79,   101] loss: 0.681\n",
            "[79,   151] loss: 0.667\n",
            "[80,     1] loss: 0.012\n",
            "[80,    51] loss: 0.667\n",
            "[80,   101] loss: 0.667\n",
            "[80,   151] loss: 0.665\n",
            "[81,     1] loss: 0.013\n",
            "[81,    51] loss: 0.637\n",
            "[81,   101] loss: 0.658\n",
            "[81,   151] loss: 0.673\n",
            "[82,     1] loss: 0.012\n",
            "[82,    51] loss: 0.652\n",
            "[82,   101] loss: 0.658\n",
            "[82,   151] loss: 0.647\n",
            "[83,     1] loss: 0.014\n",
            "[83,    51] loss: 0.629\n",
            "[83,   101] loss: 0.651\n",
            "[83,   151] loss: 0.642\n",
            "[84,     1] loss: 0.011\n",
            "[84,    51] loss: 0.636\n",
            "[84,   101] loss: 0.649\n",
            "[84,   151] loss: 0.649\n",
            "[85,     1] loss: 0.012\n",
            "[85,    51] loss: 0.627\n",
            "[85,   101] loss: 0.625\n",
            "[85,   151] loss: 0.648\n",
            "[86,     1] loss: 0.011\n",
            "[86,    51] loss: 0.634\n",
            "[86,   101] loss: 0.638\n",
            "[86,   151] loss: 0.640\n",
            "[87,     1] loss: 0.012\n",
            "[87,    51] loss: 0.623\n",
            "[87,   101] loss: 0.617\n",
            "[87,   151] loss: 0.633\n",
            "[88,     1] loss: 0.010\n",
            "[88,    51] loss: 0.622\n",
            "[88,   101] loss: 0.624\n",
            "[88,   151] loss: 0.620\n",
            "[89,     1] loss: 0.014\n",
            "[89,    51] loss: 0.615\n",
            "[89,   101] loss: 0.599\n",
            "[89,   151] loss: 0.625\n",
            "[90,     1] loss: 0.011\n",
            "[90,    51] loss: 0.606\n",
            "[90,   101] loss: 0.611\n",
            "[90,   151] loss: 0.621\n",
            "[91,     1] loss: 0.012\n",
            "[91,    51] loss: 0.593\n",
            "[91,   101] loss: 0.597\n",
            "[91,   151] loss: 0.605\n",
            "[92,     1] loss: 0.012\n",
            "[92,    51] loss: 0.584\n",
            "[92,   101] loss: 0.600\n",
            "[92,   151] loss: 0.607\n",
            "[93,     1] loss: 0.013\n",
            "[93,    51] loss: 0.606\n",
            "[93,   101] loss: 0.570\n",
            "[93,   151] loss: 0.593\n",
            "[94,     1] loss: 0.010\n",
            "[94,    51] loss: 0.590\n",
            "[94,   101] loss: 0.565\n",
            "[94,   151] loss: 0.580\n",
            "[95,     1] loss: 0.011\n",
            "[95,    51] loss: 0.570\n",
            "[95,   101] loss: 0.578\n",
            "[95,   151] loss: 0.588\n",
            "[96,     1] loss: 0.010\n",
            "[96,    51] loss: 0.577\n",
            "[96,   101] loss: 0.582\n",
            "[96,   151] loss: 0.573\n",
            "[97,     1] loss: 0.013\n",
            "[97,    51] loss: 0.558\n",
            "[97,   101] loss: 0.563\n",
            "[97,   151] loss: 0.581\n",
            "[98,     1] loss: 0.011\n",
            "[98,    51] loss: 0.575\n",
            "[98,   101] loss: 0.577\n",
            "[98,   151] loss: 0.570\n",
            "[99,     1] loss: 0.012\n",
            "[99,    51] loss: 0.550\n",
            "[99,   101] loss: 0.556\n",
            "[99,   151] loss: 0.564\n",
            "[100,     1] loss: 0.013\n",
            "[100,    51] loss: 0.548\n",
            "[100,   101] loss: 0.568\n",
            "[100,   151] loss: 0.550\n",
            "Finished Training\n"
          ]
        }
      ],
      "source": [
        "for epoch in range(epochs):  # loop over the dataset multiple times\n",
        "\n",
        "    running_loss = 0.0\n",
        "    for i, data in enumerate(train_loader):\n",
        "        # get the inputs; data is a list of [inputs, labels]\n",
        "        inputs, labels = data\n",
        "        # move the data to GPU\n",
        "        inputs = inputs.to(device)\n",
        "        labels = labels.to(device)\n",
        "\n",
        "        # zero the parameter gradients\n",
        "        optimizer.zero_grad()\n",
        "\n",
        "        # forward + backward + optimize\n",
        "        outputs = net(inputs)\n",
        "        loss = criterion(outputs, labels)\n",
        "        loss.backward()\n",
        "        optimizer.step()\n",
        "\n",
        "        # print statistics\n",
        "        running_loss += loss.item()\n",
        "        if i % 50 == 0:    # print every 10 mini-batches\n",
        "            print(f'[{epoch + 1}, {i + 1:5d}] loss: {running_loss / 50:.3f}')\n",
        "            running_loss = 0.0\n",
        "\n",
        "print('Finished Training')"
      ]
    },
    {
      "cell_type": "markdown",
      "source": [
        "### Save the model and load the model"
      ],
      "metadata": {
        "id": "tah81zOu_88p"
      },
      "id": "tah81zOu_88p"
    },
    {
      "cell_type": "code",
      "execution_count": 36,
      "id": "b4a380ad",
      "metadata": {
        "id": "b4a380ad"
      },
      "outputs": [],
      "source": [
        "PATH = './cifar_net.pth'\n",
        "\n",
        "torch.save(net.state_dict(), PATH) # save model to path\n",
        "\n",
        "net = Net() # create new network\n",
        "net.load_state_dict(torch.load(PATH)) # load the weights of saved model\n",
        "net = net.to(device) # move network to gpu"
      ]
    },
    {
      "cell_type": "markdown",
      "source": [
        "### Make a prediction on the test set"
      ],
      "metadata": {
        "id": "gwmiVW9SACZt"
      },
      "id": "gwmiVW9SACZt"
    },
    {
      "cell_type": "code",
      "source": [
        "dataiter = iter(test_loader)\n",
        "\n",
        "with torch.no_grad(): # turns off gradient computation when predicting\n",
        "    net.eval()\n",
        "    images, labels = dataiter.next()\n",
        "    images = images.to(device) # move images to gpu\n",
        "    outputs = net(images)\n",
        "    _, predicted = torch.max(outputs, 1)\n",
        "\n",
        "    print(predicted)\n",
        "    print(labels)\n",
        "\n",
        "    print(f\"Accuracy: {sum(predicted.cpu().numpy() == labels.cpu().numpy())} / {labels.shape[0]}\")"
      ],
      "metadata": {
        "colab": {
          "base_uri": "https://localhost:8080/"
        },
        "id": "L17UpSjHAKPJ",
        "outputId": "18379d47-2354-47bf-b409-8437996bf9ad"
      },
      "id": "L17UpSjHAKPJ",
      "execution_count": 37,
      "outputs": [
        {
          "output_type": "stream",
          "name": "stdout",
          "text": [
            "tensor([3, 8, 8, 0, 6, 6, 1, 2, 3, 1, 0, 9, 5, 7, 9, 8, 5, 7, 8, 6, 7, 2, 4, 9,\n",
            "        4, 2, 4, 4, 1, 6, 6, 5, 4, 3, 9, 8, 7, 1, 9, 5, 0, 6, 3, 6, 0, 9, 3, 9,\n",
            "        4, 2, 7, 8, 6, 3, 8, 8, 7, 5, 5, 4, 7, 5, 6, 2, 6, 2, 1, 2, 3, 7, 2, 6,\n",
            "        8, 8, 0, 2, 2, 3, 3, 8, 8, 9, 1, 7, 0, 7, 4, 2, 8, 9, 0, 3, 8, 6, 4, 6,\n",
            "        6, 0, 0, 3, 4, 5, 6, 3, 1, 1, 0, 6, 3, 7, 7, 0, 2, 2, 1, 4, 0, 4, 3, 3,\n",
            "        8, 2, 1, 2, 8, 0, 0, 3, 6, 0, 4, 1, 8, 9, 1, 2, 9, 7, 2, 8, 6, 5, 6, 3,\n",
            "        8, 4, 6, 5, 5, 3, 0, 9, 6, 0, 0, 5, 2, 9, 3, 4, 0, 1, 6, 6, 0, 2, 8, 4,\n",
            "        7, 0, 4, 0, 0, 8, 9, 9, 3, 7, 5, 0, 0, 5, 6, 2, 5, 8, 6, 3, 3, 0, 4, 8,\n",
            "        0, 1, 7, 2, 8, 8, 5, 8, 5, 0, 8, 7, 1, 3, 8, 5, 7, 9, 5, 0, 2, 9, 8, 3,\n",
            "        7, 9, 0, 4, 7, 3, 9, 7, 3, 1, 3, 4, 3, 5, 5, 1, 5, 8, 8, 0, 4, 0, 8, 3,\n",
            "        1, 1, 8, 3, 0, 2, 1, 8, 2, 0, 5, 3, 9, 9, 2, 0], device='cuda:0')\n",
            "tensor([3, 8, 8, 0, 6, 6, 1, 6, 3, 1, 0, 9, 5, 7, 9, 8, 5, 7, 8, 6, 7, 0, 4, 9,\n",
            "        5, 2, 4, 0, 9, 6, 6, 5, 4, 5, 9, 2, 4, 1, 9, 5, 4, 6, 5, 6, 0, 9, 3, 9,\n",
            "        7, 6, 9, 8, 0, 3, 8, 8, 7, 7, 4, 6, 7, 3, 6, 3, 6, 2, 1, 2, 3, 7, 2, 6,\n",
            "        8, 8, 0, 2, 9, 3, 3, 8, 8, 1, 1, 7, 2, 5, 2, 7, 8, 9, 0, 3, 8, 6, 4, 6,\n",
            "        6, 0, 0, 7, 4, 5, 6, 3, 1, 1, 3, 6, 8, 7, 4, 0, 6, 2, 1, 3, 0, 4, 2, 7,\n",
            "        8, 3, 1, 2, 8, 0, 8, 3, 5, 2, 4, 1, 8, 9, 1, 2, 9, 7, 2, 9, 6, 5, 6, 3,\n",
            "        8, 7, 6, 2, 5, 2, 8, 9, 6, 0, 0, 5, 2, 9, 5, 4, 2, 1, 6, 6, 8, 4, 8, 4,\n",
            "        5, 0, 9, 9, 9, 8, 9, 9, 3, 7, 5, 0, 0, 5, 2, 2, 3, 8, 6, 3, 4, 0, 5, 8,\n",
            "        0, 1, 7, 2, 8, 8, 7, 8, 5, 1, 8, 7, 1, 3, 0, 5, 7, 9, 7, 4, 5, 9, 8, 0,\n",
            "        7, 9, 8, 2, 7, 6, 9, 4, 3, 9, 6, 4, 7, 6, 5, 1, 5, 8, 8, 0, 4, 0, 5, 5,\n",
            "        1, 1, 8, 9, 0, 3, 1, 9, 2, 2, 5, 3, 9, 9, 4, 0])\n",
            "Accuracy: 180 / 256\n"
          ]
        }
      ]
    },
    {
      "cell_type": "code",
      "source": [
        ""
      ],
      "metadata": {
        "id": "riENAvLWAU7z"
      },
      "id": "riENAvLWAU7z",
      "execution_count": null,
      "outputs": []
    }
  ],
  "metadata": {
    "kernelspec": {
      "display_name": "Python 3",
      "language": "python",
      "name": "python3"
    },
    "language_info": {
      "codemirror_mode": {
        "name": "ipython",
        "version": 3
      },
      "file_extension": ".py",
      "mimetype": "text/x-python",
      "name": "python",
      "nbconvert_exporter": "python",
      "pygments_lexer": "ipython3",
      "version": "3.8.10"
    },
    "colab": {
      "name": "CNN-pytorch.ipynb",
      "provenance": [],
      "collapsed_sections": []
    },
    "accelerator": "GPU",
    "widgets": {
      "application/vnd.jupyter.widget-state+json": {
        "a6f0d49bac4043f0a63db455d1b5c646": {
          "model_module": "@jupyter-widgets/controls",
          "model_name": "HBoxModel",
          "model_module_version": "1.5.0",
          "state": {
            "_view_name": "HBoxView",
            "_dom_classes": [],
            "_model_name": "HBoxModel",
            "_view_module": "@jupyter-widgets/controls",
            "_model_module_version": "1.5.0",
            "_view_count": null,
            "_view_module_version": "1.5.0",
            "box_style": "",
            "layout": "IPY_MODEL_bf42f20c2fb241fb9e3183f12182cf41",
            "_model_module": "@jupyter-widgets/controls",
            "children": [
              "IPY_MODEL_e8550cfc08e242698ef47a678516c9e7",
              "IPY_MODEL_8ef63529b3e041f3aaa2cb021eb3964f",
              "IPY_MODEL_9e62ece35fcd4d589b6149cf05d8f7e6"
            ]
          }
        },
        "bf42f20c2fb241fb9e3183f12182cf41": {
          "model_module": "@jupyter-widgets/base",
          "model_name": "LayoutModel",
          "model_module_version": "1.2.0",
          "state": {
            "_view_name": "LayoutView",
            "grid_template_rows": null,
            "right": null,
            "justify_content": null,
            "_view_module": "@jupyter-widgets/base",
            "overflow": null,
            "_model_module_version": "1.2.0",
            "_view_count": null,
            "flex_flow": null,
            "width": null,
            "min_width": null,
            "border": null,
            "align_items": null,
            "bottom": null,
            "_model_module": "@jupyter-widgets/base",
            "top": null,
            "grid_column": null,
            "overflow_y": null,
            "overflow_x": null,
            "grid_auto_flow": null,
            "grid_area": null,
            "grid_template_columns": null,
            "flex": null,
            "_model_name": "LayoutModel",
            "justify_items": null,
            "grid_row": null,
            "max_height": null,
            "align_content": null,
            "visibility": null,
            "align_self": null,
            "height": null,
            "min_height": null,
            "padding": null,
            "grid_auto_rows": null,
            "grid_gap": null,
            "max_width": null,
            "order": null,
            "_view_module_version": "1.2.0",
            "grid_template_areas": null,
            "object_position": null,
            "object_fit": null,
            "grid_auto_columns": null,
            "margin": null,
            "display": null,
            "left": null
          }
        },
        "e8550cfc08e242698ef47a678516c9e7": {
          "model_module": "@jupyter-widgets/controls",
          "model_name": "HTMLModel",
          "model_module_version": "1.5.0",
          "state": {
            "_view_name": "HTMLView",
            "style": "IPY_MODEL_62f611d277e44531a8e69bfbe6acd105",
            "_dom_classes": [],
            "description": "",
            "_model_name": "HTMLModel",
            "placeholder": "​",
            "_view_module": "@jupyter-widgets/controls",
            "_model_module_version": "1.5.0",
            "value": "",
            "_view_count": null,
            "_view_module_version": "1.5.0",
            "description_tooltip": null,
            "_model_module": "@jupyter-widgets/controls",
            "layout": "IPY_MODEL_3a1d45eed1cb4e7cbee9f2ce22395da9"
          }
        },
        "8ef63529b3e041f3aaa2cb021eb3964f": {
          "model_module": "@jupyter-widgets/controls",
          "model_name": "FloatProgressModel",
          "model_module_version": "1.5.0",
          "state": {
            "_view_name": "ProgressView",
            "style": "IPY_MODEL_687464d828f94239aa54f680deb71688",
            "_dom_classes": [],
            "description": "",
            "_model_name": "FloatProgressModel",
            "bar_style": "success",
            "max": 170498071,
            "_view_module": "@jupyter-widgets/controls",
            "_model_module_version": "1.5.0",
            "value": 170498071,
            "_view_count": null,
            "_view_module_version": "1.5.0",
            "orientation": "horizontal",
            "min": 0,
            "description_tooltip": null,
            "_model_module": "@jupyter-widgets/controls",
            "layout": "IPY_MODEL_6ee513a7d37c4fd1905970ff1f771d4f"
          }
        },
        "9e62ece35fcd4d589b6149cf05d8f7e6": {
          "model_module": "@jupyter-widgets/controls",
          "model_name": "HTMLModel",
          "model_module_version": "1.5.0",
          "state": {
            "_view_name": "HTMLView",
            "style": "IPY_MODEL_1503b46304cf4ae88086ff4374242317",
            "_dom_classes": [],
            "description": "",
            "_model_name": "HTMLModel",
            "placeholder": "​",
            "_view_module": "@jupyter-widgets/controls",
            "_model_module_version": "1.5.0",
            "value": " 170499072/? [00:05&lt;00:00, 32466147.64it/s]",
            "_view_count": null,
            "_view_module_version": "1.5.0",
            "description_tooltip": null,
            "_model_module": "@jupyter-widgets/controls",
            "layout": "IPY_MODEL_a0b65b0a7e4f43719978c80feafe63b8"
          }
        },
        "62f611d277e44531a8e69bfbe6acd105": {
          "model_module": "@jupyter-widgets/controls",
          "model_name": "DescriptionStyleModel",
          "model_module_version": "1.5.0",
          "state": {
            "_view_name": "StyleView",
            "_model_name": "DescriptionStyleModel",
            "description_width": "",
            "_view_module": "@jupyter-widgets/base",
            "_model_module_version": "1.5.0",
            "_view_count": null,
            "_view_module_version": "1.2.0",
            "_model_module": "@jupyter-widgets/controls"
          }
        },
        "3a1d45eed1cb4e7cbee9f2ce22395da9": {
          "model_module": "@jupyter-widgets/base",
          "model_name": "LayoutModel",
          "model_module_version": "1.2.0",
          "state": {
            "_view_name": "LayoutView",
            "grid_template_rows": null,
            "right": null,
            "justify_content": null,
            "_view_module": "@jupyter-widgets/base",
            "overflow": null,
            "_model_module_version": "1.2.0",
            "_view_count": null,
            "flex_flow": null,
            "width": null,
            "min_width": null,
            "border": null,
            "align_items": null,
            "bottom": null,
            "_model_module": "@jupyter-widgets/base",
            "top": null,
            "grid_column": null,
            "overflow_y": null,
            "overflow_x": null,
            "grid_auto_flow": null,
            "grid_area": null,
            "grid_template_columns": null,
            "flex": null,
            "_model_name": "LayoutModel",
            "justify_items": null,
            "grid_row": null,
            "max_height": null,
            "align_content": null,
            "visibility": null,
            "align_self": null,
            "height": null,
            "min_height": null,
            "padding": null,
            "grid_auto_rows": null,
            "grid_gap": null,
            "max_width": null,
            "order": null,
            "_view_module_version": "1.2.0",
            "grid_template_areas": null,
            "object_position": null,
            "object_fit": null,
            "grid_auto_columns": null,
            "margin": null,
            "display": null,
            "left": null
          }
        },
        "687464d828f94239aa54f680deb71688": {
          "model_module": "@jupyter-widgets/controls",
          "model_name": "ProgressStyleModel",
          "model_module_version": "1.5.0",
          "state": {
            "_view_name": "StyleView",
            "_model_name": "ProgressStyleModel",
            "description_width": "",
            "_view_module": "@jupyter-widgets/base",
            "_model_module_version": "1.5.0",
            "_view_count": null,
            "_view_module_version": "1.2.0",
            "bar_color": null,
            "_model_module": "@jupyter-widgets/controls"
          }
        },
        "6ee513a7d37c4fd1905970ff1f771d4f": {
          "model_module": "@jupyter-widgets/base",
          "model_name": "LayoutModel",
          "model_module_version": "1.2.0",
          "state": {
            "_view_name": "LayoutView",
            "grid_template_rows": null,
            "right": null,
            "justify_content": null,
            "_view_module": "@jupyter-widgets/base",
            "overflow": null,
            "_model_module_version": "1.2.0",
            "_view_count": null,
            "flex_flow": null,
            "width": null,
            "min_width": null,
            "border": null,
            "align_items": null,
            "bottom": null,
            "_model_module": "@jupyter-widgets/base",
            "top": null,
            "grid_column": null,
            "overflow_y": null,
            "overflow_x": null,
            "grid_auto_flow": null,
            "grid_area": null,
            "grid_template_columns": null,
            "flex": null,
            "_model_name": "LayoutModel",
            "justify_items": null,
            "grid_row": null,
            "max_height": null,
            "align_content": null,
            "visibility": null,
            "align_self": null,
            "height": null,
            "min_height": null,
            "padding": null,
            "grid_auto_rows": null,
            "grid_gap": null,
            "max_width": null,
            "order": null,
            "_view_module_version": "1.2.0",
            "grid_template_areas": null,
            "object_position": null,
            "object_fit": null,
            "grid_auto_columns": null,
            "margin": null,
            "display": null,
            "left": null
          }
        },
        "1503b46304cf4ae88086ff4374242317": {
          "model_module": "@jupyter-widgets/controls",
          "model_name": "DescriptionStyleModel",
          "model_module_version": "1.5.0",
          "state": {
            "_view_name": "StyleView",
            "_model_name": "DescriptionStyleModel",
            "description_width": "",
            "_view_module": "@jupyter-widgets/base",
            "_model_module_version": "1.5.0",
            "_view_count": null,
            "_view_module_version": "1.2.0",
            "_model_module": "@jupyter-widgets/controls"
          }
        },
        "a0b65b0a7e4f43719978c80feafe63b8": {
          "model_module": "@jupyter-widgets/base",
          "model_name": "LayoutModel",
          "model_module_version": "1.2.0",
          "state": {
            "_view_name": "LayoutView",
            "grid_template_rows": null,
            "right": null,
            "justify_content": null,
            "_view_module": "@jupyter-widgets/base",
            "overflow": null,
            "_model_module_version": "1.2.0",
            "_view_count": null,
            "flex_flow": null,
            "width": null,
            "min_width": null,
            "border": null,
            "align_items": null,
            "bottom": null,
            "_model_module": "@jupyter-widgets/base",
            "top": null,
            "grid_column": null,
            "overflow_y": null,
            "overflow_x": null,
            "grid_auto_flow": null,
            "grid_area": null,
            "grid_template_columns": null,
            "flex": null,
            "_model_name": "LayoutModel",
            "justify_items": null,
            "grid_row": null,
            "max_height": null,
            "align_content": null,
            "visibility": null,
            "align_self": null,
            "height": null,
            "min_height": null,
            "padding": null,
            "grid_auto_rows": null,
            "grid_gap": null,
            "max_width": null,
            "order": null,
            "_view_module_version": "1.2.0",
            "grid_template_areas": null,
            "object_position": null,
            "object_fit": null,
            "grid_auto_columns": null,
            "margin": null,
            "display": null,
            "left": null
          }
        }
      }
    }
  },
  "nbformat": 4,
  "nbformat_minor": 5
}