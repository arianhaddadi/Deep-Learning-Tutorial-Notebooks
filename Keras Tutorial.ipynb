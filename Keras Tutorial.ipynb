{
 "cells": [
  {
   "cell_type": "markdown",
   "metadata": {},
   "source": [
    "# Introduction"
   ]
  },
  {
   "cell_type": "code",
   "execution_count": null,
   "metadata": {
    "collapsed": true
   },
   "outputs": [],
   "source": []
  },
  {
   "cell_type": "markdown",
   "metadata": {},
   "source": [
    "# Step 1)  Import libraries"
   ]
  },
  {
   "cell_type": "markdown",
   "metadata": {},
   "source": [
    "In the following cells we will import the necessary libraries that are needed for creating our neural network.<br />\n",
    "<b>1) Numpy</b><br />\n",
    "<b>2) keras</b><br />\n",
    "<b>3) Sequential model type:</b> This provides  linear stack of neural network layers and it is good for mlp and CNN nets.<br />\n",
    "<b>4) \"core\" layers (Dense, Dropout, Activation, Flatten): </b> These are layers used in most of neural networks. <br />\n",
    "<b>5) utilities: </b> It is useful for transforming data.<br />\n",
    "<b>6) pyplot from matplotlib: </b> It is used for plotting figures and images.<br />\n",
    "<br /><br />\n",
    "<b>7) </b> At the end we can set a seed for random generator. This allows us to reproduce the results from our script"
   ]
  },
  {
   "cell_type": "code",
   "execution_count": 24,
   "metadata": {
    "collapsed": false
   },
   "outputs": [],
   "source": [
    "import os\n",
    "os.environ[\"CUDA_DEVICE_ORDER\"]=\"PCI_BUS_ID\"   # see issue #152\n",
    "os.environ[\"CUDA_VISIBLE_DEVICES\"]=\"\""
   ]
  },
  {
   "cell_type": "code",
   "execution_count": 25,
   "metadata": {
    "collapsed": false
   },
   "outputs": [
    {
     "name": "stdout",
     "output_type": "stream",
     "text": [
      "[name: \"/cpu:0\"\n",
      "device_type: \"CPU\"\n",
      "memory_limit: 268435456\n",
      "locality {\n",
      "}\n",
      "incarnation: 1952405810592792418\n",
      "]\n"
     ]
    }
   ],
   "source": [
    "from tensorflow.python.client import device_lib\n",
    "print(device_lib.list_local_devices())"
   ]
  },
  {
   "cell_type": "code",
   "execution_count": null,
   "metadata": {
    "collapsed": true
   },
   "outputs": [],
   "source": []
  },
  {
   "cell_type": "code",
   "execution_count": 26,
   "metadata": {
    "collapsed": false
   },
   "outputs": [],
   "source": [
    "import numpy as np\n",
    "import keras\n",
    "from keras.models import Sequential\n",
    "from keras.layers import Dense, Dropout, Activation, Flatten, Input\n",
    "from keras.utils import np_utils\n",
    "\n",
    "import matplotlib.pyplot as plt\n",
    "%matplotlib inline \n",
    "\n",
    "np.random.seed(2017)"
   ]
  },
  {
   "cell_type": "markdown",
   "metadata": {},
   "source": [
    "# Step 2) Load and prepare data"
   ]
  },
  {
   "cell_type": "markdown",
   "metadata": {},
   "source": [
    "In this step we load and prepare data set in order to feed the network."
   ]
  },
  {
   "cell_type": "markdown",
   "metadata": {},
   "source": [
    "### Load data (MNIST data set)"
   ]
  },
  {
   "cell_type": "markdown",
   "metadata": {},
   "source": [
    "<b>MNIST</b> is a great dataset for getting started with deep learning and computer vision. It's a big enough challenge in neural networks and most of the NN models tested themselves on this data set."
   ]
  },
  {
   "cell_type": "code",
   "execution_count": 28,
   "metadata": {
    "collapsed": false
   },
   "outputs": [],
   "source": [
    "from keras.datasets import mnist\n",
    "\n",
    "#load mnist in train and test sets\n",
    "(X_train, y_train), (X_test, y_test) = mnist.load_data()"
   ]
  },
  {
   "cell_type": "markdown",
   "metadata": {},
   "source": [
    "The MNIST dataset is a large database of handwritten digits. It contains 60,000 training images and 10,000 testing images. Each data sample is a $28 \\times 28$ gray scale image."
   ]
  },
  {
   "cell_type": "code",
   "execution_count": 29,
   "metadata": {
    "collapsed": false
   },
   "outputs": [
    {
     "name": "stdout",
     "output_type": "stream",
     "text": [
      "train data:\n",
      "(60000, 28, 28)\n",
      "(60000,)\n",
      "min:  0 \tmax:  255\n",
      "\n",
      "test data:\n",
      "(10000, 28, 28)\n",
      "(10000,)\n",
      "min:  0 \tmax:  255\n"
     ]
    }
   ],
   "source": [
    "# print train and test data shape\n",
    "print('train data:')\n",
    "print(X_train.shape)\n",
    "print(y_train.shape)\n",
    "print('min: ', np.min(X_train), '\\tmax: ', np.max(X_train))\n",
    "print('\\ntest data:')\n",
    "print(X_test.shape)\n",
    "print(y_test.shape)\n",
    "print('min: ', np.min(X_test), '\\tmax: ', np.max(X_test))"
   ]
  },
  {
   "cell_type": "markdown",
   "metadata": {},
   "source": [
    "### Plot sample image"
   ]
  },
  {
   "cell_type": "code",
   "execution_count": 35,
   "metadata": {
    "collapsed": false
   },
   "outputs": [
    {
     "data": {
      "image/png": "[encoded data removed]",
      "text/plain": [
       "<matplotlib.figure.Figure at 0x7f2baafdb7b8>"
      ]
     },
     "metadata": {},
     "output_type": "display_data"
    }
   ],
   "source": [
    "random_idx = np.random.randint(60000)\n",
    "plt.imshow(X_train[random_idx,:,:], cmap=\"Greys_r\")\n",
    "plt.show()"
   ]
  },
  {
   "cell_type": "markdown",
   "metadata": {},
   "source": [
    "### Prepare data"
   ]
  },
  {
   "cell_type": "markdown",
   "metadata": {},
   "source": [
    "The data mast reshape to a proper form"
   ]
  },
  {
   "cell_type": "code",
   "execution_count": 38,
   "metadata": {
    "collapsed": false
   },
   "outputs": [
    {
     "name": "stdout",
     "output_type": "stream",
     "text": [
      "28\n",
      "(60000, 784)\n",
      "(10000, 784)\n"
     ]
    }
   ],
   "source": [
    "# reshape data\n",
    "print(X_train.shape[1])\n",
    "trainX = np.reshape(X_train, [X_train.shape[0], X_train.shape[1]*X_train.shape[2]])\n",
    "testX = np.reshape(X_test, [X_test.shape[0], X_test.shape[1]*X_test.shape[2]])\n",
    "\n",
    "print(trainX.shape)\n",
    "print(testX.shape)"
   ]
  },
  {
   "cell_type": "markdown",
   "metadata": {},
   "source": [
    "The final preprocessing step for the input data is to convert our data type to <b>float32</b> and <b>normalize</b> our data values to the range [0, 1]."
   ]
  },
  {
   "cell_type": "code",
   "execution_count": 39,
   "metadata": {
    "collapsed": false
   },
   "outputs": [
    {
     "name": "stdout",
     "output_type": "stream",
     "text": [
      "train)\tmin:  0.0 \tmax:  1.0\n",
      "test)\tmin:  0.0 \tmax:  1.0\n"
     ]
    }
   ],
   "source": [
    "trainX_normal = (trainX/255.)\n",
    "testX_normal = (testX/255.)\n",
    "\n",
    "trainX_normal = trainX_normal.astype('float32')\n",
    "testX_normal = testX_normal.astype('float32')\n",
    "\n",
    "print('train)\\tmin: ', np.min(trainX_normal), '\\tmax: ', np.max(trainX_normal))\n",
    "print('test)\\tmin: ', np.min(testX_normal), '\\tmax: ', np.max(testX_normal))"
   ]
  },
  {
   "cell_type": "markdown",
   "metadata": {},
   "source": [
    "### Preprocess class labels"
   ]
  },
  {
   "cell_type": "markdown",
   "metadata": {},
   "source": [
    "Let's take a look at first 10 data samples class labels"
   ]
  },
  {
   "cell_type": "code",
   "execution_count": 40,
   "metadata": {
    "collapsed": false
   },
   "outputs": [
    {
     "name": "stdout",
     "output_type": "stream",
     "text": [
      "[5 0 4 1 9 2 1 3 1 4]\n"
     ]
    }
   ],
   "source": [
    "print(y_train[0:10])"
   ]
  },
  {
   "cell_type": "markdown",
   "metadata": {},
   "source": [
    "In order to train a MLP network, they should convert to one-hot encoding form in order to demonstrate the probability of classes"
   ]
  },
  {
   "cell_type": "code",
   "execution_count": 41,
   "metadata": {
    "collapsed": false
   },
   "outputs": [
    {
     "name": "stdout",
     "output_type": "stream",
     "text": [
      "train labels:\t (60000, 10)\n",
      "test labels:\t (10000, 10)\n"
     ]
    }
   ],
   "source": [
    "Y_train = np_utils.to_categorical(y_train, 10)\n",
    "Y_test = np_utils.to_categorical(y_test, 10)\n",
    "\n",
    "print('train labels:\\t',Y_train.shape)\n",
    "print('test labels:\\t',Y_test.shape)"
   ]
  },
  {
   "cell_type": "markdown",
   "metadata": {},
   "source": [
    "Let's take a look at first 10 data samples class labels after conversion."
   ]
  },
  {
   "cell_type": "code",
   "execution_count": 42,
   "metadata": {
    "collapsed": false
   },
   "outputs": [
    {
     "name": "stdout",
     "output_type": "stream",
     "text": [
      "[[ 0.  0.  0.  0.  0.  1.  0.  0.  0.  0.]\n",
      " [ 1.  0.  0.  0.  0.  0.  0.  0.  0.  0.]\n",
      " [ 0.  0.  0.  0.  1.  0.  0.  0.  0.  0.]\n",
      " [ 0.  1.  0.  0.  0.  0.  0.  0.  0.  0.]\n",
      " [ 0.  0.  0.  0.  0.  0.  0.  0.  0.  1.]\n",
      " [ 0.  0.  1.  0.  0.  0.  0.  0.  0.  0.]\n",
      " [ 0.  1.  0.  0.  0.  0.  0.  0.  0.  0.]\n",
      " [ 0.  0.  0.  1.  0.  0.  0.  0.  0.  0.]\n",
      " [ 0.  1.  0.  0.  0.  0.  0.  0.  0.  0.]\n",
      " [ 0.  0.  0.  0.  1.  0.  0.  0.  0.  0.]]\n"
     ]
    }
   ],
   "source": [
    "print(Y_train[0:10, :])"
   ]
  },
  {
   "cell_type": "markdown",
   "metadata": {},
   "source": [
    "# Step 3) Define model architecture"
   ]
  },
  {
   "cell_type": "markdown",
   "metadata": {},
   "source": [
    "A model object in Keras includes all layers of implemented network and it defines the architecture of it. Instead of defining a network model by the weight matrices and biases we can define it layer by layer in Keras which simplify the network definition and allows us to implement a network very quickly. "
   ]
  },
  {
   "cell_type": "markdown",
   "metadata": {},
   "source": [
    "### In Keras we can define models in two forms:"
   ]
  },
  {
   "cell_type": "markdown",
   "metadata": {},
   "source": [
    "#### Form 1)"
   ]
  },
  {
   "cell_type": "code",
   "execution_count": 43,
   "metadata": {
    "collapsed": true
   },
   "outputs": [],
   "source": [
    "model = Sequential()\n",
    "model.add(Dense(512, activation='relu', use_bias=True,  input_shape=(784,)))\n",
    "model.add(Dense(128, activation='relu', use_bias=True))\n",
    "model.add(Dense(10, activation='softmax', use_bias=True))"
   ]
  },
  {
   "cell_type": "markdown",
   "metadata": {},
   "source": [
    "#### Form 2)"
   ]
  },
  {
   "cell_type": "code",
   "execution_count": 44,
   "metadata": {
    "collapsed": true
   },
   "outputs": [],
   "source": [
    "from keras.models import Model\n",
    "\n",
    "X_inp = Input(shape=(784,))\n",
    "h1 = Dense(512, activation='relu', use_bias=True)(X_inp)\n",
    "h2 = Dense(128, activation='relu', use_bias=True)(h1)\n",
    "h3 = Dense(10, activation='softmax', use_bias=True)(h2)\n",
    "\n",
    "model = Model(inputs=X_inp, outputs=h3)"
   ]
  },
  {
   "cell_type": "markdown",
   "metadata": {},
   "source": [
    "# Step 4) Compile model"
   ]
  },
  {
   "cell_type": "markdown",
   "metadata": {},
   "source": [
    "In this step we define the <b>loss function</b> and the <b>optimizer</b>."
   ]
  },
  {
   "cell_type": "code",
   "execution_count": 45,
   "metadata": {
    "collapsed": false
   },
   "outputs": [],
   "source": [
    "mysgd = keras.optimizers.SGD(lr=0.01, momentum=0.0, decay=0.0, nesterov=False)\n",
    "model.compile(loss='mean_squared_error',\n",
    "              optimizer=mysgd,\n",
    "              metrics=['accuracy'])"
   ]
  },
  {
   "cell_type": "markdown",
   "metadata": {},
   "source": [
    "We can check the summary of the model to see the summary of network layers, number of total paramiters, number of trainable and non-trainable paramiters."
   ]
  },
  {
   "cell_type": "code",
   "execution_count": 46,
   "metadata": {
    "collapsed": false
   },
   "outputs": [
    {
     "name": "stdout",
     "output_type": "stream",
     "text": [
      "_________________________________________________________________\n",
      "Layer (type)                 Output Shape              Param #   \n",
      "=================================================================\n",
      "input_2 (InputLayer)         (None, 784)               0         \n",
      "_________________________________________________________________\n",
      "dense_10 (Dense)             (None, 512)               401920    \n",
      "_________________________________________________________________\n",
      "dense_11 (Dense)             (None, 128)               65664     \n",
      "_________________________________________________________________\n",
      "dense_12 (Dense)             (None, 10)                1290      \n",
      "=================================================================\n",
      "Total params: 468,874\n",
      "Trainable params: 468,874\n",
      "Non-trainable params: 0\n",
      "_________________________________________________________________\n"
     ]
    }
   ],
   "source": [
    "model.summary()"
   ]
  },
  {
   "cell_type": "markdown",
   "metadata": {},
   "source": [
    "# Step 5) Fit model on training data"
   ]
  },
  {
   "cell_type": "code",
   "execution_count": 47,
   "metadata": {
    "collapsed": false,
    "scrolled": false
   },
   "outputs": [
    {
     "name": "stdout",
     "output_type": "stream",
     "text": [
      "Epoch 1/50\n",
      "60000/60000 [==============================] - 2s - loss: 0.0900 - acc: 0.1404     \n",
      "Epoch 2/50\n",
      "60000/60000 [==============================] - 1s - loss: 0.0880 - acc: 0.2401     \n",
      "Epoch 3/50\n",
      "60000/60000 [==============================] - 1s - loss: 0.0858 - acc: 0.3454     \n",
      "Epoch 4/50\n",
      "60000/60000 [==============================] - 1s - loss: 0.0831 - acc: 0.4073     \n",
      "Epoch 5/50\n",
      "60000/60000 [==============================] - 1s - loss: 0.0798 - acc: 0.4370     \n",
      "Epoch 6/50\n",
      "60000/60000 [==============================] - 1s - loss: 0.0760 - acc: 0.4610     \n",
      "Epoch 7/50\n",
      "60000/60000 [==============================] - 1s - loss: 0.0719 - acc: 0.4982     \n",
      "Epoch 8/50\n",
      "60000/60000 [==============================] - 1s - loss: 0.0677 - acc: 0.5473     \n",
      "Epoch 9/50\n",
      "60000/60000 [==============================] - 1s - loss: 0.0636 - acc: 0.5970     \n",
      "Epoch 10/50\n",
      "60000/60000 [==============================] - 1s - loss: 0.0595 - acc: 0.6346     \n",
      "Epoch 11/50\n",
      "60000/60000 [==============================] - 1s - loss: 0.0557 - acc: 0.6633     \n",
      "Epoch 12/50\n",
      "60000/60000 [==============================] - 1s - loss: 0.0521 - acc: 0.6834     \n",
      "Epoch 13/50\n",
      "60000/60000 [==============================] - 1s - loss: 0.0489 - acc: 0.6987     \n",
      "Epoch 14/50\n",
      "60000/60000 [==============================] - 1s - loss: 0.0459 - acc: 0.7174     \n",
      "Epoch 15/50\n",
      "60000/60000 [==============================] - 1s - loss: 0.0432 - acc: 0.7407     \n",
      "Epoch 16/50\n",
      "60000/60000 [==============================] - 1s - loss: 0.0408 - acc: 0.7607     \n",
      "Epoch 17/50\n",
      "60000/60000 [==============================] - 1s - loss: 0.0385 - acc: 0.7815     \n",
      "Epoch 18/50\n",
      "60000/60000 [==============================] - 1s - loss: 0.0363 - acc: 0.8032     \n",
      "Epoch 19/50\n",
      "60000/60000 [==============================] - 1s - loss: 0.0343 - acc: 0.8211     \n",
      "Epoch 20/50\n",
      "60000/60000 [==============================] - 1s - loss: 0.0325 - acc: 0.8321     \n",
      "Epoch 21/50\n",
      "60000/60000 [==============================] - 1s - loss: 0.0309 - acc: 0.8416     \n",
      "Epoch 22/50\n",
      "60000/60000 [==============================] - 1s - loss: 0.0295 - acc: 0.8483     \n",
      "Epoch 23/50\n",
      "60000/60000 [==============================] - 2s - loss: 0.0282 - acc: 0.8533     \n",
      "Epoch 24/50\n",
      "60000/60000 [==============================] - 1s - loss: 0.0271 - acc: 0.8583     \n",
      "Epoch 25/50\n",
      "60000/60000 [==============================] - 1s - loss: 0.0261 - acc: 0.8620     \n",
      "Epoch 26/50\n",
      "60000/60000 [==============================] - 1s - loss: 0.0252 - acc: 0.8656     \n",
      "Epoch 27/50\n",
      "60000/60000 [==============================] - 1s - loss: 0.0244 - acc: 0.8689     \n",
      "Epoch 28/50\n",
      "60000/60000 [==============================] - 1s - loss: 0.0237 - acc: 0.8714     \n",
      "Epoch 29/50\n",
      "60000/60000 [==============================] - 1s - loss: 0.0231 - acc: 0.8738     \n",
      "Epoch 30/50\n",
      "60000/60000 [==============================] - 1s - loss: 0.0225 - acc: 0.8766     \n",
      "Epoch 31/50\n",
      "60000/60000 [==============================] - 1s - loss: 0.0219 - acc: 0.8784     \n",
      "Epoch 32/50\n",
      "60000/60000 [==============================] - 1s - loss: 0.0214 - acc: 0.8805     \n",
      "Epoch 33/50\n",
      "60000/60000 [==============================] - 1s - loss: 0.0210 - acc: 0.8826     \n",
      "Epoch 34/50\n",
      "60000/60000 [==============================] - 1s - loss: 0.0206 - acc: 0.8845     \n",
      "Epoch 35/50\n",
      "60000/60000 [==============================] - 1s - loss: 0.0202 - acc: 0.8858     \n",
      "Epoch 36/50\n",
      "60000/60000 [==============================] - 1s - loss: 0.0198 - acc: 0.8875     \n",
      "Epoch 37/50\n",
      "60000/60000 [==============================] - 1s - loss: 0.0195 - acc: 0.8886     \n",
      "Epoch 38/50\n",
      "60000/60000 [==============================] - 1s - loss: 0.0192 - acc: 0.8900     \n",
      "Epoch 39/50\n",
      "60000/60000 [==============================] - 1s - loss: 0.0189 - acc: 0.8912     \n",
      "Epoch 40/50\n",
      "60000/60000 [==============================] - 1s - loss: 0.0186 - acc: 0.8924     \n",
      "Epoch 41/50\n",
      "60000/60000 [==============================] - 1s - loss: 0.0184 - acc: 0.8933     \n",
      "Epoch 42/50\n",
      "60000/60000 [==============================] - 1s - loss: 0.0181 - acc: 0.8942     \n",
      "Epoch 43/50\n",
      "60000/60000 [==============================] - 1s - loss: 0.0179 - acc: 0.8953     \n",
      "Epoch 44/50\n",
      "60000/60000 [==============================] - 1s - loss: 0.0177 - acc: 0.8962     \n",
      "Epoch 45/50\n",
      "60000/60000 [==============================] - 1s - loss: 0.0175 - acc: 0.8972     \n",
      "Epoch 46/50\n",
      "60000/60000 [==============================] - 1s - loss: 0.0173 - acc: 0.8980     \n",
      "Epoch 47/50\n",
      "60000/60000 [==============================] - 1s - loss: 0.0171 - acc: 0.8987     \n",
      "Epoch 48/50\n",
      "60000/60000 [==============================] - 1s - loss: 0.0169 - acc: 0.8994     \n",
      "Epoch 49/50\n",
      "60000/60000 [==============================] - 1s - loss: 0.0168 - acc: 0.8999     \n",
      "Epoch 50/50\n",
      "60000/60000 [==============================] - 1s - loss: 0.0166 - acc: 0.9005     \n"
     ]
    },
    {
     "data": {
      "text/plain": [
       "<keras.callbacks.History at 0x7f2bc5447e48>"
      ]
     },
     "execution_count": 47,
     "metadata": {},
     "output_type": "execute_result"
    }
   ],
   "source": [
    "model.fit(trainX_normal, Y_train, \n",
    "          batch_size=128, \n",
    "          epochs=50, \n",
    "          verbose=1)"
   ]
  },
  {
   "cell_type": "markdown",
   "metadata": {},
   "source": [
    "# Step 6) Prediction and check the test error"
   ]
  },
  {
   "cell_type": "markdown",
   "metadata": {},
   "source": [
    "The <b>model.predict()</b> function performs just the forward pass of the network."
   ]
  },
  {
   "cell_type": "code",
   "execution_count": 48,
   "metadata": {
    "collapsed": true
   },
   "outputs": [],
   "source": [
    "prd = model.predict(testX_normal)"
   ]
  },
  {
   "cell_type": "markdown",
   "metadata": {},
   "source": [
    "The output of the network for each sample shows the membership degree of each class for that sample. Each sample belongs to the class with highest membership digree."
   ]
  },
  {
   "cell_type": "code",
   "execution_count": 49,
   "metadata": {
    "collapsed": true
   },
   "outputs": [],
   "source": [
    "prd_y = np.argmax(prd, axis=1)"
   ]
  },
  {
   "cell_type": "markdown",
   "metadata": {},
   "source": [
    "Take a look at the first 10 predicted labels by the network and compare it with true labels."
   ]
  },
  {
   "cell_type": "code",
   "execution_count": 50,
   "metadata": {
    "collapsed": false
   },
   "outputs": [
    {
     "name": "stdout",
     "output_type": "stream",
     "text": [
      "[7 2 1 0 4 1 4 9 6 9]\n",
      "[7 2 1 0 4 1 4 9 5 9]\n"
     ]
    }
   ],
   "source": [
    "print(prd_y[0:10])\n",
    "print(y_test[0:10])"
   ]
  },
  {
   "cell_type": "markdown",
   "metadata": {},
   "source": [
    "### Compute the test accuracy"
   ]
  },
  {
   "cell_type": "code",
   "execution_count": 51,
   "metadata": {
    "collapsed": false
   },
   "outputs": [
    {
     "name": "stdout",
     "output_type": "stream",
     "text": [
      "Test accuracy is:  0.9076\n"
     ]
    }
   ],
   "source": [
    "nb_correct_labels = np.sum(prd_y == y_test)\n",
    "print('Test accuracy is: ', nb_correct_labels/len(y_test))"
   ]
  },
  {
   "cell_type": "markdown",
   "metadata": {},
   "source": [
    "# Additional steps"
   ]
  },
  {
   "cell_type": "markdown",
   "metadata": {},
   "source": [
    "#### save the model"
   ]
  },
  {
   "cell_type": "code",
   "execution_count": 21,
   "metadata": {
    "collapsed": true
   },
   "outputs": [],
   "source": [
    "model.save('./mlp.h5') # creates a HDF5 file 'mlp1.h5'"
   ]
  },
  {
   "cell_type": "markdown",
   "metadata": {},
   "source": [
    "#### Load a traind model"
   ]
  },
  {
   "cell_type": "code",
   "execution_count": 22,
   "metadata": {
    "collapsed": true
   },
   "outputs": [],
   "source": [
    "loaded_model = keras.models.load_model('./mlp.h5')"
   ]
  },
  {
   "cell_type": "markdown",
   "metadata": {},
   "source": [
    "#### Get the weights of a model"
   ]
  },
  {
   "cell_type": "code",
   "execution_count": 23,
   "metadata": {
    "collapsed": false
   },
   "outputs": [
    {
     "name": "stdout",
     "output_type": "stream",
     "text": [
      "<class 'list'>\n",
      "6\n",
      "layer 1 params dimensions:\n",
      "\t (784, 512) \n",
      "\t (512,)\n"
     ]
    }
   ],
   "source": [
    "weights = model.get_weights()\n",
    "\n",
    "print(type(weights))\n",
    "print(len(weights))\n",
    "\n",
    "print('layer 1 params dimensions:\\n\\t', weights[0].shape,'\\n\\t', weights[1].shape)"
   ]
  },
  {
   "cell_type": "markdown",
   "metadata": {},
   "source": [
    "## References"
   ]
  },
  {
   "cell_type": "markdown",
   "metadata": {},
   "source": [
    "1) https://keras.io <br />\n",
    "2) https://github.com/fchollet/keras <br />\n",
    "3) https://elitedatascience.com/keras-tutorial-deep-learning-in-python <br />\n",
    "4) https://blog.keras.io"
   ]
  },
  {
   "cell_type": "code",
   "execution_count": null,
   "metadata": {
    "collapsed": true
   },
   "outputs": [],
   "source": []
  }
 ],
 "metadata": {
  "anaconda-cloud": {},
  "kernelspec": {
   "display_name": "Python [default]",
   "language": "python",
   "name": "python3"
  },
  "language_info": {
   "codemirror_mode": {
    "name": "ipython",
    "version": 3
   },
   "file_extension": ".py",
   "mimetype": "text/x-python",
   "name": "python",
   "nbconvert_exporter": "python",
   "pygments_lexer": "ipython3",
   "version": "3.5.2"
  }
 },
 "nbformat": 4,
 "nbformat_minor": 2
}
