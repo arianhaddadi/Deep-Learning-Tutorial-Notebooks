{
  "cells": [
    {
      "cell_type": "markdown",
      "metadata": {
        "id": "8234ef01"
      },
      "source": [
        "# GAN Example in Pytorch\n",
        "## STAT 940\n",
        "\n",
        "### Introduction"
      ]
    },
    {
      "cell_type": "markdown",
      "metadata": {
        "id": "6ff35406"
      },
      "source": [
        "In this tutorial we will train a simple Variational Autoencoder in following five steps:\n",
        "- Step 1)  Import libraries and set parameters\n",
        "- Step 2) Load and prepare data\n",
        "- Step 3) Model Definition\n",
        "- Step 4) Set up optimizers and loss functions\n",
        "- Step 5) Learning model and fit it on training data\n",
        "\n",
        "Also we will see how to:\n",
        "- Save and load learned models\n",
        "- Generate images"
      ]
    },
    {
      "cell_type": "markdown",
      "metadata": {
        "id": "7b7037b7"
      },
      "source": [
        "### STEP 1 - Import libraries and set parameters\n",
        "\n",
        "First, we will import the necessary libraries and packages that are needed for VAE.\n",
        "- 1) Numpy: NumPy is the fundamental package for scientific computing with Python\n",
        "- 2) torch, torch.nn, torch.nn.functional, torch.optim: Pytorch imports for building custom neural networks containing\n",
        "    - Sequential model type: This provides linear stack of neural network layers and it is useful in MLP and CNN nets.\n",
        "    - Core layers (Linear, Dropout, ReLU): these layers are used in most neural networks\n",
        "    - Convolutional, ConvTranspose\n",
        "    - data tools: DataSet for custom data sets, DataLoader for loading in data\n",
        "    - optim: optimizers\n",
        "- 3) torchvision: Vision specific Pytorch. Provides useful augmentations, datasets, pretrained models\n",
        "- 4) matplotlib.pyplot: for plotting figures and images"
      ]
    },
    {
      "cell_type": "code",
      "execution_count": 1,
      "metadata": {
        "id": "746d1fa2"
      },
      "outputs": [],
      "source": [
        "# 1)\n",
        "import numpy as np\n",
        "# 2)\n",
        "import torch     \n",
        "import torch.nn as nn\n",
        "import torch.nn.functional as F\n",
        "import torch.optim as optim\n",
        "from torch.utils.data import DataLoader\n",
        "from torch.autograd import Variable\n",
        "# 3)\n",
        "import torchvision\n",
        "# 4)\n",
        "import matplotlib.pyplot as plt"
      ]
    },
    {
      "cell_type": "code",
      "execution_count": 2,
      "metadata": {
        "colab": {
          "base_uri": "https://localhost:8080/"
        },
        "id": "6656a023",
        "outputId": "4cedb8e5-d03e-48b7-a29e-5813a879c7f9"
      },
      "outputs": [
        {
          "output_type": "execute_result",
          "data": {
            "text/plain": [
              "<torch._C.Generator at 0x7f194f54fbb0>"
            ]
          },
          "metadata": {},
          "execution_count": 2
        }
      ],
      "source": [
        "np.random.seed(940) # set seed for reproducibility (within numpy)\n",
        "torch.manual_seed(940) # set seed for reproducibility (within pytorch)"
      ]
    },
    {
      "cell_type": "markdown",
      "metadata": {
        "id": "c08eb2bb"
      },
      "source": [
        "#### Parameters"
      ]
    },
    {
      "cell_type": "code",
      "execution_count": 3,
      "metadata": {
        "id": "e38e2cc2"
      },
      "outputs": [],
      "source": [
        "batch_size = 16      #batch size\n",
        "epochs = 100        #epoch size"
      ]
    },
    {
      "cell_type": "markdown",
      "metadata": {
        "id": "DOlDTl5v4l9I"
      },
      "source": [
        "#### Set-up GPU (optional)\n",
        "\n",
        "Leverage GPUs for faster training of neural networks. This section will help you set up GPUs on Pytorch"
      ]
    },
    {
      "cell_type": "code",
      "execution_count": 4,
      "metadata": {
        "colab": {
          "base_uri": "https://localhost:8080/"
        },
        "id": "JNqaV2xP4iab",
        "outputId": "d49fb323-ccdf-418b-c578-b0f0c718e32f"
      },
      "outputs": [
        {
          "output_type": "stream",
          "name": "stdout",
          "text": [
            "cuda:0\n"
          ]
        }
      ],
      "source": [
        "device = torch.device(\"cuda:0\" if torch.cuda.is_available() else \"cpu\") # check is GPU is available\n",
        "print(device)"
      ]
    },
    {
      "cell_type": "markdown",
      "metadata": {
        "id": "3c66de27"
      },
      "source": [
        "### STEP 2 - Load and prepare data"
      ]
    },
    {
      "cell_type": "code",
      "execution_count": 5,
      "metadata": {
        "colab": {
          "base_uri": "https://localhost:8080/",
          "height": 457,
          "referenced_widgets": [
            "484adb466b854bf2b603437b7f802fd6",
            "b1cc2ec88b1f4ca4929894e51654eed2",
            "cf3dab7ed964482480a66f0f4ecd9e6d",
            "86e000e6897746e1bac2bfcdd970f9fe",
            "fe2287f37a3746a7b7ce589ef2a7dda0",
            "a0dd9bb5882c4c8daccc82780bf67d7f",
            "b4f1e9f94f6c4a449d1c765f94b0c763",
            "ffb4d952fa3b4c368880b55426289e61",
            "48b59dd26cd54a678fb810f66a4923d5",
            "076d2546d2984e0ea26c0d54ca1873b8",
            "bcac56002e83462aa72f892d149eac34",
            "620bfc093c504b0d9e9eeb7a191f5e44",
            "5211f35b1df844cf9fa0c3ed906c8ddf",
            "463cafc611514fd5a7776aba0d85f7c1",
            "f5606632e371400d9788d482a2aeefb4",
            "33ed45d6054f4e0ea54f3255bd75bf66",
            "43e90369eb164f80baeffa3703f7dbff",
            "98c5492c80894aefaeaf5a71c7362fcb",
            "f17b876d69a943c1ae573f49671ccd86",
            "79ecdf9592be47c7a7a8ae9168ec5d6d",
            "5b82822eeb9444cba1bd7b49c235cdc6",
            "d77c504c49714dae8a7a5c375f52df6d",
            "70021e5c7c224431858693427812f86c",
            "0818422646aa458e8a36af683902562d",
            "c8f346f4a5b14005b8fc83aca8667255",
            "5b070c2fb5a7482fbc9d25a72437109e",
            "c19431b915764b44854c6563636912d8",
            "2406c7039e584f799a91418c97c9bd48",
            "d562d51f106c4f14b2a38f4b0dcb00e6",
            "fe8640b4d1884df1a63c7a90a5564304",
            "377acad0b5f64ae194d381890bebaaff",
            "3e86b3be2b6349f9981be6093e4b8454",
            "f69cb3e1c10f443c8a9ef8448261709f",
            "a16893515fa9469fae6485b90bd49533",
            "fd41fdbc083d4991af64e98f31b0d11e",
            "73430a53233d4b0f9d05e68dd0e8846c",
            "cbc47132f1eb4ff1bfe17e869ef8aafc",
            "75c24676f1794637baa21c7c8e571723",
            "6d5e2a81411f41c6a41370b9d087ab7a",
            "8ebb75af66b647f58c84fa14aad42c03",
            "a467fca954db4cba90e00bc6d0f55a25",
            "72231a0f16894412abd693143f173339",
            "cdf6c743e6004b789bc650384eddb0b4",
            "0c67b7d024fa4cd29a3d463de1bd32bd"
          ]
        },
        "id": "f0bbcddf",
        "outputId": "3dbae90d-a559-4a2a-cce0-048b7271342c"
      },
      "outputs": [
        {
          "output_type": "stream",
          "name": "stdout",
          "text": [
            "Downloading http://yann.lecun.com/exdb/mnist/train-images-idx3-ubyte.gz\n",
            "Downloading http://yann.lecun.com/exdb/mnist/train-images-idx3-ubyte.gz to ./MNIST/raw/train-images-idx3-ubyte.gz\n"
          ]
        },
        {
          "output_type": "display_data",
          "data": {
            "application/vnd.jupyter.widget-view+json": {
              "model_id": "484adb466b854bf2b603437b7f802fd6",
              "version_minor": 0,
              "version_major": 2
            },
            "text/plain": [
              "  0%|          | 0/9912422 [00:00<?, ?it/s]"
            ]
          },
          "metadata": {}
        },
        {
          "output_type": "stream",
          "name": "stdout",
          "text": [
            "Extracting ./MNIST/raw/train-images-idx3-ubyte.gz to ./MNIST/raw\n",
            "\n",
            "Downloading http://yann.lecun.com/exdb/mnist/train-labels-idx1-ubyte.gz\n",
            "Downloading http://yann.lecun.com/exdb/mnist/train-labels-idx1-ubyte.gz to ./MNIST/raw/train-labels-idx1-ubyte.gz\n"
          ]
        },
        {
          "output_type": "display_data",
          "data": {
            "application/vnd.jupyter.widget-view+json": {
              "model_id": "620bfc093c504b0d9e9eeb7a191f5e44",
              "version_minor": 0,
              "version_major": 2
            },
            "text/plain": [
              "  0%|          | 0/28881 [00:00<?, ?it/s]"
            ]
          },
          "metadata": {}
        },
        {
          "output_type": "stream",
          "name": "stdout",
          "text": [
            "Extracting ./MNIST/raw/train-labels-idx1-ubyte.gz to ./MNIST/raw\n",
            "\n",
            "Downloading http://yann.lecun.com/exdb/mnist/t10k-images-idx3-ubyte.gz\n",
            "Downloading http://yann.lecun.com/exdb/mnist/t10k-images-idx3-ubyte.gz to ./MNIST/raw/t10k-images-idx3-ubyte.gz\n"
          ]
        },
        {
          "output_type": "display_data",
          "data": {
            "application/vnd.jupyter.widget-view+json": {
              "model_id": "70021e5c7c224431858693427812f86c",
              "version_minor": 0,
              "version_major": 2
            },
            "text/plain": [
              "  0%|          | 0/1648877 [00:00<?, ?it/s]"
            ]
          },
          "metadata": {}
        },
        {
          "output_type": "stream",
          "name": "stdout",
          "text": [
            "Extracting ./MNIST/raw/t10k-images-idx3-ubyte.gz to ./MNIST/raw\n",
            "\n",
            "Downloading http://yann.lecun.com/exdb/mnist/t10k-labels-idx1-ubyte.gz\n",
            "Downloading http://yann.lecun.com/exdb/mnist/t10k-labels-idx1-ubyte.gz to ./MNIST/raw/t10k-labels-idx1-ubyte.gz\n"
          ]
        },
        {
          "output_type": "display_data",
          "data": {
            "application/vnd.jupyter.widget-view+json": {
              "model_id": "a16893515fa9469fae6485b90bd49533",
              "version_minor": 0,
              "version_major": 2
            },
            "text/plain": [
              "  0%|          | 0/4542 [00:00<?, ?it/s]"
            ]
          },
          "metadata": {}
        },
        {
          "output_type": "stream",
          "name": "stdout",
          "text": [
            "Extracting ./MNIST/raw/t10k-labels-idx1-ubyte.gz to ./MNIST/raw\n",
            "\n",
            "# train: 60000\n",
            "# test: 10000\n"
          ]
        }
      ],
      "source": [
        "train = torchvision.datasets.MNIST(\"./\", train=True, download=True)\n",
        "test = torchvision.datasets.MNIST(\"./\", train=False, download=True)\n",
        "\n",
        "print('# train:', len(train))\n",
        "print(\"# test:\", len(test))"
      ]
    },
    {
      "cell_type": "code",
      "execution_count": 6,
      "metadata": {
        "colab": {
          "base_uri": "https://localhost:8080/",
          "height": 252
        },
        "id": "56bc29cd",
        "outputId": "6954ced9-be40-46fe-c5aa-e5f0902538f5"
      },
      "outputs": [
        {
          "output_type": "display_data",
          "data": {
            "image/png": "[encoded data removed]",
            "text/plain": [
              "<Figure size 432x288 with 100 Axes>"
            ]
          },
          "metadata": {
            "needs_background": "light"
          }
        }
      ],
      "source": [
        "# show some images\n",
        "plt.figure()                                      # create new figure\n",
        "fig_size = [20, 20]                               # specify figure size\n",
        "plt.rcParams[\"figure.figsize\"] = fig_size         # set figure size\n",
        "\n",
        "#Plot firs 100 train image of dataset\n",
        "for i in range(1,101):                          \n",
        "    ax = plt.subplot(10, 10, i)                   # Specify the i'th subplot of a 10*10 grid\n",
        "    img = train[i][0]                             # train[i][0] is the image, train[i][1] is the label\n",
        "    ax.get_xaxis().set_visible(False)             # Disable plot axis.\n",
        "    ax.get_yaxis().set_visible(False)\n",
        "    plt.imshow(img)\n",
        "    \n",
        "plt.show()"
      ]
    },
    {
      "cell_type": "markdown",
      "metadata": {
        "id": "6b32f8b2"
      },
      "source": [
        "#### Prepare Data"
      ]
    },
    {
      "cell_type": "code",
      "execution_count": 7,
      "metadata": {
        "id": "af1fd65a"
      },
      "outputs": [],
      "source": [
        "# transforms\n",
        "# first convert image to tensor with values in [0, 1]\n",
        "# normalize image over all channels to be between [-1, 1]\n",
        "\n",
        "transform = torchvision.transforms.Compose([\n",
        "    torchvision.transforms.ToTensor(),\n",
        "    torchvision.transforms.Normalize(mean=0.5, std=0.5)\n",
        "])\n",
        "\n",
        "# attach transforms to dataset\n",
        "train = torchvision.datasets.MNIST(\"./\", train=True, transform=transform, download=True)\n",
        "test = torchvision.datasets.MNIST(\"./\", train=False, transform=transform, download=True)\n",
        "\n",
        "train_loader = DataLoader(train, batch_size=batch_size, shuffle=True) # shuffle training examples\n",
        "test_loader = DataLoader(test, batch_size=1, shuffle=False) # don't shuffle test set"
      ]
    },
    {
      "cell_type": "markdown",
      "metadata": {
        "id": "8154d3e1"
      },
      "source": [
        "### STEP 3 - Model Definition\n",
        "Here, we will define a very simple GAN. It consists of a generator and discriminator. In order to keep the performance of both generator and discriminator similar, we try to use a similar architecture (4 layer FFN).\n",
        "\n",
        "We use a hidden embedding size of 100."
      ]
    },
    {
      "cell_type": "code",
      "execution_count": 8,
      "metadata": {
        "id": "ef29fdc3"
      },
      "outputs": [],
      "source": [
        "class Generator(nn.Module):\n",
        "    def __init__(self):\n",
        "        super(Generator, self).__init__()       \n",
        "        self.fc1 = nn.Linear(100, 256)\n",
        "        self.fc2 = nn.Linear(256, 512)\n",
        "        self.fc3 = nn.Linear(512, 1024)\n",
        "        self.fc4 = nn.Linear(1024, 28 * 28)\n",
        "    \n",
        "    # forward method\n",
        "    def forward(self, x): \n",
        "        x = F.leaky_relu(self.fc1(x), 0.2)\n",
        "        x = F.leaky_relu(self.fc2(x), 0.2)\n",
        "        x = F.leaky_relu(self.fc3(x), 0.2)\n",
        "        return torch.tanh(self.fc4(x))\n",
        "    \n",
        "class Discriminator(nn.Module):\n",
        "    def __init__(self):\n",
        "        super(Discriminator, self).__init__()\n",
        "        self.fc1 = nn.Linear(28 * 28, 1024)\n",
        "        self.fc2 = nn.Linear(1024, 512)\n",
        "        self.fc3 = nn.Linear(512, 256)\n",
        "        self.fc4 = nn.Linear(256, 1)\n",
        "    \n",
        "    # forward method\n",
        "    def forward(self, x):\n",
        "        x = x.view((-1, 28 * 28))\n",
        "        x = F.leaky_relu(self.fc1(x), 0.2)\n",
        "        x = F.dropout(x, 0.3)\n",
        "        x = F.leaky_relu(self.fc2(x), 0.2)\n",
        "        x = F.dropout(x, 0.3)\n",
        "        x = F.leaky_relu(self.fc3(x), 0.2)\n",
        "        x = F.dropout(x, 0.3)\n",
        "        return torch.flatten(torch.sigmoid(self.fc4(x)))"
      ]
    },
    {
      "cell_type": "code",
      "execution_count": 9,
      "metadata": {
        "colab": {
          "base_uri": "https://localhost:8080/"
        },
        "id": "6a436aaf",
        "outputId": "bdb43990-dfef-4ea2-da0b-9a09ae73b1e2"
      },
      "outputs": [
        {
          "output_type": "stream",
          "name": "stdout",
          "text": [
            "Batch shape (image):  torch.Size([16, 1, 28, 28])\n",
            "Batch shape (label):  torch.Size([16])\n",
            "Output shape: torch.Size([16])\n",
            "Output shape: torch.Size([16, 784])\n"
          ]
        }
      ],
      "source": [
        "generator = Generator()\n",
        "discriminator = Discriminator()\n",
        "\n",
        "# test out on one batch of images - each batch is given as a list of [Images, Labels]\n",
        "batch = next(iter(train_loader))\n",
        "images = batch[0]\n",
        "labels = batch[1]\n",
        "\n",
        "print(\"Batch shape (image): \", images.shape)\n",
        "print(\"Batch shape (label): \", labels.shape)\n",
        "\n",
        "# feed batch to model\n",
        "output = discriminator(images)\n",
        "print(\"Output shape:\", output.shape)\n",
        "\n",
        "# test generator\n",
        "zeros = torch.zeros((images.shape[0], 100))\n",
        "ones = torch.ones((images.shape[0], 100))\n",
        "z = torch.normal(zeros, ones)\n",
        "output = generator(z)\n",
        "print(\"Output shape:\", output.shape)"
      ]
    },
    {
      "cell_type": "code",
      "execution_count": 10,
      "metadata": {
        "colab": {
          "base_uri": "https://localhost:8080/"
        },
        "id": "b4e89092",
        "outputId": "09108012-2339-4846-ccd0-9373caf70415"
      },
      "outputs": [
        {
          "output_type": "stream",
          "name": "stdout",
          "text": [
            "Generator(\n",
            "  (fc1): Linear(in_features=100, out_features=256, bias=True)\n",
            "  (fc2): Linear(in_features=256, out_features=512, bias=True)\n",
            "  (fc3): Linear(in_features=512, out_features=1024, bias=True)\n",
            "  (fc4): Linear(in_features=1024, out_features=784, bias=True)\n",
            ")\n",
            "Discriminator(\n",
            "  (fc1): Linear(in_features=784, out_features=1024, bias=True)\n",
            "  (fc2): Linear(in_features=1024, out_features=512, bias=True)\n",
            "  (fc3): Linear(in_features=512, out_features=256, bias=True)\n",
            "  (fc4): Linear(in_features=256, out_features=1, bias=True)\n",
            ")\n"
          ]
        }
      ],
      "source": [
        "# model summary (without logging)\n",
        "generator = Generator()\n",
        "discriminator = Discriminator()\n",
        "\n",
        "generator.to(device) # move model to GPU\n",
        "discriminator.to(device)\n",
        "print(generator)\n",
        "print(discriminator)\n",
        "\n",
        "criterion = nn.BCELoss()"
      ]
    },
    {
      "cell_type": "markdown",
      "metadata": {
        "id": "4f1c4e75"
      },
      "source": [
        "### STEP 4 - Set up optimizers and loss functions"
      ]
    },
    {
      "cell_type": "code",
      "execution_count": 11,
      "metadata": {
        "id": "8a2d7f09"
      },
      "outputs": [],
      "source": [
        "opt_gen = optim.Adam(generator.parameters(), lr=0.0002)\n",
        "opt_dis = optim.Adam(discriminator.parameters(), lr=0.0002)"
      ]
    },
    {
      "cell_type": "markdown",
      "metadata": {
        "id": "1aa085c9"
      },
      "source": [
        "#### Training Loop"
      ]
    },
    {
      "cell_type": "code",
      "source": [
        "def train_generator():\n",
        "    generator.zero_grad()\n",
        "\n",
        "    z = Variable(torch.randn(batch_size, 100).to(device))\n",
        "    y = Variable(torch.ones(batch_size).to(device))\n",
        "\n",
        "    gen_img = generator(z)\n",
        "    d_gen = discriminator(gen_img)\n",
        "    gen_loss = criterion(d_gen, y)\n",
        "\n",
        "    # gradient backprop & optimize ONLY G's parameters\n",
        "    gen_loss.backward()\n",
        "    opt_gen.step()\n",
        "        \n",
        "    return gen_loss.item()\n",
        "\n",
        "def train_discriminator(img):\n",
        "    discriminator.zero_grad()\n",
        "\n",
        "    # train on real image\n",
        "    real_img = Variable(img.to(device))\n",
        "    real_label = Variable(torch.ones(img.shape[0]).to(device))\n",
        "\n",
        "    d_real = discriminator(real_img)\n",
        "    d_real = torch.flatten(d_real)\n",
        "    real_loss = criterion(d_real, real_label)\n",
        "\n",
        "    # noise\n",
        "    z = Variable(torch.randn(img.shape[0], 100).to(device))\n",
        "    fake_img = generator(z)\n",
        "    fake_label = Variable(torch.zeros(img.shape[0]).to(device))\n",
        "\n",
        "    d_fake = discriminator(fake_img)\n",
        "    fake_loss = criterion(d_fake, fake_label)\n",
        "    d_loss = real_loss + fake_loss\n",
        "    d_loss.backward()\n",
        "    opt_dis.step()\n",
        "\n",
        "    return d_loss.data.item()"
      ],
      "metadata": {
        "id": "ZOvyj_l6YW6V"
      },
      "execution_count": 12,
      "outputs": []
    },
    {
      "cell_type": "code",
      "execution_count": 13,
      "metadata": {
        "colab": {
          "base_uri": "https://localhost:8080/"
        },
        "id": "7bca6a88",
        "outputId": "64ed8485-1ab3-4ba7-f0f8-09c9139c136a"
      },
      "outputs": [
        {
          "output_type": "stream",
          "name": "stdout",
          "text": [
            "[1/100]: loss_d: 1.064, loss_g: 1.610\n",
            "[2/100]: loss_d: 0.870, loss_g: 1.618\n",
            "[3/100]: loss_d: 1.000, loss_g: 1.361\n",
            "[4/100]: loss_d: 1.058, loss_g: 1.257\n",
            "[5/100]: loss_d: 1.084, loss_g: 1.211\n",
            "[6/100]: loss_d: 1.124, loss_g: 1.131\n",
            "[7/100]: loss_d: 1.181, loss_g: 1.044\n",
            "[8/100]: loss_d: 1.203, loss_g: 0.999\n",
            "[9/100]: loss_d: 1.210, loss_g: 0.994\n",
            "[10/100]: loss_d: 1.230, loss_g: 0.961\n",
            "[11/100]: loss_d: 1.231, loss_g: 0.955\n",
            "[12/100]: loss_d: 1.249, loss_g: 0.923\n",
            "[13/100]: loss_d: 1.256, loss_g: 0.912\n",
            "[14/100]: loss_d: 1.269, loss_g: 0.897\n",
            "[15/100]: loss_d: 1.271, loss_g: 0.892\n",
            "[16/100]: loss_d: 1.282, loss_g: 0.873\n",
            "[17/100]: loss_d: 1.283, loss_g: 0.873\n",
            "[18/100]: loss_d: 1.284, loss_g: 0.871\n",
            "[19/100]: loss_d: 1.287, loss_g: 0.870\n",
            "[20/100]: loss_d: 1.287, loss_g: 0.868\n",
            "[21/100]: loss_d: 1.292, loss_g: 0.856\n",
            "[22/100]: loss_d: 1.292, loss_g: 0.861\n",
            "[23/100]: loss_d: 1.293, loss_g: 0.858\n",
            "[24/100]: loss_d: 1.295, loss_g: 0.856\n",
            "[25/100]: loss_d: 1.296, loss_g: 0.855\n",
            "[26/100]: loss_d: 1.297, loss_g: 0.850\n",
            "[27/100]: loss_d: 1.296, loss_g: 0.854\n",
            "[28/100]: loss_d: 1.301, loss_g: 0.849\n",
            "[29/100]: loss_d: 1.298, loss_g: 0.855\n",
            "[30/100]: loss_d: 1.299, loss_g: 0.849\n",
            "[31/100]: loss_d: 1.301, loss_g: 0.848\n",
            "[32/100]: loss_d: 1.302, loss_g: 0.849\n",
            "[33/100]: loss_d: 1.301, loss_g: 0.849\n",
            "[34/100]: loss_d: 1.300, loss_g: 0.850\n",
            "[35/100]: loss_d: 1.298, loss_g: 0.853\n",
            "[36/100]: loss_d: 1.301, loss_g: 0.850\n",
            "[37/100]: loss_d: 1.300, loss_g: 0.847\n",
            "[38/100]: loss_d: 1.297, loss_g: 0.856\n",
            "[39/100]: loss_d: 1.300, loss_g: 0.849\n",
            "[40/100]: loss_d: 1.296, loss_g: 0.858\n",
            "[41/100]: loss_d: 1.298, loss_g: 0.853\n",
            "[42/100]: loss_d: 1.301, loss_g: 0.851\n",
            "[43/100]: loss_d: 1.299, loss_g: 0.854\n",
            "[44/100]: loss_d: 1.297, loss_g: 0.859\n",
            "[45/100]: loss_d: 1.300, loss_g: 0.851\n",
            "[46/100]: loss_d: 1.295, loss_g: 0.863\n",
            "[47/100]: loss_d: 1.302, loss_g: 0.849\n",
            "[48/100]: loss_d: 1.300, loss_g: 0.856\n",
            "[49/100]: loss_d: 1.296, loss_g: 0.858\n",
            "[50/100]: loss_d: 1.293, loss_g: 0.861\n",
            "[51/100]: loss_d: 1.299, loss_g: 0.855\n",
            "[52/100]: loss_d: 1.300, loss_g: 0.854\n",
            "[53/100]: loss_d: 1.297, loss_g: 0.857\n",
            "[54/100]: loss_d: 1.295, loss_g: 0.854\n",
            "[55/100]: loss_d: 1.298, loss_g: 0.854\n",
            "[56/100]: loss_d: 1.299, loss_g: 0.856\n",
            "[57/100]: loss_d: 1.295, loss_g: 0.862\n",
            "[58/100]: loss_d: 1.294, loss_g: 0.861\n",
            "[59/100]: loss_d: 1.292, loss_g: 0.862\n",
            "[60/100]: loss_d: 1.294, loss_g: 0.861\n",
            "[61/100]: loss_d: 1.294, loss_g: 0.863\n",
            "[62/100]: loss_d: 1.289, loss_g: 0.868\n",
            "[63/100]: loss_d: 1.295, loss_g: 0.861\n",
            "[64/100]: loss_d: 1.293, loss_g: 0.867\n",
            "[65/100]: loss_d: 1.293, loss_g: 0.862\n",
            "[66/100]: loss_d: 1.291, loss_g: 0.868\n",
            "[67/100]: loss_d: 1.292, loss_g: 0.866\n",
            "[68/100]: loss_d: 1.291, loss_g: 0.871\n",
            "[69/100]: loss_d: 1.293, loss_g: 0.864\n",
            "[70/100]: loss_d: 1.293, loss_g: 0.865\n",
            "[71/100]: loss_d: 1.290, loss_g: 0.869\n",
            "[72/100]: loss_d: 1.291, loss_g: 0.872\n",
            "[73/100]: loss_d: 1.288, loss_g: 0.875\n",
            "[74/100]: loss_d: 1.293, loss_g: 0.865\n",
            "[75/100]: loss_d: 1.289, loss_g: 0.870\n",
            "[76/100]: loss_d: 1.294, loss_g: 0.866\n",
            "[77/100]: loss_d: 1.287, loss_g: 0.875\n",
            "[78/100]: loss_d: 1.287, loss_g: 0.877\n",
            "[79/100]: loss_d: 1.290, loss_g: 0.866\n",
            "[80/100]: loss_d: 1.290, loss_g: 0.874\n",
            "[81/100]: loss_d: 1.285, loss_g: 0.878\n",
            "[82/100]: loss_d: 1.293, loss_g: 0.866\n",
            "[83/100]: loss_d: 1.288, loss_g: 0.874\n",
            "[84/100]: loss_d: 1.292, loss_g: 0.869\n",
            "[85/100]: loss_d: 1.285, loss_g: 0.876\n",
            "[86/100]: loss_d: 1.287, loss_g: 0.869\n",
            "[87/100]: loss_d: 1.287, loss_g: 0.878\n",
            "[88/100]: loss_d: 1.290, loss_g: 0.871\n",
            "[89/100]: loss_d: 1.283, loss_g: 0.884\n",
            "[90/100]: loss_d: 1.293, loss_g: 0.865\n",
            "[91/100]: loss_d: 1.283, loss_g: 0.881\n",
            "[92/100]: loss_d: 1.289, loss_g: 0.873\n",
            "[93/100]: loss_d: 1.278, loss_g: 0.891\n",
            "[94/100]: loss_d: 1.281, loss_g: 0.882\n",
            "[95/100]: loss_d: 1.282, loss_g: 0.882\n",
            "[96/100]: loss_d: 1.281, loss_g: 0.884\n",
            "[97/100]: loss_d: 1.284, loss_g: 0.879\n",
            "[98/100]: loss_d: 1.288, loss_g: 0.874\n",
            "[99/100]: loss_d: 1.276, loss_g: 0.895\n",
            "[100/100]: loss_d: 1.283, loss_g: 0.876\n"
          ]
        }
      ],
      "source": [
        "for epoch in range(1, epochs+1):           \n",
        "    d_loss, g_loss = [], []\n",
        "    for i, (data, _) in enumerate(train_loader):\n",
        "        d_loss.append(train_discriminator(data))\n",
        "        g_loss.append(train_generator())\n",
        "        \n",
        "\n",
        "    print('[%d/%d]: loss_d: %.3f, loss_g: %.3f' % (\n",
        "            (epoch), epochs, torch.mean(torch.FloatTensor(d_loss)), torch.mean(torch.FloatTensor(g_loss))))"
      ]
    },
    {
      "cell_type": "markdown",
      "metadata": {
        "id": "tah81zOu_88p"
      },
      "source": [
        "### Save the model and load the model"
      ]
    },
    {
      "cell_type": "code",
      "execution_count": 15,
      "metadata": {
        "id": "b4a380ad"
      },
      "outputs": [],
      "source": [
        "torch.save(generator.state_dict(), \"./gen_weights.pth\") # save model to path\n",
        "torch.save(discriminator.state_dict(), \"./dis_weights.pth\") # save model to path\n",
        "\n",
        "gen = Generator()\n",
        "gen.load_state_dict(torch.load(\"./gen_weights.pth\")) # load the weights of saved model\n",
        "gen = gen.to(device) # move network to gpu"
      ]
    },
    {
      "cell_type": "markdown",
      "source": [
        "Use the trained generator to generate digits."
      ],
      "metadata": {
        "id": "v2RWZFXNLB7t"
      }
    },
    {
      "cell_type": "code",
      "source": [
        "def generate_image():\n",
        "    plt.figure()                                      # create new figure\n",
        "    fig_size = [20, 20]                               # specify figure size\n",
        "    plt.rcParams[\"figure.figsize\"] = fig_size         # set figure size\n",
        "\n",
        "    #Plot firs 100 train image of dataset\n",
        "    for i in range(1,101):                          \n",
        "        ax = plt.subplot(10, 10, i)                   # Specify the i'th subplot of a 10*10 grid\n",
        "        z = Variable(torch.randn(1, 100).to(device))\n",
        "        new_data = gen(z)\n",
        "        new_data = new_data.view(-1, 28, 28)\n",
        "        new_image = torchvision.transforms.ToPILImage()(new_data.squeeze(0))                             # train[i][0] is the image, train[i][1] is the label\n",
        "        ax.get_xaxis().set_visible(False)             # Disable plot axis.\n",
        "        ax.get_yaxis().set_visible(False)\n",
        "        plt.imshow(new_image)\n",
        "        \n",
        "    plt.show()"
      ],
      "metadata": {
        "id": "CpBOtG9oLHz5"
      },
      "execution_count": 24,
      "outputs": []
    },
    {
      "cell_type": "code",
      "execution_count": 25,
      "metadata": {
        "id": "riENAvLWAU7z",
        "colab": {
          "base_uri": "https://localhost:8080/",
          "height": 1000
        },
        "outputId": "05e3c301-9e2e-49e7-fb38-8746832c8bca"
      },
      "outputs": [
        {
          "output_type": "display_data",
          "data": {
            "image/png": "[encoded data removed]",
            "text/plain": [
              "<Figure size 1440x1440 with 100 Axes>"
            ]
          },
          "metadata": {
            "needs_background": "light"
          }
        }
      ],
      "source": [
        "generate_image()"
      ]
    },
    {
      "cell_type": "code",
      "source": [
        ""
      ],
      "metadata": {
        "id": "WrAwkYYqL5N0"
      },
      "execution_count": null,
      "outputs": []
    }
  ],
  "metadata": {
    "accelerator": "GPU",
    "colab": {
      "name": "GAN_pytorch.ipynb",
      "provenance": [],
      "collapsed_sections": []
    },
    "kernelspec": {
      "display_name": "Python 3",
      "name": "python3"
    },
    "language_info": {
      "name": "python"
    },
    "widgets": {
      "application/vnd.jupyter.widget-state+json": {
        "484adb466b854bf2b603437b7f802fd6": {
          "model_module": "@jupyter-widgets/controls",
          "model_name": "HBoxModel",
          "model_module_version": "1.5.0",
          "state": {
            "_view_name": "HBoxView",
            "_dom_classes": [],
            "_model_name": "HBoxModel",
            "_view_module": "@jupyter-widgets/controls",
            "_model_module_version": "1.5.0",
            "_view_count": null,
            "_view_module_version": "1.5.0",
            "box_style": "",
            "layout": "IPY_MODEL_b1cc2ec88b1f4ca4929894e51654eed2",
            "_model_module": "@jupyter-widgets/controls",
            "children": [
              "IPY_MODEL_cf3dab7ed964482480a66f0f4ecd9e6d",
              "IPY_MODEL_86e000e6897746e1bac2bfcdd970f9fe",
              "IPY_MODEL_fe2287f37a3746a7b7ce589ef2a7dda0"
            ]
          }
        },
        "b1cc2ec88b1f4ca4929894e51654eed2": {
          "model_module": "@jupyter-widgets/base",
          "model_name": "LayoutModel",
          "model_module_version": "1.2.0",
          "state": {
            "_view_name": "LayoutView",
            "grid_template_rows": null,
            "right": null,
            "justify_content": null,
            "_view_module": "@jupyter-widgets/base",
            "overflow": null,
            "_model_module_version": "1.2.0",
            "_view_count": null,
            "flex_flow": null,
            "width": null,
            "min_width": null,
            "border": null,
            "align_items": null,
            "bottom": null,
            "_model_module": "@jupyter-widgets/base",
            "top": null,
            "grid_column": null,
            "overflow_y": null,
            "overflow_x": null,
            "grid_auto_flow": null,
            "grid_area": null,
            "grid_template_columns": null,
            "flex": null,
            "_model_name": "LayoutModel",
            "justify_items": null,
            "grid_row": null,
            "max_height": null,
            "align_content": null,
            "visibility": null,
            "align_self": null,
            "height": null,
            "min_height": null,
            "padding": null,
            "grid_auto_rows": null,
            "grid_gap": null,
            "max_width": null,
            "order": null,
            "_view_module_version": "1.2.0",
            "grid_template_areas": null,
            "object_position": null,
            "object_fit": null,
            "grid_auto_columns": null,
            "margin": null,
            "display": null,
            "left": null
          }
        },
        "cf3dab7ed964482480a66f0f4ecd9e6d": {
          "model_module": "@jupyter-widgets/controls",
          "model_name": "HTMLModel",
          "model_module_version": "1.5.0",
          "state": {
            "_view_name": "HTMLView",
            "style": "IPY_MODEL_a0dd9bb5882c4c8daccc82780bf67d7f",
            "_dom_classes": [],
            "description": "",
            "_model_name": "HTMLModel",
            "placeholder": "​",
            "_view_module": "@jupyter-widgets/controls",
            "_model_module_version": "1.5.0",
            "value": "",
            "_view_count": null,
            "_view_module_version": "1.5.0",
            "description_tooltip": null,
            "_model_module": "@jupyter-widgets/controls",
            "layout": "IPY_MODEL_b4f1e9f94f6c4a449d1c765f94b0c763"
          }
        },
        "86e000e6897746e1bac2bfcdd970f9fe": {
          "model_module": "@jupyter-widgets/controls",
          "model_name": "FloatProgressModel",
          "model_module_version": "1.5.0",
          "state": {
            "_view_name": "ProgressView",
            "style": "IPY_MODEL_ffb4d952fa3b4c368880b55426289e61",
            "_dom_classes": [],
            "description": "",
            "_model_name": "FloatProgressModel",
            "bar_style": "success",
            "max": 9912422,
            "_view_module": "@jupyter-widgets/controls",
            "_model_module_version": "1.5.0",
            "value": 9912422,
            "_view_count": null,
            "_view_module_version": "1.5.0",
            "orientation": "horizontal",
            "min": 0,
            "description_tooltip": null,
            "_model_module": "@jupyter-widgets/controls",
            "layout": "IPY_MODEL_48b59dd26cd54a678fb810f66a4923d5"
          }
        },
        "fe2287f37a3746a7b7ce589ef2a7dda0": {
          "model_module": "@jupyter-widgets/controls",
          "model_name": "HTMLModel",
          "model_module_version": "1.5.0",
          "state": {
            "_view_name": "HTMLView",
            "style": "IPY_MODEL_076d2546d2984e0ea26c0d54ca1873b8",
            "_dom_classes": [],
            "description": "",
            "_model_name": "HTMLModel",
            "placeholder": "​",
            "_view_module": "@jupyter-widgets/controls",
            "_model_module_version": "1.5.0",
            "value": " 9913344/? [00:01&lt;00:00, 10256800.62it/s]",
            "_view_count": null,
            "_view_module_version": "1.5.0",
            "description_tooltip": null,
            "_model_module": "@jupyter-widgets/controls",
            "layout": "IPY_MODEL_bcac56002e83462aa72f892d149eac34"
          }
        },
        "a0dd9bb5882c4c8daccc82780bf67d7f": {
          "model_module": "@jupyter-widgets/controls",
          "model_name": "DescriptionStyleModel",
          "model_module_version": "1.5.0",
          "state": {
            "_view_name": "StyleView",
            "_model_name": "DescriptionStyleModel",
            "description_width": "",
            "_view_module": "@jupyter-widgets/base",
            "_model_module_version": "1.5.0",
            "_view_count": null,
            "_view_module_version": "1.2.0",
            "_model_module": "@jupyter-widgets/controls"
          }
        },
        "b4f1e9f94f6c4a449d1c765f94b0c763": {
          "model_module": "@jupyter-widgets/base",
          "model_name": "LayoutModel",
          "model_module_version": "1.2.0",
          "state": {
            "_view_name": "LayoutView",
            "grid_template_rows": null,
            "right": null,
            "justify_content": null,
            "_view_module": "@jupyter-widgets/base",
            "overflow": null,
            "_model_module_version": "1.2.0",
            "_view_count": null,
            "flex_flow": null,
            "width": null,
            "min_width": null,
            "border": null,
            "align_items": null,
            "bottom": null,
            "_model_module": "@jupyter-widgets/base",
            "top": null,
            "grid_column": null,
            "overflow_y": null,
            "overflow_x": null,
            "grid_auto_flow": null,
            "grid_area": null,
            "grid_template_columns": null,
            "flex": null,
            "_model_name": "LayoutModel",
            "justify_items": null,
            "grid_row": null,
            "max_height": null,
            "align_content": null,
            "visibility": null,
            "align_self": null,
            "height": null,
            "min_height": null,
            "padding": null,
            "grid_auto_rows": null,
            "grid_gap": null,
            "max_width": null,
            "order": null,
            "_view_module_version": "1.2.0",
            "grid_template_areas": null,
            "object_position": null,
            "object_fit": null,
            "grid_auto_columns": null,
            "margin": null,
            "display": null,
            "left": null
          }
        },
        "ffb4d952fa3b4c368880b55426289e61": {
          "model_module": "@jupyter-widgets/controls",
          "model_name": "ProgressStyleModel",
          "model_module_version": "1.5.0",
          "state": {
            "_view_name": "StyleView",
            "_model_name": "ProgressStyleModel",
            "description_width": "",
            "_view_module": "@jupyter-widgets/base",
            "_model_module_version": "1.5.0",
            "_view_count": null,
            "_view_module_version": "1.2.0",
            "bar_color": null,
            "_model_module": "@jupyter-widgets/controls"
          }
        },
        "48b59dd26cd54a678fb810f66a4923d5": {
          "model_module": "@jupyter-widgets/base",
          "model_name": "LayoutModel",
          "model_module_version": "1.2.0",
          "state": {
            "_view_name": "LayoutView",
            "grid_template_rows": null,
            "right": null,
            "justify_content": null,
            "_view_module": "@jupyter-widgets/base",
            "overflow": null,
            "_model_module_version": "1.2.0",
            "_view_count": null,
            "flex_flow": null,
            "width": null,
            "min_width": null,
            "border": null,
            "align_items": null,
            "bottom": null,
            "_model_module": "@jupyter-widgets/base",
            "top": null,
            "grid_column": null,
            "overflow_y": null,
            "overflow_x": null,
            "grid_auto_flow": null,
            "grid_area": null,
            "grid_template_columns": null,
            "flex": null,
            "_model_name": "LayoutModel",
            "justify_items": null,
            "grid_row": null,
            "max_height": null,
            "align_content": null,
            "visibility": null,
            "align_self": null,
            "height": null,
            "min_height": null,
            "padding": null,
            "grid_auto_rows": null,
            "grid_gap": null,
            "max_width": null,
            "order": null,
            "_view_module_version": "1.2.0",
            "grid_template_areas": null,
            "object_position": null,
            "object_fit": null,
            "grid_auto_columns": null,
            "margin": null,
            "display": null,
            "left": null
          }
        },
        "076d2546d2984e0ea26c0d54ca1873b8": {
          "model_module": "@jupyter-widgets/controls",
          "model_name": "DescriptionStyleModel",
          "model_module_version": "1.5.0",
          "state": {
            "_view_name": "StyleView",
            "_model_name": "DescriptionStyleModel",
            "description_width": "",
            "_view_module": "@jupyter-widgets/base",
            "_model_module_version": "1.5.0",
            "_view_count": null,
            "_view_module_version": "1.2.0",
            "_model_module": "@jupyter-widgets/controls"
          }
        },
        "bcac56002e83462aa72f892d149eac34": {
          "model_module": "@jupyter-widgets/base",
          "model_name": "LayoutModel",
          "model_module_version": "1.2.0",
          "state": {
            "_view_name": "LayoutView",
            "grid_template_rows": null,
            "right": null,
            "justify_content": null,
            "_view_module": "@jupyter-widgets/base",
            "overflow": null,
            "_model_module_version": "1.2.0",
            "_view_count": null,
            "flex_flow": null,
            "width": null,
            "min_width": null,
            "border": null,
            "align_items": null,
            "bottom": null,
            "_model_module": "@jupyter-widgets/base",
            "top": null,
            "grid_column": null,
            "overflow_y": null,
            "overflow_x": null,
            "grid_auto_flow": null,
            "grid_area": null,
            "grid_template_columns": null,
            "flex": null,
            "_model_name": "LayoutModel",
            "justify_items": null,
            "grid_row": null,
            "max_height": null,
            "align_content": null,
            "visibility": null,
            "align_self": null,
            "height": null,
            "min_height": null,
            "padding": null,
            "grid_auto_rows": null,
            "grid_gap": null,
            "max_width": null,
            "order": null,
            "_view_module_version": "1.2.0",
            "grid_template_areas": null,
            "object_position": null,
            "object_fit": null,
            "grid_auto_columns": null,
            "margin": null,
            "display": null,
            "left": null
          }
        },
        "620bfc093c504b0d9e9eeb7a191f5e44": {
          "model_module": "@jupyter-widgets/controls",
          "model_name": "HBoxModel",
          "model_module_version": "1.5.0",
          "state": {
            "_view_name": "HBoxView",
            "_dom_classes": [],
            "_model_name": "HBoxModel",
            "_view_module": "@jupyter-widgets/controls",
            "_model_module_version": "1.5.0",
            "_view_count": null,
            "_view_module_version": "1.5.0",
            "box_style": "",
            "layout": "IPY_MODEL_5211f35b1df844cf9fa0c3ed906c8ddf",
            "_model_module": "@jupyter-widgets/controls",
            "children": [
              "IPY_MODEL_463cafc611514fd5a7776aba0d85f7c1",
              "IPY_MODEL_f5606632e371400d9788d482a2aeefb4",
              "IPY_MODEL_33ed45d6054f4e0ea54f3255bd75bf66"
            ]
          }
        },
        "5211f35b1df844cf9fa0c3ed906c8ddf": {
          "model_module": "@jupyter-widgets/base",
          "model_name": "LayoutModel",
          "model_module_version": "1.2.0",
          "state": {
            "_view_name": "LayoutView",
            "grid_template_rows": null,
            "right": null,
            "justify_content": null,
            "_view_module": "@jupyter-widgets/base",
            "overflow": null,
            "_model_module_version": "1.2.0",
            "_view_count": null,
            "flex_flow": null,
            "width": null,
            "min_width": null,
            "border": null,
            "align_items": null,
            "bottom": null,
            "_model_module": "@jupyter-widgets/base",
            "top": null,
            "grid_column": null,
            "overflow_y": null,
            "overflow_x": null,
            "grid_auto_flow": null,
            "grid_area": null,
            "grid_template_columns": null,
            "flex": null,
            "_model_name": "LayoutModel",
            "justify_items": null,
            "grid_row": null,
            "max_height": null,
            "align_content": null,
            "visibility": null,
            "align_self": null,
            "height": null,
            "min_height": null,
            "padding": null,
            "grid_auto_rows": null,
            "grid_gap": null,
            "max_width": null,
            "order": null,
            "_view_module_version": "1.2.0",
            "grid_template_areas": null,
            "object_position": null,
            "object_fit": null,
            "grid_auto_columns": null,
            "margin": null,
            "display": null,
            "left": null
          }
        },
        "463cafc611514fd5a7776aba0d85f7c1": {
          "model_module": "@jupyter-widgets/controls",
          "model_name": "HTMLModel",
          "model_module_version": "1.5.0",
          "state": {
            "_view_name": "HTMLView",
            "style": "IPY_MODEL_43e90369eb164f80baeffa3703f7dbff",
            "_dom_classes": [],
            "description": "",
            "_model_name": "HTMLModel",
            "placeholder": "​",
            "_view_module": "@jupyter-widgets/controls",
            "_model_module_version": "1.5.0",
            "value": "",
            "_view_count": null,
            "_view_module_version": "1.5.0",
            "description_tooltip": null,
            "_model_module": "@jupyter-widgets/controls",
            "layout": "IPY_MODEL_98c5492c80894aefaeaf5a71c7362fcb"
          }
        },
        "f5606632e371400d9788d482a2aeefb4": {
          "model_module": "@jupyter-widgets/controls",
          "model_name": "FloatProgressModel",
          "model_module_version": "1.5.0",
          "state": {
            "_view_name": "ProgressView",
            "style": "IPY_MODEL_f17b876d69a943c1ae573f49671ccd86",
            "_dom_classes": [],
            "description": "",
            "_model_name": "FloatProgressModel",
            "bar_style": "success",
            "max": 28881,
            "_view_module": "@jupyter-widgets/controls",
            "_model_module_version": "1.5.0",
            "value": 28881,
            "_view_count": null,
            "_view_module_version": "1.5.0",
            "orientation": "horizontal",
            "min": 0,
            "description_tooltip": null,
            "_model_module": "@jupyter-widgets/controls",
            "layout": "IPY_MODEL_79ecdf9592be47c7a7a8ae9168ec5d6d"
          }
        },
        "33ed45d6054f4e0ea54f3255bd75bf66": {
          "model_module": "@jupyter-widgets/controls",
          "model_name": "HTMLModel",
          "model_module_version": "1.5.0",
          "state": {
            "_view_name": "HTMLView",
            "style": "IPY_MODEL_5b82822eeb9444cba1bd7b49c235cdc6",
            "_dom_classes": [],
            "description": "",
            "_model_name": "HTMLModel",
            "placeholder": "​",
            "_view_module": "@jupyter-widgets/controls",
            "_model_module_version": "1.5.0",
            "value": " 29696/? [00:00&lt;00:00, 81885.72it/s]",
            "_view_count": null,
            "_view_module_version": "1.5.0",
            "description_tooltip": null,
            "_model_module": "@jupyter-widgets/controls",
            "layout": "IPY_MODEL_d77c504c49714dae8a7a5c375f52df6d"
          }
        },
        "43e90369eb164f80baeffa3703f7dbff": {
          "model_module": "@jupyter-widgets/controls",
          "model_name": "DescriptionStyleModel",
          "model_module_version": "1.5.0",
          "state": {
            "_view_name": "StyleView",
            "_model_name": "DescriptionStyleModel",
            "description_width": "",
            "_view_module": "@jupyter-widgets/base",
            "_model_module_version": "1.5.0",
            "_view_count": null,
            "_view_module_version": "1.2.0",
            "_model_module": "@jupyter-widgets/controls"
          }
        },
        "98c5492c80894aefaeaf5a71c7362fcb": {
          "model_module": "@jupyter-widgets/base",
          "model_name": "LayoutModel",
          "model_module_version": "1.2.0",
          "state": {
            "_view_name": "LayoutView",
            "grid_template_rows": null,
            "right": null,
            "justify_content": null,
            "_view_module": "@jupyter-widgets/base",
            "overflow": null,
            "_model_module_version": "1.2.0",
            "_view_count": null,
            "flex_flow": null,
            "width": null,
            "min_width": null,
            "border": null,
            "align_items": null,
            "bottom": null,
            "_model_module": "@jupyter-widgets/base",
            "top": null,
            "grid_column": null,
            "overflow_y": null,
            "overflow_x": null,
            "grid_auto_flow": null,
            "grid_area": null,
            "grid_template_columns": null,
            "flex": null,
            "_model_name": "LayoutModel",
            "justify_items": null,
            "grid_row": null,
            "max_height": null,
            "align_content": null,
            "visibility": null,
            "align_self": null,
            "height": null,
            "min_height": null,
            "padding": null,
            "grid_auto_rows": null,
            "grid_gap": null,
            "max_width": null,
            "order": null,
            "_view_module_version": "1.2.0",
            "grid_template_areas": null,
            "object_position": null,
            "object_fit": null,
            "grid_auto_columns": null,
            "margin": null,
            "display": null,
            "left": null
          }
        },
        "f17b876d69a943c1ae573f49671ccd86": {
          "model_module": "@jupyter-widgets/controls",
          "model_name": "ProgressStyleModel",
          "model_module_version": "1.5.0",
          "state": {
            "_view_name": "StyleView",
            "_model_name": "ProgressStyleModel",
            "description_width": "",
            "_view_module": "@jupyter-widgets/base",
            "_model_module_version": "1.5.0",
            "_view_count": null,
            "_view_module_version": "1.2.0",
            "bar_color": null,
            "_model_module": "@jupyter-widgets/controls"
          }
        },
        "79ecdf9592be47c7a7a8ae9168ec5d6d": {
          "model_module": "@jupyter-widgets/base",
          "model_name": "LayoutModel",
          "model_module_version": "1.2.0",
          "state": {
            "_view_name": "LayoutView",
            "grid_template_rows": null,
            "right": null,
            "justify_content": null,
            "_view_module": "@jupyter-widgets/base",
            "overflow": null,
            "_model_module_version": "1.2.0",
            "_view_count": null,
            "flex_flow": null,
            "width": null,
            "min_width": null,
            "border": null,
            "align_items": null,
            "bottom": null,
            "_model_module": "@jupyter-widgets/base",
            "top": null,
            "grid_column": null,
            "overflow_y": null,
            "overflow_x": null,
            "grid_auto_flow": null,
            "grid_area": null,
            "grid_template_columns": null,
            "flex": null,
            "_model_name": "LayoutModel",
            "justify_items": null,
            "grid_row": null,
            "max_height": null,
            "align_content": null,
            "visibility": null,
            "align_self": null,
            "height": null,
            "min_height": null,
            "padding": null,
            "grid_auto_rows": null,
            "grid_gap": null,
            "max_width": null,
            "order": null,
            "_view_module_version": "1.2.0",
            "grid_template_areas": null,
            "object_position": null,
            "object_fit": null,
            "grid_auto_columns": null,
            "margin": null,
            "display": null,
            "left": null
          }
        },
        "5b82822eeb9444cba1bd7b49c235cdc6": {
          "model_module": "@jupyter-widgets/controls",
          "model_name": "DescriptionStyleModel",
          "model_module_version": "1.5.0",
          "state": {
            "_view_name": "StyleView",
            "_model_name": "DescriptionStyleModel",
            "description_width": "",
            "_view_module": "@jupyter-widgets/base",
            "_model_module_version": "1.5.0",
            "_view_count": null,
            "_view_module_version": "1.2.0",
            "_model_module": "@jupyter-widgets/controls"
          }
        },
        "d77c504c49714dae8a7a5c375f52df6d": {
          "model_module": "@jupyter-widgets/base",
          "model_name": "LayoutModel",
          "model_module_version": "1.2.0",
          "state": {
            "_view_name": "LayoutView",
            "grid_template_rows": null,
            "right": null,
            "justify_content": null,
            "_view_module": "@jupyter-widgets/base",
            "overflow": null,
            "_model_module_version": "1.2.0",
            "_view_count": null,
            "flex_flow": null,
            "width": null,
            "min_width": null,
            "border": null,
            "align_items": null,
            "bottom": null,
            "_model_module": "@jupyter-widgets/base",
            "top": null,
            "grid_column": null,
            "overflow_y": null,
            "overflow_x": null,
            "grid_auto_flow": null,
            "grid_area": null,
            "grid_template_columns": null,
            "flex": null,
            "_model_name": "LayoutModel",
            "justify_items": null,
            "grid_row": null,
            "max_height": null,
            "align_content": null,
            "visibility": null,
            "align_self": null,
            "height": null,
            "min_height": null,
            "padding": null,
            "grid_auto_rows": null,
            "grid_gap": null,
            "max_width": null,
            "order": null,
            "_view_module_version": "1.2.0",
            "grid_template_areas": null,
            "object_position": null,
            "object_fit": null,
            "grid_auto_columns": null,
            "margin": null,
            "display": null,
            "left": null
          }
        },
        "70021e5c7c224431858693427812f86c": {
          "model_module": "@jupyter-widgets/controls",
          "model_name": "HBoxModel",
          "model_module_version": "1.5.0",
          "state": {
            "_view_name": "HBoxView",
            "_dom_classes": [],
            "_model_name": "HBoxModel",
            "_view_module": "@jupyter-widgets/controls",
            "_model_module_version": "1.5.0",
            "_view_count": null,
            "_view_module_version": "1.5.0",
            "box_style": "",
            "layout": "IPY_MODEL_0818422646aa458e8a36af683902562d",
            "_model_module": "@jupyter-widgets/controls",
            "children": [
              "IPY_MODEL_c8f346f4a5b14005b8fc83aca8667255",
              "IPY_MODEL_5b070c2fb5a7482fbc9d25a72437109e",
              "IPY_MODEL_c19431b915764b44854c6563636912d8"
            ]
          }
        },
        "0818422646aa458e8a36af683902562d": {
          "model_module": "@jupyter-widgets/base",
          "model_name": "LayoutModel",
          "model_module_version": "1.2.0",
          "state": {
            "_view_name": "LayoutView",
            "grid_template_rows": null,
            "right": null,
            "justify_content": null,
            "_view_module": "@jupyter-widgets/base",
            "overflow": null,
            "_model_module_version": "1.2.0",
            "_view_count": null,
            "flex_flow": null,
            "width": null,
            "min_width": null,
            "border": null,
            "align_items": null,
            "bottom": null,
            "_model_module": "@jupyter-widgets/base",
            "top": null,
            "grid_column": null,
            "overflow_y": null,
            "overflow_x": null,
            "grid_auto_flow": null,
            "grid_area": null,
            "grid_template_columns": null,
            "flex": null,
            "_model_name": "LayoutModel",
            "justify_items": null,
            "grid_row": null,
            "max_height": null,
            "align_content": null,
            "visibility": null,
            "align_self": null,
            "height": null,
            "min_height": null,
            "padding": null,
            "grid_auto_rows": null,
            "grid_gap": null,
            "max_width": null,
            "order": null,
            "_view_module_version": "1.2.0",
            "grid_template_areas": null,
            "object_position": null,
            "object_fit": null,
            "grid_auto_columns": null,
            "margin": null,
            "display": null,
            "left": null
          }
        },
        "c8f346f4a5b14005b8fc83aca8667255": {
          "model_module": "@jupyter-widgets/controls",
          "model_name": "HTMLModel",
          "model_module_version": "1.5.0",
          "state": {
            "_view_name": "HTMLView",
            "style": "IPY_MODEL_2406c7039e584f799a91418c97c9bd48",
            "_dom_classes": [],
            "description": "",
            "_model_name": "HTMLModel",
            "placeholder": "​",
            "_view_module": "@jupyter-widgets/controls",
            "_model_module_version": "1.5.0",
            "value": "",
            "_view_count": null,
            "_view_module_version": "1.5.0",
            "description_tooltip": null,
            "_model_module": "@jupyter-widgets/controls",
            "layout": "IPY_MODEL_d562d51f106c4f14b2a38f4b0dcb00e6"
          }
        },
        "5b070c2fb5a7482fbc9d25a72437109e": {
          "model_module": "@jupyter-widgets/controls",
          "model_name": "FloatProgressModel",
          "model_module_version": "1.5.0",
          "state": {
            "_view_name": "ProgressView",
            "style": "IPY_MODEL_fe8640b4d1884df1a63c7a90a5564304",
            "_dom_classes": [],
            "description": "",
            "_model_name": "FloatProgressModel",
            "bar_style": "success",
            "max": 1648877,
            "_view_module": "@jupyter-widgets/controls",
            "_model_module_version": "1.5.0",
            "value": 1648877,
            "_view_count": null,
            "_view_module_version": "1.5.0",
            "orientation": "horizontal",
            "min": 0,
            "description_tooltip": null,
            "_model_module": "@jupyter-widgets/controls",
            "layout": "IPY_MODEL_377acad0b5f64ae194d381890bebaaff"
          }
        },
        "c19431b915764b44854c6563636912d8": {
          "model_module": "@jupyter-widgets/controls",
          "model_name": "HTMLModel",
          "model_module_version": "1.5.0",
          "state": {
            "_view_name": "HTMLView",
            "style": "IPY_MODEL_3e86b3be2b6349f9981be6093e4b8454",
            "_dom_classes": [],
            "description": "",
            "_model_name": "HTMLModel",
            "placeholder": "​",
            "_view_module": "@jupyter-widgets/controls",
            "_model_module_version": "1.5.0",
            "value": " 1649664/? [00:00&lt;00:00, 2746580.46it/s]",
            "_view_count": null,
            "_view_module_version": "1.5.0",
            "description_tooltip": null,
            "_model_module": "@jupyter-widgets/controls",
            "layout": "IPY_MODEL_f69cb3e1c10f443c8a9ef8448261709f"
          }
        },
        "2406c7039e584f799a91418c97c9bd48": {
          "model_module": "@jupyter-widgets/controls",
          "model_name": "DescriptionStyleModel",
          "model_module_version": "1.5.0",
          "state": {
            "_view_name": "StyleView",
            "_model_name": "DescriptionStyleModel",
            "description_width": "",
            "_view_module": "@jupyter-widgets/base",
            "_model_module_version": "1.5.0",
            "_view_count": null,
            "_view_module_version": "1.2.0",
            "_model_module": "@jupyter-widgets/controls"
          }
        },
        "d562d51f106c4f14b2a38f4b0dcb00e6": {
          "model_module": "@jupyter-widgets/base",
          "model_name": "LayoutModel",
          "model_module_version": "1.2.0",
          "state": {
            "_view_name": "LayoutView",
            "grid_template_rows": null,
            "right": null,
            "justify_content": null,
            "_view_module": "@jupyter-widgets/base",
            "overflow": null,
            "_model_module_version": "1.2.0",
            "_view_count": null,
            "flex_flow": null,
            "width": null,
            "min_width": null,
            "border": null,
            "align_items": null,
            "bottom": null,
            "_model_module": "@jupyter-widgets/base",
            "top": null,
            "grid_column": null,
            "overflow_y": null,
            "overflow_x": null,
            "grid_auto_flow": null,
            "grid_area": null,
            "grid_template_columns": null,
            "flex": null,
            "_model_name": "LayoutModel",
            "justify_items": null,
            "grid_row": null,
            "max_height": null,
            "align_content": null,
            "visibility": null,
            "align_self": null,
            "height": null,
            "min_height": null,
            "padding": null,
            "grid_auto_rows": null,
            "grid_gap": null,
            "max_width": null,
            "order": null,
            "_view_module_version": "1.2.0",
            "grid_template_areas": null,
            "object_position": null,
            "object_fit": null,
            "grid_auto_columns": null,
            "margin": null,
            "display": null,
            "left": null
          }
        },
        "fe8640b4d1884df1a63c7a90a5564304": {
          "model_module": "@jupyter-widgets/controls",
          "model_name": "ProgressStyleModel",
          "model_module_version": "1.5.0",
          "state": {
            "_view_name": "StyleView",
            "_model_name": "ProgressStyleModel",
            "description_width": "",
            "_view_module": "@jupyter-widgets/base",
            "_model_module_version": "1.5.0",
            "_view_count": null,
            "_view_module_version": "1.2.0",
            "bar_color": null,
            "_model_module": "@jupyter-widgets/controls"
          }
        },
        "377acad0b5f64ae194d381890bebaaff": {
          "model_module": "@jupyter-widgets/base",
          "model_name": "LayoutModel",
          "model_module_version": "1.2.0",
          "state": {
            "_view_name": "LayoutView",
            "grid_template_rows": null,
            "right": null,
            "justify_content": null,
            "_view_module": "@jupyter-widgets/base",
            "overflow": null,
            "_model_module_version": "1.2.0",
            "_view_count": null,
            "flex_flow": null,
            "width": null,
            "min_width": null,
            "border": null,
            "align_items": null,
            "bottom": null,
            "_model_module": "@jupyter-widgets/base",
            "top": null,
            "grid_column": null,
            "overflow_y": null,
            "overflow_x": null,
            "grid_auto_flow": null,
            "grid_area": null,
            "grid_template_columns": null,
            "flex": null,
            "_model_name": "LayoutModel",
            "justify_items": null,
            "grid_row": null,
            "max_height": null,
            "align_content": null,
            "visibility": null,
            "align_self": null,
            "height": null,
            "min_height": null,
            "padding": null,
            "grid_auto_rows": null,
            "grid_gap": null,
            "max_width": null,
            "order": null,
            "_view_module_version": "1.2.0",
            "grid_template_areas": null,
            "object_position": null,
            "object_fit": null,
            "grid_auto_columns": null,
            "margin": null,
            "display": null,
            "left": null
          }
        },
        "3e86b3be2b6349f9981be6093e4b8454": {
          "model_module": "@jupyter-widgets/controls",
          "model_name": "DescriptionStyleModel",
          "model_module_version": "1.5.0",
          "state": {
            "_view_name": "StyleView",
            "_model_name": "DescriptionStyleModel",
            "description_width": "",
            "_view_module": "@jupyter-widgets/base",
            "_model_module_version": "1.5.0",
            "_view_count": null,
            "_view_module_version": "1.2.0",
            "_model_module": "@jupyter-widgets/controls"
          }
        },
        "f69cb3e1c10f443c8a9ef8448261709f": {
          "model_module": "@jupyter-widgets/base",
          "model_name": "LayoutModel",
          "model_module_version": "1.2.0",
          "state": {
            "_view_name": "LayoutView",
            "grid_template_rows": null,
            "right": null,
            "justify_content": null,
            "_view_module": "@jupyter-widgets/base",
            "overflow": null,
            "_model_module_version": "1.2.0",
            "_view_count": null,
            "flex_flow": null,
            "width": null,
            "min_width": null,
            "border": null,
            "align_items": null,
            "bottom": null,
            "_model_module": "@jupyter-widgets/base",
            "top": null,
            "grid_column": null,
            "overflow_y": null,
            "overflow_x": null,
            "grid_auto_flow": null,
            "grid_area": null,
            "grid_template_columns": null,
            "flex": null,
            "_model_name": "LayoutModel",
            "justify_items": null,
            "grid_row": null,
            "max_height": null,
            "align_content": null,
            "visibility": null,
            "align_self": null,
            "height": null,
            "min_height": null,
            "padding": null,
            "grid_auto_rows": null,
            "grid_gap": null,
            "max_width": null,
            "order": null,
            "_view_module_version": "1.2.0",
            "grid_template_areas": null,
            "object_position": null,
            "object_fit": null,
            "grid_auto_columns": null,
            "margin": null,
            "display": null,
            "left": null
          }
        },
        "a16893515fa9469fae6485b90bd49533": {
          "model_module": "@jupyter-widgets/controls",
          "model_name": "HBoxModel",
          "model_module_version": "1.5.0",
          "state": {
            "_view_name": "HBoxView",
            "_dom_classes": [],
            "_model_name": "HBoxModel",
            "_view_module": "@jupyter-widgets/controls",
            "_model_module_version": "1.5.0",
            "_view_count": null,
            "_view_module_version": "1.5.0",
            "box_style": "",
            "layout": "IPY_MODEL_fd41fdbc083d4991af64e98f31b0d11e",
            "_model_module": "@jupyter-widgets/controls",
            "children": [
              "IPY_MODEL_73430a53233d4b0f9d05e68dd0e8846c",
              "IPY_MODEL_cbc47132f1eb4ff1bfe17e869ef8aafc",
              "IPY_MODEL_75c24676f1794637baa21c7c8e571723"
            ]
          }
        },
        "fd41fdbc083d4991af64e98f31b0d11e": {
          "model_module": "@jupyter-widgets/base",
          "model_name": "LayoutModel",
          "model_module_version": "1.2.0",
          "state": {
            "_view_name": "LayoutView",
            "grid_template_rows": null,
            "right": null,
            "justify_content": null,
            "_view_module": "@jupyter-widgets/base",
            "overflow": null,
            "_model_module_version": "1.2.0",
            "_view_count": null,
            "flex_flow": null,
            "width": null,
            "min_width": null,
            "border": null,
            "align_items": null,
            "bottom": null,
            "_model_module": "@jupyter-widgets/base",
            "top": null,
            "grid_column": null,
            "overflow_y": null,
            "overflow_x": null,
            "grid_auto_flow": null,
            "grid_area": null,
            "grid_template_columns": null,
            "flex": null,
            "_model_name": "LayoutModel",
            "justify_items": null,
            "grid_row": null,
            "max_height": null,
            "align_content": null,
            "visibility": null,
            "align_self": null,
            "height": null,
            "min_height": null,
            "padding": null,
            "grid_auto_rows": null,
            "grid_gap": null,
            "max_width": null,
            "order": null,
            "_view_module_version": "1.2.0",
            "grid_template_areas": null,
            "object_position": null,
            "object_fit": null,
            "grid_auto_columns": null,
            "margin": null,
            "display": null,
            "left": null
          }
        },
        "73430a53233d4b0f9d05e68dd0e8846c": {
          "model_module": "@jupyter-widgets/controls",
          "model_name": "HTMLModel",
          "model_module_version": "1.5.0",
          "state": {
            "_view_name": "HTMLView",
            "style": "IPY_MODEL_6d5e2a81411f41c6a41370b9d087ab7a",
            "_dom_classes": [],
            "description": "",
            "_model_name": "HTMLModel",
            "placeholder": "​",
            "_view_module": "@jupyter-widgets/controls",
            "_model_module_version": "1.5.0",
            "value": "",
            "_view_count": null,
            "_view_module_version": "1.5.0",
            "description_tooltip": null,
            "_model_module": "@jupyter-widgets/controls",
            "layout": "IPY_MODEL_8ebb75af66b647f58c84fa14aad42c03"
          }
        },
        "cbc47132f1eb4ff1bfe17e869ef8aafc": {
          "model_module": "@jupyter-widgets/controls",
          "model_name": "FloatProgressModel",
          "model_module_version": "1.5.0",
          "state": {
            "_view_name": "ProgressView",
            "style": "IPY_MODEL_a467fca954db4cba90e00bc6d0f55a25",
            "_dom_classes": [],
            "description": "",
            "_model_name": "FloatProgressModel",
            "bar_style": "success",
            "max": 4542,
            "_view_module": "@jupyter-widgets/controls",
            "_model_module_version": "1.5.0",
            "value": 4542,
            "_view_count": null,
            "_view_module_version": "1.5.0",
            "orientation": "horizontal",
            "min": 0,
            "description_tooltip": null,
            "_model_module": "@jupyter-widgets/controls",
            "layout": "IPY_MODEL_72231a0f16894412abd693143f173339"
          }
        },
        "75c24676f1794637baa21c7c8e571723": {
          "model_module": "@jupyter-widgets/controls",
          "model_name": "HTMLModel",
          "model_module_version": "1.5.0",
          "state": {
            "_view_name": "HTMLView",
            "style": "IPY_MODEL_cdf6c743e6004b789bc650384eddb0b4",
            "_dom_classes": [],
            "description": "",
            "_model_name": "HTMLModel",
            "placeholder": "​",
            "_view_module": "@jupyter-widgets/controls",
            "_model_module_version": "1.5.0",
            "value": " 5120/? [00:00&lt;00:00, 84682.96it/s]",
            "_view_count": null,
            "_view_module_version": "1.5.0",
            "description_tooltip": null,
            "_model_module": "@jupyter-widgets/controls",
            "layout": "IPY_MODEL_0c67b7d024fa4cd29a3d463de1bd32bd"
          }
        },
        "6d5e2a81411f41c6a41370b9d087ab7a": {
          "model_module": "@jupyter-widgets/controls",
          "model_name": "DescriptionStyleModel",
          "model_module_version": "1.5.0",
          "state": {
            "_view_name": "StyleView",
            "_model_name": "DescriptionStyleModel",
            "description_width": "",
            "_view_module": "@jupyter-widgets/base",
            "_model_module_version": "1.5.0",
            "_view_count": null,
            "_view_module_version": "1.2.0",
            "_model_module": "@jupyter-widgets/controls"
          }
        },
        "8ebb75af66b647f58c84fa14aad42c03": {
          "model_module": "@jupyter-widgets/base",
          "model_name": "LayoutModel",
          "model_module_version": "1.2.0",
          "state": {
            "_view_name": "LayoutView",
            "grid_template_rows": null,
            "right": null,
            "justify_content": null,
            "_view_module": "@jupyter-widgets/base",
            "overflow": null,
            "_model_module_version": "1.2.0",
            "_view_count": null,
            "flex_flow": null,
            "width": null,
            "min_width": null,
            "border": null,
            "align_items": null,
            "bottom": null,
            "_model_module": "@jupyter-widgets/base",
            "top": null,
            "grid_column": null,
            "overflow_y": null,
            "overflow_x": null,
            "grid_auto_flow": null,
            "grid_area": null,
            "grid_template_columns": null,
            "flex": null,
            "_model_name": "LayoutModel",
            "justify_items": null,
            "grid_row": null,
            "max_height": null,
            "align_content": null,
            "visibility": null,
            "align_self": null,
            "height": null,
            "min_height": null,
            "padding": null,
            "grid_auto_rows": null,
            "grid_gap": null,
            "max_width": null,
            "order": null,
            "_view_module_version": "1.2.0",
            "grid_template_areas": null,
            "object_position": null,
            "object_fit": null,
            "grid_auto_columns": null,
            "margin": null,
            "display": null,
            "left": null
          }
        },
        "a467fca954db4cba90e00bc6d0f55a25": {
          "model_module": "@jupyter-widgets/controls",
          "model_name": "ProgressStyleModel",
          "model_module_version": "1.5.0",
          "state": {
            "_view_name": "StyleView",
            "_model_name": "ProgressStyleModel",
            "description_width": "",
            "_view_module": "@jupyter-widgets/base",
            "_model_module_version": "1.5.0",
            "_view_count": null,
            "_view_module_version": "1.2.0",
            "bar_color": null,
            "_model_module": "@jupyter-widgets/controls"
          }
        },
        "72231a0f16894412abd693143f173339": {
          "model_module": "@jupyter-widgets/base",
          "model_name": "LayoutModel",
          "model_module_version": "1.2.0",
          "state": {
            "_view_name": "LayoutView",
            "grid_template_rows": null,
            "right": null,
            "justify_content": null,
            "_view_module": "@jupyter-widgets/base",
            "overflow": null,
            "_model_module_version": "1.2.0",
            "_view_count": null,
            "flex_flow": null,
            "width": null,
            "min_width": null,
            "border": null,
            "align_items": null,
            "bottom": null,
            "_model_module": "@jupyter-widgets/base",
            "top": null,
            "grid_column": null,
            "overflow_y": null,
            "overflow_x": null,
            "grid_auto_flow": null,
            "grid_area": null,
            "grid_template_columns": null,
            "flex": null,
            "_model_name": "LayoutModel",
            "justify_items": null,
            "grid_row": null,
            "max_height": null,
            "align_content": null,
            "visibility": null,
            "align_self": null,
            "height": null,
            "min_height": null,
            "padding": null,
            "grid_auto_rows": null,
            "grid_gap": null,
            "max_width": null,
            "order": null,
            "_view_module_version": "1.2.0",
            "grid_template_areas": null,
            "object_position": null,
            "object_fit": null,
            "grid_auto_columns": null,
            "margin": null,
            "display": null,
            "left": null
          }
        },
        "cdf6c743e6004b789bc650384eddb0b4": {
          "model_module": "@jupyter-widgets/controls",
          "model_name": "DescriptionStyleModel",
          "model_module_version": "1.5.0",
          "state": {
            "_view_name": "StyleView",
            "_model_name": "DescriptionStyleModel",
            "description_width": "",
            "_view_module": "@jupyter-widgets/base",
            "_model_module_version": "1.5.0",
            "_view_count": null,
            "_view_module_version": "1.2.0",
            "_model_module": "@jupyter-widgets/controls"
          }
        },
        "0c67b7d024fa4cd29a3d463de1bd32bd": {
          "model_module": "@jupyter-widgets/base",
          "model_name": "LayoutModel",
          "model_module_version": "1.2.0",
          "state": {
            "_view_name": "LayoutView",
            "grid_template_rows": null,
            "right": null,
            "justify_content": null,
            "_view_module": "@jupyter-widgets/base",
            "overflow": null,
            "_model_module_version": "1.2.0",
            "_view_count": null,
            "flex_flow": null,
            "width": null,
            "min_width": null,
            "border": null,
            "align_items": null,
            "bottom": null,
            "_model_module": "@jupyter-widgets/base",
            "top": null,
            "grid_column": null,
            "overflow_y": null,
            "overflow_x": null,
            "grid_auto_flow": null,
            "grid_area": null,
            "grid_template_columns": null,
            "flex": null,
            "_model_name": "LayoutModel",
            "justify_items": null,
            "grid_row": null,
            "max_height": null,
            "align_content": null,
            "visibility": null,
            "align_self": null,
            "height": null,
            "min_height": null,
            "padding": null,
            "grid_auto_rows": null,
            "grid_gap": null,
            "max_width": null,
            "order": null,
            "_view_module_version": "1.2.0",
            "grid_template_areas": null,
            "object_position": null,
            "object_fit": null,
            "grid_auto_columns": null,
            "margin": null,
            "display": null,
            "left": null
          }
        }
      }
    }
  },
  "nbformat": 4,
  "nbformat_minor": 0
}