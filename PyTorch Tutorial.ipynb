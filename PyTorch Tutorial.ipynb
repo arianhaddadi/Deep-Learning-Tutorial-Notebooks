{
  "nbformat": 4,
  "nbformat_minor": 0,
  "metadata": {
    "kernelspec": {
      "display_name": "Python 3",
      "language": "python",
      "name": "python3"
    },
    "language_info": {
      "codemirror_mode": {
        "name": "ipython",
        "version": 3
      },
      "file_extension": ".py",
      "mimetype": "text/x-python",
      "name": "python",
      "nbconvert_exporter": "python",
      "pygments_lexer": "ipython3",
      "version": "3.7.1"
    },
    "colab": {
      "name": "PyTorch_Tutorial.ipynb",
      "provenance": [],
      "collapsed_sections": []
    },
    "accelerator": "GPU"
  },
  "cells": [
    {
      "cell_type": "markdown",
      "metadata": {
        "id": "1OQn05A2N7tO",
        "colab_type": "text"
      },
      "source": [
        "\n",
        "<div align=\"center\">\n",
        "<font size='6' color='red'><b>Deep Learning (STAT 946)</b></font>\n",
        "<br />\n",
        "<font size='6' color='red'><b>Pytorch tutorial</b></font>\n",
        "<br />\n",
        "\n",
        "<font size='3' color='red'><b>September, 2020</b></font>\n",
        "\n",
        "</div>\n"
      ]
    },
    {
      "cell_type": "markdown",
      "metadata": {
        "id": "_t4Q1yOoirmL",
        "colab_type": "text"
      },
      "source": [
        "# Step 1)  Import libraries and set up necessary parameters\n",
        "\n",
        "In the following cell we will import the necessary libraries: <br />\n",
        "The main frameworks are: <br />\n",
        "<b>1) NumPy:</b> Fundamental package for scientific computing in Python. It provides multidimensional tensor objects and fast linear algebra operators on CPU.<br /> \n",
        "<b>2) PyTorch:</b> PyTorch is an open source deep learning platform. It is a library for tensor operations like NumPy. But it also includes several additional features like supporting GPU and other hardware acceleration as well as other efficient tools for AI researchers.<br />\n",
        "<b>3) matplotlib:</b> Matplotlib is a reach library for visualization in Python.\n"
      ]
    },
    {
      "cell_type": "code",
      "metadata": {
        "id": "eNONySNBN7tW",
        "colab_type": "code",
        "colab": {}
      },
      "source": [
        "import numpy as np\n",
        "import torch\n",
        "import torch.nn as nn\n",
        "import torch.nn.functional as F\n",
        "import torch.optim as optim\n",
        "import torchvision\n",
        "from torchvision import datasets, transforms\n",
        "import matplotlib.pyplot as plt\n",
        "from tqdm import tqdm"
      ],
      "execution_count": 8,
      "outputs": []
    },
    {
      "cell_type": "markdown",
      "metadata": {
        "id": "cQ2pGOKaN7tb",
        "colab_type": "text"
      },
      "source": [
        "## Seting device, random seed, and runtime parameters"
      ]
    },
    {
      "cell_type": "code",
      "metadata": {
        "id": "59xIOAU2N7tb",
        "colab_type": "code",
        "colab": {
          "base_uri": "https://localhost:8080/",
          "height": 51
        },
        "outputId": "06f14db6-8cdd-4421-c498-c6de329f6e62"
      },
      "source": [
        "device = torch.device('cuda' if torch.cuda.is_available() else 'cpu')\n",
        "print(\"Cuda available: \",torch.cuda.is_available())\n",
        "print(\"Current device: \",  torch.cuda.current_device())\n",
        "\n",
        "seed = 2020\n",
        "torch.manual_seed(seed)\n",
        "if device.type == 'cuda':\n",
        "    torch.cuda.manual_seed_all(seed)"
      ],
      "execution_count": 9,
      "outputs": [
        {
          "output_type": "stream",
          "text": [
            "Cuda available:  True\n",
            "Current device:  0\n"
          ],
          "name": "stdout"
        }
      ]
    },
    {
      "cell_type": "markdown",
      "metadata": {
        "id": "_uXwXRJuN7ti",
        "colab_type": "text"
      },
      "source": [
        "## Parameters"
      ]
    },
    {
      "cell_type": "code",
      "metadata": {
        "id": "PM0gyqFaN7tj",
        "colab_type": "code",
        "colab": {}
      },
      "source": [
        "input_size = 28*28\n",
        "output_size = 10\n",
        "dropout= 0.1\n",
        "epochs = 100"
      ],
      "execution_count": 10,
      "outputs": []
    },
    {
      "cell_type": "markdown",
      "metadata": {
        "id": "mNmb-I38N7tn",
        "colab_type": "text"
      },
      "source": [
        "# Step 2) Data prepration\n",
        "\n",
        "### Loading and preparing data"
      ]
    },
    {
      "cell_type": "code",
      "metadata": {
        "id": "SJ1ADDZVN7tp",
        "colab_type": "code",
        "colab": {}
      },
      "source": [
        "transform = transforms.Compose([transforms.ToTensor(),\n",
        "                              transforms.Normalize((0.5,), (0.5,)),\n",
        "                              ])\n",
        "\n",
        "trainset = datasets.MNIST(\"./data\",download=True, train=True, transform=transform)\n",
        "testset = datasets.MNIST(\"./data\",download=True, train=False, transform=transform)"
      ],
      "execution_count": 11,
      "outputs": []
    },
    {
      "cell_type": "markdown",
      "metadata": {
        "id": "g8tCmWEnoLuD",
        "colab_type": "text"
      },
      "source": [
        "### Initializing data loader objects"
      ]
    },
    {
      "cell_type": "code",
      "metadata": {
        "id": "OX3zfCbvN7tt",
        "colab_type": "code",
        "colab": {}
      },
      "source": [
        "trainloader = torch.utils.data.DataLoader(trainset, batch_size=64, shuffle=True)\n",
        "testloader = torch.utils.data.DataLoader(testset, batch_size=64, shuffle=True)"
      ],
      "execution_count": 12,
      "outputs": []
    },
    {
      "cell_type": "markdown",
      "metadata": {
        "id": "8d4dBYEFTDs7",
        "colab_type": "text"
      },
      "source": [
        "### Plot some samples from dataset"
      ]
    },
    {
      "cell_type": "code",
      "metadata": {
        "id": "W2O9pSWaTQ41",
        "colab_type": "code",
        "colab": {
          "base_uri": "https://localhost:8080/",
          "height": 284
        },
        "outputId": "22d1d579-e1fe-4a10-ca5c-1521c86daf8c"
      },
      "source": [
        "examples = enumerate(testloader)\n",
        "batch_idx, (images, labels) = next(examples)\n",
        "fig = plt.figure()\n",
        "for i in range(6):\n",
        "  plt.subplot(2,3,i+1)\n",
        "  plt.tight_layout()\n",
        "  plt.imshow(images[i][0], cmap='gray', interpolation='none')\n",
        "  plt.title(f'label: {labels[i].item()}')\n",
        "  plt.xticks([])\n",
        "  plt.yticks([])"
      ],
      "execution_count": 13,
      "outputs": [
        {
          "output_type": "display_data",
          "data": {
            "image/png": "[encoded data removed]",
            "text/plain": [
              "<Figure size 432x288 with 6 Axes>"
            ]
          },
          "metadata": {
            "tags": []
          }
        }
      ]
    },
    {
      "cell_type": "markdown",
      "metadata": {
        "id": "L55nxsfeN7tz",
        "colab_type": "text"
      },
      "source": [
        "# Step 3) Model definition"
      ]
    },
    {
      "cell_type": "code",
      "metadata": {
        "id": "jZ3UUvulN7t0",
        "colab_type": "code",
        "colab": {}
      },
      "source": [
        "class Network(torch.nn.Module):\n",
        "    def __init__(self):\n",
        "        super(Network, self).__init__()\n",
        "        self.fc1 = nn.Linear(input_size, 1000)\n",
        "        self.fc2 = nn.Linear(1000, 1000)\n",
        "        self.fc3 = nn.Linear(1000, output_size)\n",
        "        self.softmax = torch.nn.Softmax(dim=1)\n",
        "\n",
        "    def forward(self, x):\n",
        "        x = x.view(-1, input_size)\n",
        "        x = F.dropout(F.relu(self.fc1(x)), p=dropout)\n",
        "        x = F.dropout(F.relu(self.fc2(x)), p=dropout)\n",
        "        x = F.relu(self.fc3(x))\n",
        "        x = self.softmax(x)\n",
        "        return x"
      ],
      "execution_count": 14,
      "outputs": []
    },
    {
      "cell_type": "markdown",
      "metadata": {
        "id": "_C5kqEk2N7t8",
        "colab_type": "text"
      },
      "source": [
        "# Step 4) Train and evaluation functions"
      ]
    },
    {
      "cell_type": "code",
      "metadata": {
        "id": "2Af3mmlfN7t8",
        "colab_type": "code",
        "colab": {}
      },
      "source": [
        "def train(model, dataloader):\n",
        "    optimizer = optim.Adam(model.parameters(), lr=3e-5)\n",
        "    model.train()\n",
        "    running_loss = 0\n",
        "    total_steps = 0\n",
        "    for i, (images, labels) in tqdm(enumerate(dataloader)):\n",
        "        images = images.to(device)\n",
        "        labels = labels.to(device)\n",
        "    \n",
        "        optimizer.zero_grad()\n",
        "        \n",
        "        output = model(images)\n",
        "        loss = F.cross_entropy(output, labels)\n",
        "        \n",
        "        #This is where the model learns by backpropagating\n",
        "        loss.backward()\n",
        "        \n",
        "        #And optimizes its weights here\n",
        "        optimizer.step()\n",
        "        \n",
        "        running_loss += loss.item()\n",
        "        total_steps += 1\n",
        "    \n",
        "    return running_loss/total_steps\n",
        "    "
      ],
      "execution_count": 15,
      "outputs": []
    },
    {
      "cell_type": "code",
      "metadata": {
        "id": "sIbERmoZV99Q",
        "colab_type": "code",
        "colab": {}
      },
      "source": [
        "def evaluate(model, dataloader):\n",
        "    model.eval()\n",
        "    correct = 0\n",
        "    test_loss = 0\n",
        "    with torch.no_grad():\n",
        "        for i, (images, labels) in tqdm(enumerate(dataloader)):\n",
        "            images = images.to(device)\n",
        "            labels = labels.to(device)\n",
        "            output = model(images)\n",
        "            test_loss += F.cross_entropy(output, labels, reduction='sum').item()\n",
        "            prd = output.argmax(1)\n",
        "            correct += torch.sum(labels == prd)\n",
        "\n",
        "    test_loss /= len(dataloader.dataset)\n",
        "    # test_losses.append(test_loss)\n",
        "    print('\\nTest set: Avg. loss: {:.4f}, Accuracy: {}/{} ({:.0f}%)\\n'.format(\n",
        "     test_loss, correct, len(dataloader.dataset),\n",
        "     100. * correct / len(dataloader.dataset)))"
      ],
      "execution_count": 16,
      "outputs": []
    },
    {
      "cell_type": "markdown",
      "metadata": {
        "id": "YWMkdnx5ooRP",
        "colab_type": "text"
      },
      "source": [
        "# Step 5) Main loop of training"
      ]
    },
    {
      "cell_type": "code",
      "metadata": {
        "id": "0s9IojZ1N7uB",
        "colab_type": "code",
        "colab": {
          "base_uri": "https://localhost:8080/",
          "height": 1000
        },
        "outputId": "b21e981a-07ec-4e78-92bd-c38c2fb4e72e"
      },
      "source": [
        "model = Network()\n",
        "model.to(device)\n",
        "losses = []\n",
        "for e in range(epochs):\n",
        "    print(f\"\\nepoch {e+1}/{epochs}\")\n",
        "    loss = train(model, trainloader)\n",
        "    print(f\" loss = {loss}\")\n",
        "    losses.append(loss)\n",
        "\n"
      ],
      "execution_count": 17,
      "outputs": [
        {
          "output_type": "stream",
          "text": [
            "1it [00:00,  8.62it/s]"
          ],
          "name": "stderr"
        },
        {
          "output_type": "stream",
          "text": [
            "\n",
            "epoch 1/100\n"
          ],
          "name": "stdout"
        },
        {
          "output_type": "stream",
          "text": [
            "938it [00:08, 107.17it/s]\n",
            "11it [00:00, 109.38it/s]"
          ],
          "name": "stderr"
        },
        {
          "output_type": "stream",
          "text": [
            " loss = 1.8480512874721209\n",
            "\n",
            "epoch 2/100\n"
          ],
          "name": "stdout"
        },
        {
          "output_type": "stream",
          "text": [
            "938it [00:08, 108.26it/s]\n",
            "11it [00:00, 105.62it/s]"
          ],
          "name": "stderr"
        },
        {
          "output_type": "stream",
          "text": [
            " loss = 1.7390916437736705\n",
            "\n",
            "epoch 3/100\n"
          ],
          "name": "stdout"
        },
        {
          "output_type": "stream",
          "text": [
            "938it [00:08, 108.42it/s]\n",
            "12it [00:00, 111.74it/s]"
          ],
          "name": "stderr"
        },
        {
          "output_type": "stream",
          "text": [
            " loss = 1.7261651228231663\n",
            "\n",
            "epoch 4/100\n"
          ],
          "name": "stdout"
        },
        {
          "output_type": "stream",
          "text": [
            "938it [00:08, 108.31it/s]\n",
            "12it [00:00, 111.68it/s]"
          ],
          "name": "stderr"
        },
        {
          "output_type": "stream",
          "text": [
            " loss = 1.718753860322143\n",
            "\n",
            "epoch 5/100\n"
          ],
          "name": "stdout"
        },
        {
          "output_type": "stream",
          "text": [
            "938it [00:08, 108.77it/s]\n",
            "12it [00:00, 112.16it/s]"
          ],
          "name": "stderr"
        },
        {
          "output_type": "stream",
          "text": [
            " loss = 1.7132432469681127\n",
            "\n",
            "epoch 6/100\n"
          ],
          "name": "stdout"
        },
        {
          "output_type": "stream",
          "text": [
            "938it [00:08, 107.41it/s]\n",
            "11it [00:00, 105.50it/s]"
          ],
          "name": "stderr"
        },
        {
          "output_type": "stream",
          "text": [
            " loss = 1.7080140845862024\n",
            "\n",
            "epoch 7/100\n"
          ],
          "name": "stdout"
        },
        {
          "output_type": "stream",
          "text": [
            "938it [00:08, 107.93it/s]\n",
            "11it [00:00, 108.37it/s]"
          ],
          "name": "stderr"
        },
        {
          "output_type": "stream",
          "text": [
            " loss = 1.7037667095788251\n",
            "\n",
            "epoch 8/100\n"
          ],
          "name": "stdout"
        },
        {
          "output_type": "stream",
          "text": [
            "938it [00:08, 107.25it/s]\n",
            "10it [00:00, 98.89it/s]"
          ],
          "name": "stderr"
        },
        {
          "output_type": "stream",
          "text": [
            " loss = 1.673092841339518\n",
            "\n",
            "epoch 9/100\n"
          ],
          "name": "stdout"
        },
        {
          "output_type": "stream",
          "text": [
            "938it [00:08, 107.74it/s]\n",
            "11it [00:00, 103.42it/s]"
          ],
          "name": "stderr"
        },
        {
          "output_type": "stream",
          "text": [
            " loss = 1.6101661834127106\n",
            "\n",
            "epoch 10/100\n"
          ],
          "name": "stdout"
        },
        {
          "output_type": "stream",
          "text": [
            "938it [00:08, 108.23it/s]\n",
            "11it [00:00, 102.47it/s]"
          ],
          "name": "stderr"
        },
        {
          "output_type": "stream",
          "text": [
            " loss = 1.6034642428731614\n",
            "\n",
            "epoch 11/100\n"
          ],
          "name": "stdout"
        },
        {
          "output_type": "stream",
          "text": [
            "938it [00:08, 108.97it/s]\n",
            "11it [00:00, 108.90it/s]"
          ],
          "name": "stderr"
        },
        {
          "output_type": "stream",
          "text": [
            " loss = 1.5996361928962186\n",
            "\n",
            "epoch 12/100\n"
          ],
          "name": "stdout"
        },
        {
          "output_type": "stream",
          "text": [
            "938it [00:08, 107.67it/s]\n",
            "12it [00:00, 111.36it/s]"
          ],
          "name": "stderr"
        },
        {
          "output_type": "stream",
          "text": [
            " loss = 1.5959668324700296\n",
            "\n",
            "epoch 13/100\n"
          ],
          "name": "stdout"
        },
        {
          "output_type": "stream",
          "text": [
            "938it [00:08, 107.16it/s]\n",
            "11it [00:00, 109.67it/s]"
          ],
          "name": "stderr"
        },
        {
          "output_type": "stream",
          "text": [
            " loss = 1.5930471521959122\n",
            "\n",
            "epoch 14/100\n"
          ],
          "name": "stdout"
        },
        {
          "output_type": "stream",
          "text": [
            "938it [00:08, 108.93it/s]\n",
            "11it [00:00, 105.96it/s]"
          ],
          "name": "stderr"
        },
        {
          "output_type": "stream",
          "text": [
            " loss = 1.590104613985334\n",
            "\n",
            "epoch 15/100\n"
          ],
          "name": "stdout"
        },
        {
          "output_type": "stream",
          "text": [
            "938it [00:08, 108.66it/s]\n",
            "12it [00:00, 112.26it/s]"
          ],
          "name": "stderr"
        },
        {
          "output_type": "stream",
          "text": [
            " loss = 1.5540943304612946\n",
            "\n",
            "epoch 16/100\n"
          ],
          "name": "stdout"
        },
        {
          "output_type": "stream",
          "text": [
            "938it [00:08, 109.20it/s]\n",
            "12it [00:00, 111.09it/s]"
          ],
          "name": "stderr"
        },
        {
          "output_type": "stream",
          "text": [
            " loss = 1.5045316687016599\n",
            "\n",
            "epoch 17/100\n"
          ],
          "name": "stdout"
        },
        {
          "output_type": "stream",
          "text": [
            "938it [00:08, 107.66it/s]\n",
            "11it [00:00, 104.79it/s]"
          ],
          "name": "stderr"
        },
        {
          "output_type": "stream",
          "text": [
            " loss = 1.4995497161391447\n",
            "\n",
            "epoch 18/100\n"
          ],
          "name": "stdout"
        },
        {
          "output_type": "stream",
          "text": [
            "938it [00:08, 108.53it/s]\n",
            "12it [00:00, 111.85it/s]"
          ],
          "name": "stderr"
        },
        {
          "output_type": "stream",
          "text": [
            " loss = 1.4958977530251687\n",
            "\n",
            "epoch 19/100\n"
          ],
          "name": "stdout"
        },
        {
          "output_type": "stream",
          "text": [
            "938it [00:08, 108.71it/s]\n",
            "12it [00:00, 113.35it/s]"
          ],
          "name": "stderr"
        },
        {
          "output_type": "stream",
          "text": [
            " loss = 1.493197611018793\n",
            "\n",
            "epoch 20/100\n"
          ],
          "name": "stdout"
        },
        {
          "output_type": "stream",
          "text": [
            "938it [00:08, 108.37it/s]\n",
            "11it [00:00, 109.66it/s]"
          ],
          "name": "stderr"
        },
        {
          "output_type": "stream",
          "text": [
            " loss = 1.4911559713420584\n",
            "\n",
            "epoch 21/100\n"
          ],
          "name": "stdout"
        },
        {
          "output_type": "stream",
          "text": [
            "938it [00:08, 108.69it/s]\n",
            "10it [00:00, 92.90it/s]"
          ],
          "name": "stderr"
        },
        {
          "output_type": "stream",
          "text": [
            " loss = 1.4891441863482948\n",
            "\n",
            "epoch 22/100\n"
          ],
          "name": "stdout"
        },
        {
          "output_type": "stream",
          "text": [
            "938it [00:08, 108.20it/s]\n",
            "12it [00:00, 112.99it/s]"
          ],
          "name": "stderr"
        },
        {
          "output_type": "stream",
          "text": [
            " loss = 1.4874361126915987\n",
            "\n",
            "epoch 23/100\n"
          ],
          "name": "stdout"
        },
        {
          "output_type": "stream",
          "text": [
            "938it [00:08, 108.92it/s]\n",
            "11it [00:00, 105.63it/s]"
          ],
          "name": "stderr"
        },
        {
          "output_type": "stream",
          "text": [
            " loss = 1.4862672833999846\n",
            "\n",
            "epoch 24/100\n"
          ],
          "name": "stdout"
        },
        {
          "output_type": "stream",
          "text": [
            "938it [00:08, 108.45it/s]\n",
            "12it [00:00, 112.53it/s]"
          ],
          "name": "stderr"
        },
        {
          "output_type": "stream",
          "text": [
            " loss = 1.4848912012602475\n",
            "\n",
            "epoch 25/100\n"
          ],
          "name": "stdout"
        },
        {
          "output_type": "stream",
          "text": [
            "938it [00:08, 108.80it/s]\n",
            "10it [00:00, 96.30it/s]"
          ],
          "name": "stderr"
        },
        {
          "output_type": "stream",
          "text": [
            " loss = 1.4837897852031408\n",
            "\n",
            "epoch 26/100\n"
          ],
          "name": "stdout"
        },
        {
          "output_type": "stream",
          "text": [
            "938it [00:08, 107.81it/s]\n",
            "11it [00:00, 108.53it/s]"
          ],
          "name": "stderr"
        },
        {
          "output_type": "stream",
          "text": [
            " loss = 1.4826869842594366\n",
            "\n",
            "epoch 27/100\n"
          ],
          "name": "stdout"
        },
        {
          "output_type": "stream",
          "text": [
            "938it [00:08, 107.88it/s]\n",
            "11it [00:00, 103.29it/s]"
          ],
          "name": "stderr"
        },
        {
          "output_type": "stream",
          "text": [
            " loss = 1.4816463729465947\n",
            "\n",
            "epoch 28/100\n"
          ],
          "name": "stdout"
        },
        {
          "output_type": "stream",
          "text": [
            "938it [00:08, 108.69it/s]\n",
            "12it [00:00, 111.81it/s]"
          ],
          "name": "stderr"
        },
        {
          "output_type": "stream",
          "text": [
            " loss = 1.480672545143282\n",
            "\n",
            "epoch 29/100\n"
          ],
          "name": "stdout"
        },
        {
          "output_type": "stream",
          "text": [
            "938it [00:08, 107.04it/s]\n",
            "11it [00:00, 106.21it/s]"
          ],
          "name": "stderr"
        },
        {
          "output_type": "stream",
          "text": [
            " loss = 1.4799709705147408\n",
            "\n",
            "epoch 30/100\n"
          ],
          "name": "stdout"
        },
        {
          "output_type": "stream",
          "text": [
            "938it [00:08, 106.77it/s]\n",
            "11it [00:00, 102.64it/s]"
          ],
          "name": "stderr"
        },
        {
          "output_type": "stream",
          "text": [
            " loss = 1.4787996176209277\n",
            "\n",
            "epoch 31/100\n"
          ],
          "name": "stdout"
        },
        {
          "output_type": "stream",
          "text": [
            "938it [00:08, 108.06it/s]\n",
            "10it [00:00, 94.63it/s]"
          ],
          "name": "stderr"
        },
        {
          "output_type": "stream",
          "text": [
            " loss = 1.4784046861408615\n",
            "\n",
            "epoch 32/100\n"
          ],
          "name": "stdout"
        },
        {
          "output_type": "stream",
          "text": [
            "938it [00:08, 107.22it/s]\n",
            "11it [00:00, 109.60it/s]"
          ],
          "name": "stderr"
        },
        {
          "output_type": "stream",
          "text": [
            " loss = 1.4776178205699555\n",
            "\n",
            "epoch 33/100\n"
          ],
          "name": "stdout"
        },
        {
          "output_type": "stream",
          "text": [
            "938it [00:08, 109.79it/s]\n",
            "12it [00:00, 111.11it/s]"
          ],
          "name": "stderr"
        },
        {
          "output_type": "stream",
          "text": [
            " loss = 1.4771812648407177\n",
            "\n",
            "epoch 34/100\n"
          ],
          "name": "stdout"
        },
        {
          "output_type": "stream",
          "text": [
            "938it [00:08, 108.95it/s]\n",
            "12it [00:00, 112.29it/s]"
          ],
          "name": "stderr"
        },
        {
          "output_type": "stream",
          "text": [
            " loss = 1.4765593507396642\n",
            "\n",
            "epoch 35/100\n"
          ],
          "name": "stdout"
        },
        {
          "output_type": "stream",
          "text": [
            "938it [00:08, 108.98it/s]\n",
            "11it [00:00, 101.01it/s]"
          ],
          "name": "stderr"
        },
        {
          "output_type": "stream",
          "text": [
            " loss = 1.475635106756743\n",
            "\n",
            "epoch 36/100\n"
          ],
          "name": "stdout"
        },
        {
          "output_type": "stream",
          "text": [
            "938it [00:08, 107.24it/s]\n",
            "9it [00:00, 87.20it/s]"
          ],
          "name": "stderr"
        },
        {
          "output_type": "stream",
          "text": [
            " loss = 1.475365908288244\n",
            "\n",
            "epoch 37/100\n"
          ],
          "name": "stdout"
        },
        {
          "output_type": "stream",
          "text": [
            "938it [00:08, 109.23it/s]\n",
            "11it [00:00, 106.04it/s]"
          ],
          "name": "stderr"
        },
        {
          "output_type": "stream",
          "text": [
            " loss = 1.4746998675596485\n",
            "\n",
            "epoch 38/100\n"
          ],
          "name": "stdout"
        },
        {
          "output_type": "stream",
          "text": [
            "938it [00:08, 108.45it/s]\n",
            "12it [00:00, 112.22it/s]"
          ],
          "name": "stderr"
        },
        {
          "output_type": "stream",
          "text": [
            " loss = 1.4745016316615187\n",
            "\n",
            "epoch 39/100\n"
          ],
          "name": "stdout"
        },
        {
          "output_type": "stream",
          "text": [
            "938it [00:08, 108.07it/s]\n",
            "12it [00:00, 110.79it/s]"
          ],
          "name": "stderr"
        },
        {
          "output_type": "stream",
          "text": [
            " loss = 1.473799540798293\n",
            "\n",
            "epoch 40/100\n"
          ],
          "name": "stdout"
        },
        {
          "output_type": "stream",
          "text": [
            "938it [00:08, 108.68it/s]\n",
            "12it [00:00, 112.12it/s]"
          ],
          "name": "stderr"
        },
        {
          "output_type": "stream",
          "text": [
            " loss = 1.473676071873606\n",
            "\n",
            "epoch 41/100\n"
          ],
          "name": "stdout"
        },
        {
          "output_type": "stream",
          "text": [
            "938it [00:08, 108.63it/s]\n",
            "12it [00:00, 111.82it/s]"
          ],
          "name": "stderr"
        },
        {
          "output_type": "stream",
          "text": [
            " loss = 1.4732784227267512\n",
            "\n",
            "epoch 42/100\n"
          ],
          "name": "stdout"
        },
        {
          "output_type": "stream",
          "text": [
            "938it [00:08, 107.93it/s]\n",
            "12it [00:00, 111.08it/s]"
          ],
          "name": "stderr"
        },
        {
          "output_type": "stream",
          "text": [
            " loss = 1.472906644918771\n",
            "\n",
            "epoch 43/100\n"
          ],
          "name": "stdout"
        },
        {
          "output_type": "stream",
          "text": [
            "938it [00:08, 108.35it/s]\n",
            "12it [00:00, 111.32it/s]"
          ],
          "name": "stderr"
        },
        {
          "output_type": "stream",
          "text": [
            " loss = 1.4723944552163326\n",
            "\n",
            "epoch 44/100\n"
          ],
          "name": "stdout"
        },
        {
          "output_type": "stream",
          "text": [
            "938it [00:08, 108.35it/s]\n",
            "11it [00:00, 108.34it/s]"
          ],
          "name": "stderr"
        },
        {
          "output_type": "stream",
          "text": [
            " loss = 1.4721093268028453\n",
            "\n",
            "epoch 45/100\n"
          ],
          "name": "stdout"
        },
        {
          "output_type": "stream",
          "text": [
            "938it [00:08, 107.24it/s]\n",
            "11it [00:00, 105.12it/s]"
          ],
          "name": "stderr"
        },
        {
          "output_type": "stream",
          "text": [
            " loss = 1.4720377184943096\n",
            "\n",
            "epoch 46/100\n"
          ],
          "name": "stdout"
        },
        {
          "output_type": "stream",
          "text": [
            "938it [00:08, 108.15it/s]\n",
            "12it [00:00, 111.35it/s]"
          ],
          "name": "stderr"
        },
        {
          "output_type": "stream",
          "text": [
            " loss = 1.4715065654915278\n",
            "\n",
            "epoch 47/100\n"
          ],
          "name": "stdout"
        },
        {
          "output_type": "stream",
          "text": [
            "938it [00:08, 108.50it/s]\n",
            "12it [00:00, 112.73it/s]"
          ],
          "name": "stderr"
        },
        {
          "output_type": "stream",
          "text": [
            " loss = 1.471305749182508\n",
            "\n",
            "epoch 48/100\n"
          ],
          "name": "stdout"
        },
        {
          "output_type": "stream",
          "text": [
            "938it [00:08, 107.13it/s]\n",
            "11it [00:00, 109.02it/s]"
          ],
          "name": "stderr"
        },
        {
          "output_type": "stream",
          "text": [
            " loss = 1.471183904833885\n",
            "\n",
            "epoch 49/100\n"
          ],
          "name": "stdout"
        },
        {
          "output_type": "stream",
          "text": [
            "938it [00:08, 109.28it/s]\n",
            "12it [00:00, 111.98it/s]"
          ],
          "name": "stderr"
        },
        {
          "output_type": "stream",
          "text": [
            " loss = 1.4709505135062406\n",
            "\n",
            "epoch 50/100\n"
          ],
          "name": "stdout"
        },
        {
          "output_type": "stream",
          "text": [
            "938it [00:08, 106.74it/s]\n",
            "12it [00:00, 112.19it/s]"
          ],
          "name": "stderr"
        },
        {
          "output_type": "stream",
          "text": [
            " loss = 1.4703038478456836\n",
            "\n",
            "epoch 51/100\n"
          ],
          "name": "stdout"
        },
        {
          "output_type": "stream",
          "text": [
            "938it [00:08, 108.30it/s]\n",
            "11it [00:00, 109.73it/s]"
          ],
          "name": "stderr"
        },
        {
          "output_type": "stream",
          "text": [
            " loss = 1.4701382637278104\n",
            "\n",
            "epoch 52/100\n"
          ],
          "name": "stdout"
        },
        {
          "output_type": "stream",
          "text": [
            "938it [00:08, 108.11it/s]\n",
            "12it [00:00, 113.28it/s]"
          ],
          "name": "stderr"
        },
        {
          "output_type": "stream",
          "text": [
            " loss = 1.4699495307672252\n",
            "\n",
            "epoch 53/100\n"
          ],
          "name": "stdout"
        },
        {
          "output_type": "stream",
          "text": [
            "938it [00:08, 106.57it/s]\n",
            "12it [00:00, 105.86it/s]"
          ],
          "name": "stderr"
        },
        {
          "output_type": "stream",
          "text": [
            " loss = 1.469902426195043\n",
            "\n",
            "epoch 54/100\n"
          ],
          "name": "stdout"
        },
        {
          "output_type": "stream",
          "text": [
            "938it [00:08, 106.73it/s]\n",
            "11it [00:00, 109.43it/s]"
          ],
          "name": "stderr"
        },
        {
          "output_type": "stream",
          "text": [
            " loss = 1.469409709800281\n",
            "\n",
            "epoch 55/100\n"
          ],
          "name": "stdout"
        },
        {
          "output_type": "stream",
          "text": [
            "938it [00:08, 109.45it/s]\n",
            "12it [00:00, 111.30it/s]"
          ],
          "name": "stderr"
        },
        {
          "output_type": "stream",
          "text": [
            " loss = 1.4694446050790326\n",
            "\n",
            "epoch 56/100\n"
          ],
          "name": "stdout"
        },
        {
          "output_type": "stream",
          "text": [
            "938it [00:08, 108.76it/s]\n",
            "12it [00:00, 112.25it/s]"
          ],
          "name": "stderr"
        },
        {
          "output_type": "stream",
          "text": [
            " loss = 1.469042614960213\n",
            "\n",
            "epoch 57/100\n"
          ],
          "name": "stdout"
        },
        {
          "output_type": "stream",
          "text": [
            "938it [00:08, 108.08it/s]\n",
            "12it [00:00, 111.87it/s]"
          ],
          "name": "stderr"
        },
        {
          "output_type": "stream",
          "text": [
            " loss = 1.4692358910910357\n",
            "\n",
            "epoch 58/100\n"
          ],
          "name": "stdout"
        },
        {
          "output_type": "stream",
          "text": [
            "938it [00:08, 108.80it/s]\n",
            "11it [00:00, 102.90it/s]"
          ],
          "name": "stderr"
        },
        {
          "output_type": "stream",
          "text": [
            " loss = 1.4687165440018497\n",
            "\n",
            "epoch 59/100\n"
          ],
          "name": "stdout"
        },
        {
          "output_type": "stream",
          "text": [
            "938it [00:08, 108.51it/s]\n",
            "12it [00:00, 111.98it/s]"
          ],
          "name": "stderr"
        },
        {
          "output_type": "stream",
          "text": [
            " loss = 1.468764642789674\n",
            "\n",
            "epoch 60/100\n"
          ],
          "name": "stdout"
        },
        {
          "output_type": "stream",
          "text": [
            "938it [00:08, 109.02it/s]\n",
            "12it [00:00, 112.21it/s]"
          ],
          "name": "stderr"
        },
        {
          "output_type": "stream",
          "text": [
            " loss = 1.4685110384975668\n",
            "\n",
            "epoch 61/100\n"
          ],
          "name": "stdout"
        },
        {
          "output_type": "stream",
          "text": [
            "938it [00:08, 107.49it/s]\n",
            "11it [00:00, 103.24it/s]"
          ],
          "name": "stderr"
        },
        {
          "output_type": "stream",
          "text": [
            " loss = 1.4681500993303653\n",
            "\n",
            "epoch 62/100\n"
          ],
          "name": "stdout"
        },
        {
          "output_type": "stream",
          "text": [
            "938it [00:08, 107.88it/s]\n",
            "12it [00:00, 112.25it/s]"
          ],
          "name": "stderr"
        },
        {
          "output_type": "stream",
          "text": [
            " loss = 1.468139661400557\n",
            "\n",
            "epoch 63/100\n"
          ],
          "name": "stdout"
        },
        {
          "output_type": "stream",
          "text": [
            "938it [00:08, 108.06it/s]\n",
            "11it [00:00, 104.83it/s]"
          ],
          "name": "stderr"
        },
        {
          "output_type": "stream",
          "text": [
            " loss = 1.4679909129895128\n",
            "\n",
            "epoch 64/100\n"
          ],
          "name": "stdout"
        },
        {
          "output_type": "stream",
          "text": [
            "938it [00:08, 106.90it/s]\n",
            "11it [00:00, 107.90it/s]"
          ],
          "name": "stderr"
        },
        {
          "output_type": "stream",
          "text": [
            " loss = 1.467929732697859\n",
            "\n",
            "epoch 65/100\n"
          ],
          "name": "stdout"
        },
        {
          "output_type": "stream",
          "text": [
            "938it [00:08, 106.25it/s]\n",
            "10it [00:00, 99.43it/s]"
          ],
          "name": "stderr"
        },
        {
          "output_type": "stream",
          "text": [
            " loss = 1.4677991943318707\n",
            "\n",
            "epoch 66/100\n"
          ],
          "name": "stdout"
        },
        {
          "output_type": "stream",
          "text": [
            "938it [00:08, 106.24it/s]\n",
            "11it [00:00, 101.97it/s]"
          ],
          "name": "stderr"
        },
        {
          "output_type": "stream",
          "text": [
            " loss = 1.4678315484701698\n",
            "\n",
            "epoch 67/100\n"
          ],
          "name": "stdout"
        },
        {
          "output_type": "stream",
          "text": [
            "938it [00:08, 108.70it/s]\n",
            "12it [00:00, 111.16it/s]"
          ],
          "name": "stderr"
        },
        {
          "output_type": "stream",
          "text": [
            " loss = 1.4674978866251802\n",
            "\n",
            "epoch 68/100\n"
          ],
          "name": "stdout"
        },
        {
          "output_type": "stream",
          "text": [
            "938it [00:08, 108.35it/s]\n",
            "11it [00:00, 104.90it/s]"
          ],
          "name": "stderr"
        },
        {
          "output_type": "stream",
          "text": [
            " loss = 1.4674958392246953\n",
            "\n",
            "epoch 69/100\n"
          ],
          "name": "stdout"
        },
        {
          "output_type": "stream",
          "text": [
            "938it [00:08, 109.25it/s]\n",
            "11it [00:00, 102.45it/s]"
          ],
          "name": "stderr"
        },
        {
          "output_type": "stream",
          "text": [
            " loss = 1.4674835286414953\n",
            "\n",
            "epoch 70/100\n"
          ],
          "name": "stdout"
        },
        {
          "output_type": "stream",
          "text": [
            "938it [00:08, 108.55it/s]\n",
            "12it [00:00, 113.73it/s]"
          ],
          "name": "stderr"
        },
        {
          "output_type": "stream",
          "text": [
            " loss = 1.4673012047688336\n",
            "\n",
            "epoch 71/100\n"
          ],
          "name": "stdout"
        },
        {
          "output_type": "stream",
          "text": [
            "938it [00:08, 107.62it/s]\n",
            "10it [00:00, 92.84it/s]"
          ],
          "name": "stderr"
        },
        {
          "output_type": "stream",
          "text": [
            " loss = 1.467245269177565\n",
            "\n",
            "epoch 72/100\n"
          ],
          "name": "stdout"
        },
        {
          "output_type": "stream",
          "text": [
            "938it [00:08, 107.71it/s]\n",
            "11it [00:00, 108.30it/s]"
          ],
          "name": "stderr"
        },
        {
          "output_type": "stream",
          "text": [
            " loss = 1.4669916718753415\n",
            "\n",
            "epoch 73/100\n"
          ],
          "name": "stdout"
        },
        {
          "output_type": "stream",
          "text": [
            "938it [00:08, 106.31it/s]\n",
            "12it [00:00, 113.20it/s]"
          ],
          "name": "stderr"
        },
        {
          "output_type": "stream",
          "text": [
            " loss = 1.4671709978504222\n",
            "\n",
            "epoch 74/100\n"
          ],
          "name": "stdout"
        },
        {
          "output_type": "stream",
          "text": [
            "938it [00:08, 107.35it/s]\n",
            "11it [00:00, 104.99it/s]"
          ],
          "name": "stderr"
        },
        {
          "output_type": "stream",
          "text": [
            " loss = 1.4669102303254833\n",
            "\n",
            "epoch 75/100\n"
          ],
          "name": "stdout"
        },
        {
          "output_type": "stream",
          "text": [
            "938it [00:08, 105.65it/s]\n",
            "11it [00:00, 105.74it/s]"
          ],
          "name": "stderr"
        },
        {
          "output_type": "stream",
          "text": [
            " loss = 1.466827666454478\n",
            "\n",
            "epoch 76/100\n"
          ],
          "name": "stdout"
        },
        {
          "output_type": "stream",
          "text": [
            "938it [00:08, 109.19it/s]\n",
            "10it [00:00, 96.92it/s]"
          ],
          "name": "stderr"
        },
        {
          "output_type": "stream",
          "text": [
            " loss = 1.4671673273989387\n",
            "\n",
            "epoch 77/100\n"
          ],
          "name": "stdout"
        },
        {
          "output_type": "stream",
          "text": [
            "938it [00:08, 108.53it/s]\n",
            "12it [00:00, 111.85it/s]"
          ],
          "name": "stderr"
        },
        {
          "output_type": "stream",
          "text": [
            " loss = 1.4669639991798888\n",
            "\n",
            "epoch 78/100\n"
          ],
          "name": "stdout"
        },
        {
          "output_type": "stream",
          "text": [
            "938it [00:08, 109.63it/s]\n",
            "11it [00:00, 104.18it/s]"
          ],
          "name": "stderr"
        },
        {
          "output_type": "stream",
          "text": [
            " loss = 1.466769475672545\n",
            "\n",
            "epoch 79/100\n"
          ],
          "name": "stdout"
        },
        {
          "output_type": "stream",
          "text": [
            "938it [00:08, 109.00it/s]\n",
            "11it [00:00, 104.25it/s]"
          ],
          "name": "stderr"
        },
        {
          "output_type": "stream",
          "text": [
            " loss = 1.4667050318677288\n",
            "\n",
            "epoch 80/100\n"
          ],
          "name": "stdout"
        },
        {
          "output_type": "stream",
          "text": [
            "938it [00:08, 108.94it/s]\n",
            "12it [00:00, 111.94it/s]"
          ],
          "name": "stderr"
        },
        {
          "output_type": "stream",
          "text": [
            " loss = 1.4668044676658696\n",
            "\n",
            "epoch 81/100\n"
          ],
          "name": "stdout"
        },
        {
          "output_type": "stream",
          "text": [
            "938it [00:08, 108.26it/s]\n",
            "10it [00:00, 96.15it/s]"
          ],
          "name": "stderr"
        },
        {
          "output_type": "stream",
          "text": [
            " loss = 1.466603666607505\n",
            "\n",
            "epoch 82/100\n"
          ],
          "name": "stdout"
        },
        {
          "output_type": "stream",
          "text": [
            "938it [00:08, 107.11it/s]\n",
            "12it [00:00, 112.02it/s]"
          ],
          "name": "stderr"
        },
        {
          "output_type": "stream",
          "text": [
            " loss = 1.466526759712935\n",
            "\n",
            "epoch 83/100\n"
          ],
          "name": "stdout"
        },
        {
          "output_type": "stream",
          "text": [
            "938it [00:08, 106.92it/s]\n",
            "12it [00:00, 111.14it/s]"
          ],
          "name": "stderr"
        },
        {
          "output_type": "stream",
          "text": [
            " loss = 1.4664213659920926\n",
            "\n",
            "epoch 84/100\n"
          ],
          "name": "stdout"
        },
        {
          "output_type": "stream",
          "text": [
            "938it [00:08, 106.96it/s]\n",
            "11it [00:00, 109.17it/s]"
          ],
          "name": "stderr"
        },
        {
          "output_type": "stream",
          "text": [
            " loss = 1.4662070523447066\n",
            "\n",
            "epoch 85/100\n"
          ],
          "name": "stdout"
        },
        {
          "output_type": "stream",
          "text": [
            "938it [00:08, 108.37it/s]\n",
            "12it [00:00, 111.35it/s]"
          ],
          "name": "stderr"
        },
        {
          "output_type": "stream",
          "text": [
            " loss = 1.4662937907013558\n",
            "\n",
            "epoch 86/100\n"
          ],
          "name": "stdout"
        },
        {
          "output_type": "stream",
          "text": [
            "938it [00:08, 107.49it/s]\n",
            "11it [00:00, 103.58it/s]"
          ],
          "name": "stderr"
        },
        {
          "output_type": "stream",
          "text": [
            " loss = 1.4662126254425374\n",
            "\n",
            "epoch 87/100\n"
          ],
          "name": "stdout"
        },
        {
          "output_type": "stream",
          "text": [
            "938it [00:08, 106.98it/s]\n",
            "12it [00:00, 113.97it/s]"
          ],
          "name": "stderr"
        },
        {
          "output_type": "stream",
          "text": [
            " loss = 1.466214792433578\n",
            "\n",
            "epoch 88/100\n"
          ],
          "name": "stdout"
        },
        {
          "output_type": "stream",
          "text": [
            "938it [00:08, 109.29it/s]\n",
            "11it [00:00, 107.33it/s]"
          ],
          "name": "stderr"
        },
        {
          "output_type": "stream",
          "text": [
            " loss = 1.466101701961143\n",
            "\n",
            "epoch 89/100\n"
          ],
          "name": "stdout"
        },
        {
          "output_type": "stream",
          "text": [
            "938it [00:08, 108.12it/s]\n",
            "10it [00:00, 90.55it/s]"
          ],
          "name": "stderr"
        },
        {
          "output_type": "stream",
          "text": [
            " loss = 1.4662069970610807\n",
            "\n",
            "epoch 90/100\n"
          ],
          "name": "stdout"
        },
        {
          "output_type": "stream",
          "text": [
            "938it [00:11, 85.11it/s]\n",
            "9it [00:00, 88.75it/s]"
          ],
          "name": "stderr"
        },
        {
          "output_type": "stream",
          "text": [
            " loss = 1.4660591395424882\n",
            "\n",
            "epoch 91/100\n"
          ],
          "name": "stdout"
        },
        {
          "output_type": "stream",
          "text": [
            "938it [00:09, 99.62it/s] \n",
            "11it [00:00, 104.29it/s]"
          ],
          "name": "stderr"
        },
        {
          "output_type": "stream",
          "text": [
            " loss = 1.4659011604180976\n",
            "\n",
            "epoch 92/100\n"
          ],
          "name": "stdout"
        },
        {
          "output_type": "stream",
          "text": [
            "938it [00:08, 108.93it/s]\n",
            "12it [00:00, 112.77it/s]"
          ],
          "name": "stderr"
        },
        {
          "output_type": "stream",
          "text": [
            " loss = 1.4660505341060126\n",
            "\n",
            "epoch 93/100\n"
          ],
          "name": "stdout"
        },
        {
          "output_type": "stream",
          "text": [
            "938it [00:08, 107.25it/s]\n",
            "12it [00:00, 113.29it/s]"
          ],
          "name": "stderr"
        },
        {
          "output_type": "stream",
          "text": [
            " loss = 1.4659858268461248\n",
            "\n",
            "epoch 94/100\n"
          ],
          "name": "stdout"
        },
        {
          "output_type": "stream",
          "text": [
            "938it [00:08, 108.93it/s]\n",
            "11it [00:00, 109.93it/s]"
          ],
          "name": "stderr"
        },
        {
          "output_type": "stream",
          "text": [
            " loss = 1.465889479051521\n",
            "\n",
            "epoch 95/100\n"
          ],
          "name": "stdout"
        },
        {
          "output_type": "stream",
          "text": [
            "938it [00:08, 107.49it/s]\n",
            "11it [00:00, 109.47it/s]"
          ],
          "name": "stderr"
        },
        {
          "output_type": "stream",
          "text": [
            " loss = 1.4659752695799382\n",
            "\n",
            "epoch 96/100\n"
          ],
          "name": "stdout"
        },
        {
          "output_type": "stream",
          "text": [
            "938it [00:08, 108.82it/s]\n",
            "11it [00:00, 108.43it/s]"
          ],
          "name": "stderr"
        },
        {
          "output_type": "stream",
          "text": [
            " loss = 1.4659885333290994\n",
            "\n",
            "epoch 97/100\n"
          ],
          "name": "stdout"
        },
        {
          "output_type": "stream",
          "text": [
            "938it [00:08, 109.58it/s]\n",
            "10it [00:00, 97.92it/s]"
          ],
          "name": "stderr"
        },
        {
          "output_type": "stream",
          "text": [
            " loss = 1.4659121556322712\n",
            "\n",
            "epoch 98/100\n"
          ],
          "name": "stdout"
        },
        {
          "output_type": "stream",
          "text": [
            "938it [00:08, 108.51it/s]\n",
            "11it [00:00, 107.14it/s]"
          ],
          "name": "stderr"
        },
        {
          "output_type": "stream",
          "text": [
            " loss = 1.465779639891724\n",
            "\n",
            "epoch 99/100\n"
          ],
          "name": "stdout"
        },
        {
          "output_type": "stream",
          "text": [
            "938it [00:08, 108.99it/s]\n",
            "11it [00:00, 109.82it/s]"
          ],
          "name": "stderr"
        },
        {
          "output_type": "stream",
          "text": [
            " loss = 1.4659123221185923\n",
            "\n",
            "epoch 100/100\n"
          ],
          "name": "stdout"
        },
        {
          "output_type": "stream",
          "text": [
            "938it [00:08, 107.41it/s]"
          ],
          "name": "stderr"
        },
        {
          "output_type": "stream",
          "text": [
            " loss = 1.4657299774033683\n"
          ],
          "name": "stdout"
        },
        {
          "output_type": "stream",
          "text": [
            "\n"
          ],
          "name": "stderr"
        }
      ]
    },
    {
      "cell_type": "markdown",
      "metadata": {
        "id": "5ze4PzhJo2B5",
        "colab_type": "text"
      },
      "source": [
        "# Step 6) Evaluating the trained model performance"
      ]
    },
    {
      "cell_type": "code",
      "metadata": {
        "id": "DpS-HI6KN7uG",
        "colab_type": "code",
        "colab": {
          "base_uri": "https://localhost:8080/",
          "height": 414
        },
        "outputId": "60c1acd7-ff85-49ba-96c9-5043658ace59"
      },
      "source": [
        "plt.plot(range(len(losses)), losses)\n",
        "plt.ylabel(\"loss\")\n",
        "plt.xlabel(\"epochs\")\n",
        "plt.title(\"loss change during training\")\n",
        "plt.show()\n",
        "print(\"\\n\\nEvaluating the performance of the model on the test set:\")\n",
        "evaluate(model, testloader)"
      ],
      "execution_count": 11,
      "outputs": [
        {
          "output_type": "display_data",
          "data": {
            "image/png": "[encoded data removed]",
            "text/plain": [
              "<Figure size 432x288 with 1 Axes>"
            ]
          },
          "metadata": {
            "tags": [],
            "needs_background": "light"
          }
        },
        {
          "output_type": "stream",
          "text": [
            "11it [00:00, 102.87it/s]"
          ],
          "name": "stderr"
        },
        {
          "output_type": "stream",
          "text": [
            "\n",
            "\n",
            "Evaluating the performance of the model on the test set:\n"
          ],
          "name": "stdout"
        },
        {
          "output_type": "stream",
          "text": [
            "157it [00:01, 103.27it/s]"
          ],
          "name": "stderr"
        },
        {
          "output_type": "stream",
          "text": [
            "\n",
            "Test set: Avg. loss: 1.4801, Accuracy: 9811/10000 (98%)\n",
            "\n"
          ],
          "name": "stdout"
        },
        {
          "output_type": "stream",
          "text": [
            "\n"
          ],
          "name": "stderr"
        }
      ]
    },
    {
      "cell_type": "code",
      "metadata": {
        "id": "ef-3sxzQN7uI",
        "colab_type": "code",
        "colab": {}
      },
      "source": [
        ""
      ],
      "execution_count": null,
      "outputs": []
    },
    {
      "cell_type": "code",
      "metadata": {
        "id": "BMxYXbY_sBMG",
        "colab_type": "code",
        "colab": {}
      },
      "source": [
        ""
      ],
      "execution_count": null,
      "outputs": []
    }
  ]
}